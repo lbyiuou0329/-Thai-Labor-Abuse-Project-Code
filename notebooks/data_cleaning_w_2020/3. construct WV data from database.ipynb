{
 "cells": [
  {
   "cell_type": "markdown",
   "metadata": {},
   "source": [
    "<h1>Initial Cleaning from db</h1>"
   ]
  },
  {
   "cell_type": "code",
   "execution_count": 1,
   "metadata": {},
   "outputs": [
    {
     "name": "stdout",
     "output_type": "stream",
     "text": [
      "(13492, 63)\n",
      "(77, 9)\n"
     ]
    }
   ],
   "source": [
    "import os\n",
    "import pandas as pd\n",
    "import numpy as np\n",
    "import matplotlib.pyplot as plt\n",
    "%matplotlib inline\n",
    "\n",
    "\n",
    "data_dir = '/Users/boyuliu/pyprojects/Joann/Joann-Thailand-Project/notebooks/datasets/new_dataset/'\n",
    "# cases_kpis = data_dir + 'cases_kpis.csv'\n",
    "cases = data_dir + 'cases.csv'\n",
    "kpi_class = '/Users/boyuliu/Dropbox (MIT)/Boyu-Joann/Data/new_data/Cases_KPI.csv'\n",
    "\n",
    "# cases_kpis = pd.read_csv(cases_kpis)\n",
    "# print(cases_kpis.shape)\n",
    "cases = pd.read_csv(cases)\n",
    "print(cases.shape)\n",
    "kpi_class = pd.read_csv(kpi_class)\n",
    "print(kpi_class.shape)"
   ]
  },
  {
   "cell_type": "code",
   "execution_count": 2,
   "metadata": {},
   "outputs": [
    {
     "data": {
      "text/html": [
       "<div>\n",
       "<style scoped>\n",
       "    .dataframe tbody tr th:only-of-type {\n",
       "        vertical-align: middle;\n",
       "    }\n",
       "\n",
       "    .dataframe tbody tr th {\n",
       "        vertical-align: top;\n",
       "    }\n",
       "\n",
       "    .dataframe thead th {\n",
       "        text-align: right;\n",
       "    }\n",
       "</style>\n",
       "<table border=\"1\" class=\"dataframe\">\n",
       "  <thead>\n",
       "    <tr style=\"text-align: right;\">\n",
       "      <th></th>\n",
       "      <th>id</th>\n",
       "      <th>name</th>\n",
       "      <th>created</th>\n",
       "      <th>last_modified</th>\n",
       "      <th>client_nickname</th>\n",
       "      <th>client_phonenumber</th>\n",
       "      <th>client_line_account</th>\n",
       "      <th>client_facebook_account</th>\n",
       "      <th>client_viber_account</th>\n",
       "      <th>client_share_info_consent</th>\n",
       "      <th>...</th>\n",
       "      <th>debt_bondage_broker</th>\n",
       "      <th>debt_bondage_detail_broker</th>\n",
       "      <th>issue_getting_better</th>\n",
       "      <th>issue_getting_better_description</th>\n",
       "      <th>issue_workers_affected</th>\n",
       "      <th>issue_workers_affected_description</th>\n",
       "      <th>case_status_id</th>\n",
       "      <th>issue_legacy_level</th>\n",
       "      <th>case_id</th>\n",
       "      <th>kpi_id</th>\n",
       "    </tr>\n",
       "  </thead>\n",
       "  <tbody>\n",
       "    <tr>\n",
       "      <th>0</th>\n",
       "      <td>41</td>\n",
       "      <td>NaN</td>\n",
       "      <td>2018-11-17</td>\n",
       "      <td>2019-03-01</td>\n",
       "      <td>NaN</td>\n",
       "      <td>NaN</td>\n",
       "      <td>NaN</td>\n",
       "      <td>NaN</td>\n",
       "      <td>NaN</td>\n",
       "      <td>Not sure; forgot to ask and need to check back...</td>\n",
       "      <td>...</td>\n",
       "      <td>NaN</td>\n",
       "      <td>NaN</td>\n",
       "      <td>NaN</td>\n",
       "      <td>NaN</td>\n",
       "      <td>NaN</td>\n",
       "      <td>NaN</td>\n",
       "      <td>1.0</td>\n",
       "      <td>1.0</td>\n",
       "      <td>NaN</td>\n",
       "      <td>NaN</td>\n",
       "    </tr>\n",
       "    <tr>\n",
       "      <th>1</th>\n",
       "      <td>62</td>\n",
       "      <td>NaN</td>\n",
       "      <td>2018-11-18</td>\n",
       "      <td>2020-08-11</td>\n",
       "      <td>NaN</td>\n",
       "      <td>NaN</td>\n",
       "      <td>NaN</td>\n",
       "      <td>NaN</td>\n",
       "      <td>NaN</td>\n",
       "      <td>Yes</td>\n",
       "      <td>...</td>\n",
       "      <td>NaN</td>\n",
       "      <td>NaN</td>\n",
       "      <td>NaN</td>\n",
       "      <td>NaN</td>\n",
       "      <td>0.0</td>\n",
       "      <td>NaN</td>\n",
       "      <td>1.0</td>\n",
       "      <td>2.0</td>\n",
       "      <td>62.0</td>\n",
       "      <td>55.0</td>\n",
       "    </tr>\n",
       "    <tr>\n",
       "      <th>2</th>\n",
       "      <td>70</td>\n",
       "      <td>NaN</td>\n",
       "      <td>2018-11-17</td>\n",
       "      <td>2019-04-23</td>\n",
       "      <td>NaN</td>\n",
       "      <td>NaN</td>\n",
       "      <td>NaN</td>\n",
       "      <td>NaN</td>\n",
       "      <td>NaN</td>\n",
       "      <td>NaN</td>\n",
       "      <td>...</td>\n",
       "      <td>NaN</td>\n",
       "      <td>NaN</td>\n",
       "      <td>NaN</td>\n",
       "      <td>NaN</td>\n",
       "      <td>NaN</td>\n",
       "      <td>NaN</td>\n",
       "      <td>1.0</td>\n",
       "      <td>3.0</td>\n",
       "      <td>70.0</td>\n",
       "      <td>29.0</td>\n",
       "    </tr>\n",
       "    <tr>\n",
       "      <th>3</th>\n",
       "      <td>73</td>\n",
       "      <td>NaN</td>\n",
       "      <td>2018-11-19</td>\n",
       "      <td>2019-03-01</td>\n",
       "      <td>NaN</td>\n",
       "      <td>NaN</td>\n",
       "      <td>NaN</td>\n",
       "      <td>NaN</td>\n",
       "      <td>NaN</td>\n",
       "      <td>NaN</td>\n",
       "      <td>...</td>\n",
       "      <td>NaN</td>\n",
       "      <td>NaN</td>\n",
       "      <td>NaN</td>\n",
       "      <td>NaN</td>\n",
       "      <td>NaN</td>\n",
       "      <td>NaN</td>\n",
       "      <td>1.0</td>\n",
       "      <td>1.0</td>\n",
       "      <td>NaN</td>\n",
       "      <td>NaN</td>\n",
       "    </tr>\n",
       "    <tr>\n",
       "      <th>4</th>\n",
       "      <td>93</td>\n",
       "      <td>NaN</td>\n",
       "      <td>2018-11-19</td>\n",
       "      <td>2019-09-08</td>\n",
       "      <td>NaN</td>\n",
       "      <td>NaN</td>\n",
       "      <td>NaN</td>\n",
       "      <td>NaN</td>\n",
       "      <td>NaN</td>\n",
       "      <td>Not sure; forgot to ask and need to check back...</td>\n",
       "      <td>...</td>\n",
       "      <td>NaN</td>\n",
       "      <td>NaN</td>\n",
       "      <td>NaN</td>\n",
       "      <td>NaN</td>\n",
       "      <td>NaN</td>\n",
       "      <td>NaN</td>\n",
       "      <td>1.0</td>\n",
       "      <td>2.0</td>\n",
       "      <td>NaN</td>\n",
       "      <td>NaN</td>\n",
       "    </tr>\n",
       "  </tbody>\n",
       "</table>\n",
       "<p>5 rows × 63 columns</p>\n",
       "</div>"
      ],
      "text/plain": [
       "   id  name     created last_modified  client_nickname  client_phonenumber  \\\n",
       "0  41   NaN  2018-11-17    2019-03-01              NaN                 NaN   \n",
       "1  62   NaN  2018-11-18    2020-08-11              NaN                 NaN   \n",
       "2  70   NaN  2018-11-17    2019-04-23              NaN                 NaN   \n",
       "3  73   NaN  2018-11-19    2019-03-01              NaN                 NaN   \n",
       "4  93   NaN  2018-11-19    2019-09-08              NaN                 NaN   \n",
       "\n",
       "   client_line_account  client_facebook_account  client_viber_account  \\\n",
       "0                  NaN                      NaN                   NaN   \n",
       "1                  NaN                      NaN                   NaN   \n",
       "2                  NaN                      NaN                   NaN   \n",
       "3                  NaN                      NaN                   NaN   \n",
       "4                  NaN                      NaN                   NaN   \n",
       "\n",
       "                           client_share_info_consent  ... debt_bondage_broker  \\\n",
       "0  Not sure; forgot to ask and need to check back...  ...                 NaN   \n",
       "1                                                Yes  ...                 NaN   \n",
       "2                                                NaN  ...                 NaN   \n",
       "3                                                NaN  ...                 NaN   \n",
       "4  Not sure; forgot to ask and need to check back...  ...                 NaN   \n",
       "\n",
       "  debt_bondage_detail_broker  issue_getting_better  \\\n",
       "0                        NaN                   NaN   \n",
       "1                        NaN                   NaN   \n",
       "2                        NaN                   NaN   \n",
       "3                        NaN                   NaN   \n",
       "4                        NaN                   NaN   \n",
       "\n",
       "  issue_getting_better_description  issue_workers_affected  \\\n",
       "0                              NaN                     NaN   \n",
       "1                              NaN                     0.0   \n",
       "2                              NaN                     NaN   \n",
       "3                              NaN                     NaN   \n",
       "4                              NaN                     NaN   \n",
       "\n",
       "  issue_workers_affected_description  case_status_id  issue_legacy_level  \\\n",
       "0                                NaN             1.0                 1.0   \n",
       "1                                NaN             1.0                 2.0   \n",
       "2                                NaN             1.0                 3.0   \n",
       "3                                NaN             1.0                 1.0   \n",
       "4                                NaN             1.0                 2.0   \n",
       "\n",
       "   case_id kpi_id  \n",
       "0      NaN    NaN  \n",
       "1     62.0   55.0  \n",
       "2     70.0   29.0  \n",
       "3      NaN    NaN  \n",
       "4      NaN    NaN  \n",
       "\n",
       "[5 rows x 63 columns]"
      ]
     },
     "execution_count": 2,
     "metadata": {},
     "output_type": "execute_result"
    }
   ],
   "source": [
    "cases.head()"
   ]
  },
  {
   "cell_type": "code",
   "execution_count": 3,
   "metadata": {},
   "outputs": [
    {
     "data": {
      "text/html": [
       "<div>\n",
       "<style scoped>\n",
       "    .dataframe tbody tr th:only-of-type {\n",
       "        vertical-align: middle;\n",
       "    }\n",
       "\n",
       "    .dataframe tbody tr th {\n",
       "        vertical-align: top;\n",
       "    }\n",
       "\n",
       "    .dataframe thead th {\n",
       "        text-align: right;\n",
       "    }\n",
       "</style>\n",
       "<table border=\"1\" class=\"dataframe\">\n",
       "  <thead>\n",
       "    <tr style=\"text-align: right;\">\n",
       "      <th></th>\n",
       "      <th>id</th>\n",
       "      <th>description</th>\n",
       "      <th>level</th>\n",
       "      <th>goal</th>\n",
       "      <th>kpi_category_id</th>\n",
       "      <th>Boyu - abuse including RA</th>\n",
       "      <th>Boyu - abuse excluding RA</th>\n",
       "      <th>Joann - abuse including RA</th>\n",
       "      <th>Joann - abuse restricted to employer only</th>\n",
       "    </tr>\n",
       "  </thead>\n",
       "  <tbody>\n",
       "    <tr>\n",
       "      <th>0</th>\n",
       "      <td>1</td>\n",
       "      <td>Lack of professional conduct of recruitment ag...</td>\n",
       "      <td>2</td>\n",
       "      <td>Recruiters and employers should treat each oth...</td>\n",
       "      <td>1</td>\n",
       "      <td>1</td>\n",
       "      <td>1</td>\n",
       "      <td>0</td>\n",
       "      <td>0</td>\n",
       "    </tr>\n",
       "    <tr>\n",
       "      <th>1</th>\n",
       "      <td>2</td>\n",
       "      <td>Treated poorly and/or threatened by RA or brok...</td>\n",
       "      <td>3</td>\n",
       "      <td>Recruiters and employers should treat each oth...</td>\n",
       "      <td>1</td>\n",
       "      <td>1</td>\n",
       "      <td>0</td>\n",
       "      <td>1</td>\n",
       "      <td>0</td>\n",
       "    </tr>\n",
       "    <tr>\n",
       "      <th>2</th>\n",
       "      <td>3</td>\n",
       "      <td>Inaccurate, misleading, or poor information ab...</td>\n",
       "      <td>2</td>\n",
       "      <td>Job advertisements should be comprehensive, up...</td>\n",
       "      <td>1</td>\n",
       "      <td>0</td>\n",
       "      <td>0</td>\n",
       "      <td>1</td>\n",
       "      <td>0</td>\n",
       "    </tr>\n",
       "    <tr>\n",
       "      <th>3</th>\n",
       "      <td>4</td>\n",
       "      <td>Document retention</td>\n",
       "      <td>3</td>\n",
       "      <td>Jobseekers and workers are in control of their...</td>\n",
       "      <td>1</td>\n",
       "      <td>1</td>\n",
       "      <td>1</td>\n",
       "      <td>1</td>\n",
       "      <td>1</td>\n",
       "    </tr>\n",
       "    <tr>\n",
       "      <th>4</th>\n",
       "      <td>6</td>\n",
       "      <td>Fees charged by upstream/village-level broker:...</td>\n",
       "      <td>2</td>\n",
       "      <td>In ethical recruitment arrangements, fees can ...</td>\n",
       "      <td>1</td>\n",
       "      <td>0</td>\n",
       "      <td>0</td>\n",
       "      <td>0</td>\n",
       "      <td>0</td>\n",
       "    </tr>\n",
       "  </tbody>\n",
       "</table>\n",
       "</div>"
      ],
      "text/plain": [
       "   id                                        description  level  \\\n",
       "0   1  Lack of professional conduct of recruitment ag...      2   \n",
       "1   2  Treated poorly and/or threatened by RA or brok...      3   \n",
       "2   3  Inaccurate, misleading, or poor information ab...      2   \n",
       "3   4                                 Document retention      3   \n",
       "4   6  Fees charged by upstream/village-level broker:...      2   \n",
       "\n",
       "                                                goal  kpi_category_id  \\\n",
       "0  Recruiters and employers should treat each oth...                1   \n",
       "1  Recruiters and employers should treat each oth...                1   \n",
       "2  Job advertisements should be comprehensive, up...                1   \n",
       "3  Jobseekers and workers are in control of their...                1   \n",
       "4  In ethical recruitment arrangements, fees can ...                1   \n",
       "\n",
       "   Boyu - abuse including RA  Boyu - abuse excluding RA  \\\n",
       "0                          1                          1   \n",
       "1                          1                          0   \n",
       "2                          0                          0   \n",
       "3                          1                          1   \n",
       "4                          0                          0   \n",
       "\n",
       "   Joann - abuse including RA  Joann - abuse restricted to employer only  \n",
       "0                           0                                          0  \n",
       "1                           1                                          0  \n",
       "2                           1                                          0  \n",
       "3                           1                                          1  \n",
       "4                           0                                          0  "
      ]
     },
     "execution_count": 3,
     "metadata": {},
     "output_type": "execute_result"
    }
   ],
   "source": [
    "kpi_class.head()"
   ]
  },
  {
   "cell_type": "code",
   "execution_count": 4,
   "metadata": {},
   "outputs": [
    {
     "name": "stdout",
     "output_type": "stream",
     "text": [
      "13492 cases\n",
      "0 has empty date\n",
      "3025 has empty province\n"
     ]
    }
   ],
   "source": [
    "print('%s cases' % cases.shape[0])\n",
    "print('%s has empty date' % sum(pd.isnull(cases.created)))\n",
    "print('%s has empty province' % sum(pd.isnull(cases.province_id)))"
   ]
  },
  {
   "cell_type": "code",
   "execution_count": 5,
   "metadata": {},
   "outputs": [
    {
     "name": "stdout",
     "output_type": "stream",
     "text": [
      "10467 cases after cleaning\n",
      "(10467, 14) (10467, 14) (10467, 14) (10467, 14)\n"
     ]
    }
   ],
   "source": [
    "kpi_choice1 = 'Boyu - abuse including RA'\n",
    "kpi_choice2 = 'Boyu - abuse excluding RA'\n",
    "kpi_choice3 = 'Joann - abuse including RA'\n",
    "kpi_choice4 = 'Joann - abuse restricted to employer only'\n",
    "cases_cols = ['created','client_ethnicity_id', 'client_gender_id', 'client_nationality_id', 'client_status_id', \n",
    "              'country_id', 'district_id', 'province_id', 'client_origin_country_id', \n",
    "              'client_origin_province_id', 'supplier_id', 'kpi_id']\n",
    "\n",
    "cases_lean = cases[cases_cols]\n",
    "cases_lean = cases_lean[pd.notnull(cases.created)]\n",
    "cases_lean = cases_lean[cases_lean.created >='2017']\n",
    "cases_lean = cases_lean[pd.notnull(cases.province_id)]\n",
    "print('%s cases after cleaning' % cases_lean.shape[0])\n",
    "\n",
    "cases1 = pd.merge(cases_lean, kpi_class[['id', kpi_choice1]], how='left', left_on='kpi_id', right_on='id')\n",
    "cases2 = pd.merge(cases_lean, kpi_class[['id', kpi_choice2]], how='left', left_on='kpi_id', right_on='id')\n",
    "cases3 = pd.merge(cases_lean, kpi_class[['id', kpi_choice3]], how='left', left_on='kpi_id', right_on='id')\n",
    "cases4 = pd.merge(cases_lean, kpi_class[['id', kpi_choice4]], how='left', left_on='kpi_id', right_on='id')\n",
    "print(cases1.shape, cases2.shape, cases3.shape, cases4.shape)"
   ]
  },
  {
   "cell_type": "code",
   "execution_count": 32,
   "metadata": {},
   "outputs": [
    {
     "name": "stderr",
     "output_type": "stream",
     "text": [
      "/usr/local/lib/python3.7/site-packages/ipykernel_launcher.py:12: UserWarning: Boolean Series key will be reindexed to match DataFrame index.\n",
      "  if sys.path[0] == '':\n"
     ]
    },
    {
     "name": "stdout",
     "output_type": "stream",
     "text": [
      "8951 cases after cleaning\n",
      "(8951, 14) (8951, 14) (8951, 14) (8951, 14)\n"
     ]
    }
   ],
   "source": [
    "# old\n",
    "\n",
    "# kpi_choice1 = 'Boyu - abuse including RA'\n",
    "# kpi_choice2 = 'Boyu - abuse excluding RA'\n",
    "# kpi_choice3 = 'Joann - abuse including RA'\n",
    "# kpi_choice4 = 'Joann - abuse restricted to employer only'\n",
    "# cases_cols = ['created','client_ethnicity_id', 'client_gender_id', 'client_nationality_id', 'client_status_id', \n",
    "#               'country_id', 'district_id', 'province_id', 'client_origin_country_id', \n",
    "#               'client_origin_province_id', 'supplier_id', 'kpi_id']\n",
    "\n",
    "# cases_lean = cases[cases_cols]\n",
    "# cases_lean = cases_lean[pd.notnull(cases.created)]\n",
    "# cases_lean = cases_lean[cases_lean.created >='2017']\n",
    "# cases_lean = cases_lean[pd.notnull(cases.province_id)]\n",
    "# print('%s cases after cleaning' % cases_lean.shape[0])\n",
    "\n",
    "# cases1 = pd.merge(cases_lean, kpi_class[['id', kpi_choice1]], how='left', left_on='kpi_id', right_on='id')\n",
    "# cases2 = pd.merge(cases_lean, kpi_class[['id', kpi_choice2]], how='left', left_on='kpi_id', right_on='id')\n",
    "# cases3 = pd.merge(cases_lean, kpi_class[['id', kpi_choice3]], how='left', left_on='kpi_id', right_on='id')\n",
    "# cases4 = pd.merge(cases_lean, kpi_class[['id', kpi_choice4]], how='left', left_on='kpi_id', right_on='id')\n",
    "# print(cases1.shape, cases2.shape, cases3.shape, cases4.shape)"
   ]
  },
  {
   "cell_type": "code",
   "execution_count": 6,
   "metadata": {},
   "outputs": [],
   "source": [
    "cases1['abuse'] = cases1[kpi_choice1]==1\n",
    "cases2['abuse'] = cases2[kpi_choice2]==1\n",
    "cases3['abuse'] = cases3[kpi_choice3]==1\n",
    "cases4['abuse'] = cases4[kpi_choice4]==1"
   ]
  },
  {
   "cell_type": "code",
   "execution_count": 7,
   "metadata": {},
   "outputs": [
    {
     "data": {
      "text/html": [
       "<div>\n",
       "<style scoped>\n",
       "    .dataframe tbody tr th:only-of-type {\n",
       "        vertical-align: middle;\n",
       "    }\n",
       "\n",
       "    .dataframe tbody tr th {\n",
       "        vertical-align: top;\n",
       "    }\n",
       "\n",
       "    .dataframe thead th {\n",
       "        text-align: right;\n",
       "    }\n",
       "</style>\n",
       "<table border=\"1\" class=\"dataframe\">\n",
       "  <thead>\n",
       "    <tr style=\"text-align: right;\">\n",
       "      <th></th>\n",
       "      <th>created</th>\n",
       "      <th>client_ethnicity_id</th>\n",
       "      <th>client_gender_id</th>\n",
       "      <th>client_nationality_id</th>\n",
       "      <th>client_status_id</th>\n",
       "      <th>country_id</th>\n",
       "      <th>district_id</th>\n",
       "      <th>province_id</th>\n",
       "      <th>client_origin_country_id</th>\n",
       "      <th>client_origin_province_id</th>\n",
       "      <th>supplier_id</th>\n",
       "      <th>kpi_id</th>\n",
       "      <th>id</th>\n",
       "      <th>Boyu - abuse including RA</th>\n",
       "      <th>abuse</th>\n",
       "    </tr>\n",
       "  </thead>\n",
       "  <tbody>\n",
       "    <tr>\n",
       "      <th>0</th>\n",
       "      <td>2018-11-17</td>\n",
       "      <td>1.0</td>\n",
       "      <td>1.0</td>\n",
       "      <td>5.0</td>\n",
       "      <td>3.0</td>\n",
       "      <td>8.0</td>\n",
       "      <td>NaN</td>\n",
       "      <td>70.0</td>\n",
       "      <td>8.0</td>\n",
       "      <td>51.0</td>\n",
       "      <td>5685.0</td>\n",
       "      <td>NaN</td>\n",
       "      <td>NaN</td>\n",
       "      <td>NaN</td>\n",
       "      <td>False</td>\n",
       "    </tr>\n",
       "    <tr>\n",
       "      <th>1</th>\n",
       "      <td>2018-11-18</td>\n",
       "      <td>1.0</td>\n",
       "      <td>2.0</td>\n",
       "      <td>5.0</td>\n",
       "      <td>3.0</td>\n",
       "      <td>8.0</td>\n",
       "      <td>367.0</td>\n",
       "      <td>119.0</td>\n",
       "      <td>8.0</td>\n",
       "      <td>49.0</td>\n",
       "      <td>391.0</td>\n",
       "      <td>55.0</td>\n",
       "      <td>55.0</td>\n",
       "      <td>0.0</td>\n",
       "      <td>False</td>\n",
       "    </tr>\n",
       "    <tr>\n",
       "      <th>2</th>\n",
       "      <td>2018-11-17</td>\n",
       "      <td>NaN</td>\n",
       "      <td>1.0</td>\n",
       "      <td>5.0</td>\n",
       "      <td>3.0</td>\n",
       "      <td>8.0</td>\n",
       "      <td>NaN</td>\n",
       "      <td>105.0</td>\n",
       "      <td>8.0</td>\n",
       "      <td>NaN</td>\n",
       "      <td>1083.0</td>\n",
       "      <td>29.0</td>\n",
       "      <td>29.0</td>\n",
       "      <td>1.0</td>\n",
       "      <td>True</td>\n",
       "    </tr>\n",
       "    <tr>\n",
       "      <th>3</th>\n",
       "      <td>2018-11-19</td>\n",
       "      <td>1.0</td>\n",
       "      <td>1.0</td>\n",
       "      <td>5.0</td>\n",
       "      <td>3.0</td>\n",
       "      <td>8.0</td>\n",
       "      <td>NaN</td>\n",
       "      <td>114.0</td>\n",
       "      <td>8.0</td>\n",
       "      <td>51.0</td>\n",
       "      <td>NaN</td>\n",
       "      <td>NaN</td>\n",
       "      <td>NaN</td>\n",
       "      <td>NaN</td>\n",
       "      <td>False</td>\n",
       "    </tr>\n",
       "    <tr>\n",
       "      <th>4</th>\n",
       "      <td>2018-11-19</td>\n",
       "      <td>1.0</td>\n",
       "      <td>1.0</td>\n",
       "      <td>5.0</td>\n",
       "      <td>11.0</td>\n",
       "      <td>8.0</td>\n",
       "      <td>369.0</td>\n",
       "      <td>77.0</td>\n",
       "      <td>8.0</td>\n",
       "      <td>49.0</td>\n",
       "      <td>5685.0</td>\n",
       "      <td>NaN</td>\n",
       "      <td>NaN</td>\n",
       "      <td>NaN</td>\n",
       "      <td>False</td>\n",
       "    </tr>\n",
       "  </tbody>\n",
       "</table>\n",
       "</div>"
      ],
      "text/plain": [
       "      created  client_ethnicity_id  client_gender_id  client_nationality_id  \\\n",
       "0  2018-11-17                  1.0               1.0                    5.0   \n",
       "1  2018-11-18                  1.0               2.0                    5.0   \n",
       "2  2018-11-17                  NaN               1.0                    5.0   \n",
       "3  2018-11-19                  1.0               1.0                    5.0   \n",
       "4  2018-11-19                  1.0               1.0                    5.0   \n",
       "\n",
       "   client_status_id  country_id  district_id  province_id  \\\n",
       "0               3.0         8.0          NaN         70.0   \n",
       "1               3.0         8.0        367.0        119.0   \n",
       "2               3.0         8.0          NaN        105.0   \n",
       "3               3.0         8.0          NaN        114.0   \n",
       "4              11.0         8.0        369.0         77.0   \n",
       "\n",
       "   client_origin_country_id  client_origin_province_id  supplier_id  kpi_id  \\\n",
       "0                       8.0                       51.0       5685.0     NaN   \n",
       "1                       8.0                       49.0        391.0    55.0   \n",
       "2                       8.0                        NaN       1083.0    29.0   \n",
       "3                       8.0                       51.0          NaN     NaN   \n",
       "4                       8.0                       49.0       5685.0     NaN   \n",
       "\n",
       "     id  Boyu - abuse including RA  abuse  \n",
       "0   NaN                        NaN  False  \n",
       "1  55.0                        0.0  False  \n",
       "2  29.0                        1.0   True  \n",
       "3   NaN                        NaN  False  \n",
       "4   NaN                        NaN  False  "
      ]
     },
     "execution_count": 7,
     "metadata": {},
     "output_type": "execute_result"
    }
   ],
   "source": [
    "cases1.head()"
   ]
  },
  {
   "cell_type": "code",
   "execution_count": 9,
   "metadata": {},
   "outputs": [
    {
     "name": "stdout",
     "output_type": "stream",
     "text": [
      "6294\n"
     ]
    },
    {
     "data": {
      "text/plain": [
       "1.0    3376\n",
       "0.0     797\n",
       "Name: Boyu - abuse including RA, dtype: int64"
      ]
     },
     "execution_count": 9,
     "metadata": {},
     "output_type": "execute_result"
    }
   ],
   "source": [
    "print(sum(pd.isnull(cases1['Boyu - abuse including RA'])))\n",
    "cases1['Boyu - abuse including RA'].value_counts()"
   ]
  },
  {
   "cell_type": "code",
   "execution_count": 8,
   "metadata": {},
   "outputs": [
    {
     "name": "stdout",
     "output_type": "stream",
     "text": [
      "3376 3194 3377 3187\n"
     ]
    }
   ],
   "source": [
    "# number of abuse cases according each classification\n",
    "print(sum(cases1.abuse), sum(cases2.abuse), sum(cases3.abuse), sum(cases4.abuse))"
   ]
  },
  {
   "cell_type": "code",
   "execution_count": 9,
   "metadata": {},
   "outputs": [],
   "source": [
    "cases1.to_csv(data_dir + 'cases_boyu_incl.csv', index=False)\n",
    "cases2.to_csv(data_dir + 'cases_boyu_excl.csv', index=False)\n",
    "cases3.to_csv(data_dir + 'cases_joann_incl.csv', index=False)\n",
    "cases4.to_csv(data_dir + 'cases_joann_excl.csv', index=False)"
   ]
  },
  {
   "cell_type": "markdown",
   "metadata": {},
   "source": [
    "# some descriptive stats"
   ]
  },
  {
   "cell_type": "code",
   "execution_count": 2,
   "metadata": {},
   "outputs": [
    {
     "data": {
      "text/html": [
       "<div>\n",
       "<style scoped>\n",
       "    .dataframe tbody tr th:only-of-type {\n",
       "        vertical-align: middle;\n",
       "    }\n",
       "\n",
       "    .dataframe tbody tr th {\n",
       "        vertical-align: top;\n",
       "    }\n",
       "\n",
       "    .dataframe thead th {\n",
       "        text-align: right;\n",
       "    }\n",
       "</style>\n",
       "<table border=\"1\" class=\"dataframe\">\n",
       "  <thead>\n",
       "    <tr style=\"text-align: right;\">\n",
       "      <th></th>\n",
       "      <th>created</th>\n",
       "      <th>client_ethnicity_id</th>\n",
       "      <th>client_gender_id</th>\n",
       "      <th>client_nationality_id</th>\n",
       "      <th>client_status_id</th>\n",
       "      <th>country_id</th>\n",
       "      <th>district_id</th>\n",
       "      <th>province_id</th>\n",
       "      <th>client_origin_country_id</th>\n",
       "      <th>client_origin_province_id</th>\n",
       "      <th>supplier_id</th>\n",
       "      <th>kpi_id</th>\n",
       "      <th>id</th>\n",
       "      <th>Boyu - abuse including RA</th>\n",
       "      <th>abuse</th>\n",
       "    </tr>\n",
       "  </thead>\n",
       "  <tbody>\n",
       "    <tr>\n",
       "      <th>0</th>\n",
       "      <td>2018-11-17</td>\n",
       "      <td>1.0</td>\n",
       "      <td>1.0</td>\n",
       "      <td>5.0</td>\n",
       "      <td>3.0</td>\n",
       "      <td>8.0</td>\n",
       "      <td>NaN</td>\n",
       "      <td>70.0</td>\n",
       "      <td>8.0</td>\n",
       "      <td>51.0</td>\n",
       "      <td>5685.0</td>\n",
       "      <td>NaN</td>\n",
       "      <td>NaN</td>\n",
       "      <td>NaN</td>\n",
       "      <td>False</td>\n",
       "    </tr>\n",
       "    <tr>\n",
       "      <th>1</th>\n",
       "      <td>2018-11-18</td>\n",
       "      <td>1.0</td>\n",
       "      <td>2.0</td>\n",
       "      <td>5.0</td>\n",
       "      <td>3.0</td>\n",
       "      <td>8.0</td>\n",
       "      <td>367.0</td>\n",
       "      <td>119.0</td>\n",
       "      <td>8.0</td>\n",
       "      <td>49.0</td>\n",
       "      <td>391.0</td>\n",
       "      <td>55.0</td>\n",
       "      <td>55.0</td>\n",
       "      <td>0.0</td>\n",
       "      <td>False</td>\n",
       "    </tr>\n",
       "    <tr>\n",
       "      <th>2</th>\n",
       "      <td>2018-11-17</td>\n",
       "      <td>NaN</td>\n",
       "      <td>1.0</td>\n",
       "      <td>5.0</td>\n",
       "      <td>3.0</td>\n",
       "      <td>8.0</td>\n",
       "      <td>NaN</td>\n",
       "      <td>105.0</td>\n",
       "      <td>8.0</td>\n",
       "      <td>NaN</td>\n",
       "      <td>1083.0</td>\n",
       "      <td>29.0</td>\n",
       "      <td>29.0</td>\n",
       "      <td>1.0</td>\n",
       "      <td>True</td>\n",
       "    </tr>\n",
       "    <tr>\n",
       "      <th>3</th>\n",
       "      <td>2018-11-19</td>\n",
       "      <td>1.0</td>\n",
       "      <td>1.0</td>\n",
       "      <td>5.0</td>\n",
       "      <td>3.0</td>\n",
       "      <td>8.0</td>\n",
       "      <td>NaN</td>\n",
       "      <td>114.0</td>\n",
       "      <td>8.0</td>\n",
       "      <td>51.0</td>\n",
       "      <td>NaN</td>\n",
       "      <td>NaN</td>\n",
       "      <td>NaN</td>\n",
       "      <td>NaN</td>\n",
       "      <td>False</td>\n",
       "    </tr>\n",
       "    <tr>\n",
       "      <th>4</th>\n",
       "      <td>2018-11-19</td>\n",
       "      <td>1.0</td>\n",
       "      <td>1.0</td>\n",
       "      <td>5.0</td>\n",
       "      <td>11.0</td>\n",
       "      <td>8.0</td>\n",
       "      <td>369.0</td>\n",
       "      <td>77.0</td>\n",
       "      <td>8.0</td>\n",
       "      <td>49.0</td>\n",
       "      <td>5685.0</td>\n",
       "      <td>NaN</td>\n",
       "      <td>NaN</td>\n",
       "      <td>NaN</td>\n",
       "      <td>False</td>\n",
       "    </tr>\n",
       "  </tbody>\n",
       "</table>\n",
       "</div>"
      ],
      "text/plain": [
       "      created  client_ethnicity_id  client_gender_id  client_nationality_id  \\\n",
       "0  2018-11-17                  1.0               1.0                    5.0   \n",
       "1  2018-11-18                  1.0               2.0                    5.0   \n",
       "2  2018-11-17                  NaN               1.0                    5.0   \n",
       "3  2018-11-19                  1.0               1.0                    5.0   \n",
       "4  2018-11-19                  1.0               1.0                    5.0   \n",
       "\n",
       "   client_status_id  country_id  district_id  province_id  \\\n",
       "0               3.0         8.0          NaN         70.0   \n",
       "1               3.0         8.0        367.0        119.0   \n",
       "2               3.0         8.0          NaN        105.0   \n",
       "3               3.0         8.0          NaN        114.0   \n",
       "4              11.0         8.0        369.0         77.0   \n",
       "\n",
       "   client_origin_country_id  client_origin_province_id  supplier_id  kpi_id  \\\n",
       "0                       8.0                       51.0       5685.0     NaN   \n",
       "1                       8.0                       49.0        391.0    55.0   \n",
       "2                       8.0                        NaN       1083.0    29.0   \n",
       "3                       8.0                       51.0          NaN     NaN   \n",
       "4                       8.0                       49.0       5685.0     NaN   \n",
       "\n",
       "     id  Boyu - abuse including RA  abuse  \n",
       "0   NaN                        NaN  False  \n",
       "1  55.0                        0.0  False  \n",
       "2  29.0                        1.0   True  \n",
       "3   NaN                        NaN  False  \n",
       "4   NaN                        NaN  False  "
      ]
     },
     "execution_count": 2,
     "metadata": {},
     "output_type": "execute_result"
    }
   ],
   "source": [
    "cases1 = pd.read_csv(data_dir + 'cases_boyu_incl.csv')\n",
    "cases1.head()"
   ]
  },
  {
   "cell_type": "code",
   "execution_count": 4,
   "metadata": {},
   "outputs": [
    {
     "data": {
      "text/plain": [
       "(10467, 10467)"
      ]
     },
     "execution_count": 4,
     "metadata": {},
     "output_type": "execute_result"
    }
   ],
   "source": [
    "sum(pd.notnull(cases1.province_id)), cases1.shape[0]"
   ]
  },
  {
   "cell_type": "code",
   "execution_count": 5,
   "metadata": {},
   "outputs": [
    {
     "data": {
      "text/plain": [
       "Index(['id', 'name', 'created', 'last_modified', 'client_nickname',\n",
       "       'client_phonenumber', 'client_line_account', 'client_facebook_account',\n",
       "       'client_viber_account', 'client_share_info_consent',\n",
       "       'issara_supply_chain', 'non_supply_chain', 'description',\n",
       "       'debt_bondage', 'debt_bondage_detail', 'vot_needs', 'referral_notes',\n",
       "       'next_steps', 'work_place_details', 'dead_line_date', 'final_remarks',\n",
       "       'client_contract_type_id', 'client_document_type_id',\n",
       "       'client_ethnicity_id', 'client_gender_id', 'client_nationality_id',\n",
       "       'client_status_id', 'client_type_id', 'destination_recruiter_id',\n",
       "       'issara_staff_id', 'next_steps_issara_staff_id', 'rating_dest_employer',\n",
       "       'rating_dest_recruiter', 'rating_source_broker',\n",
       "       'rating_source_recruiter', 'referral_action_id', 'source_recruiter_id',\n",
       "       'source_upstream_broker', 'supplier_id', 'work_place_id',\n",
       "       'client_time_at_job', 'country_id', 'district_id', 'province_id',\n",
       "       'client_crossing_country_id', 'client_crossing_district_id',\n",
       "       'client_crossing_province_id', 'client_origin_country_id',\n",
       "       'client_origin_district_id', 'client_origin_province_id',\n",
       "       'issue_category_id', 'issue_description', 'case_category_id',\n",
       "       'debt_bondage_broker', 'debt_bondage_detail_broker',\n",
       "       'issue_getting_better', 'issue_getting_better_description',\n",
       "       'issue_workers_affected', 'issue_workers_affected_description',\n",
       "       'case_status_id', 'issue_legacy_level', 'case_id', 'kpi_id'],\n",
       "      dtype='object')"
      ]
     },
     "execution_count": 5,
     "metadata": {},
     "output_type": "execute_result"
    }
   ],
   "source": [
    "cases.columns"
   ]
  },
  {
   "cell_type": "code",
   "execution_count": 7,
   "metadata": {},
   "outputs": [
    {
     "data": {
      "text/plain": [
       "(10467, 13492, 0.7757930625555884)"
      ]
     },
     "execution_count": 7,
     "metadata": {},
     "output_type": "execute_result"
    }
   ],
   "source": [
    "sum(pd.notnull(cases.province_id)), cases.shape[0], sum(pd.notnull(cases.province_id))/cases.shape[0]"
   ]
  },
  {
   "cell_type": "code",
   "execution_count": 11,
   "metadata": {},
   "outputs": [
    {
     "name": "stdout",
     "output_type": "stream",
     "text": [
      "13197 8633 13492 0.33827453305662614\n"
     ]
    }
   ],
   "source": [
    "null_count = sum(pd.notnull(cases.supplier_id))\n",
    "na_count = sum(cases.supplier_id==1083)\n",
    "total = cases.shape[0]\n",
    "print(null_count, na_count, total, ((null_count - na_count)/total))"
   ]
  },
  {
   "cell_type": "code",
   "execution_count": 9,
   "metadata": {},
   "outputs": [
    {
     "data": {
      "text/plain": [
       "1083.0     8633\n",
       "5685.0      797\n",
       "362.0       389\n",
       "1112.0      299\n",
       "455.0       280\n",
       "           ... \n",
       "7854.0        1\n",
       "209.0         1\n",
       "475.0         1\n",
       "2639.0        1\n",
       "14410.0       1\n",
       "Name: supplier_id, Length: 89, dtype: int64"
      ]
     },
     "execution_count": 9,
     "metadata": {},
     "output_type": "execute_result"
    }
   ],
   "source": [
    "cases.supplier_id.value_counts()"
   ]
  },
  {
   "cell_type": "markdown",
   "metadata": {},
   "source": [
    "<h1>some exploration for sanity check<h1>"
   ]
  },
  {
   "cell_type": "code",
   "execution_count": 11,
   "metadata": {},
   "outputs": [
    {
     "data": {
      "text/plain": [
       "70.0     2284\n",
       "123.0    1562\n",
       "121.0    1010\n",
       "77.0      925\n",
       "119.0     479\n",
       "         ... \n",
       "21.0        1\n",
       "73.0        1\n",
       "39.0        1\n",
       "104.0       1\n",
       "126.0       1\n",
       "Name: province_id, Length: 82, dtype: int64"
      ]
     },
     "execution_count": 11,
     "metadata": {},
     "output_type": "execute_result"
    }
   ],
   "source": [
    "## some exploration for sanity check\n",
    "cases_lean.province_id.value_counts()"
   ]
  },
  {
   "cell_type": "code",
   "execution_count": 12,
   "metadata": {},
   "outputs": [
    {
     "name": "stdout",
     "output_type": "stream",
     "text": [
      "2020-12-09 2018-09-01\n"
     ]
    },
    {
     "data": {
      "text/plain": [
       "count          10467\n",
       "unique           757\n",
       "top       2020-11-16\n",
       "freq              78\n",
       "Name: created, dtype: object"
      ]
     },
     "execution_count": 12,
     "metadata": {},
     "output_type": "execute_result"
    }
   ],
   "source": [
    "print(cases_lean.created.max(), cases_lean.created.min())\n",
    "cases_lean.created.describe()"
   ]
  },
  {
   "cell_type": "code",
   "execution_count": 13,
   "metadata": {},
   "outputs": [
    {
     "data": {
      "text/plain": [
       "(0, 10467)"
      ]
     },
     "execution_count": 13,
     "metadata": {},
     "output_type": "execute_result"
    }
   ],
   "source": [
    "sum(cases_lean.created < '2017'), sum(cases_lean.created >='2017')"
   ]
  },
  {
   "cell_type": "code",
   "execution_count": 14,
   "metadata": {},
   "outputs": [
    {
     "data": {
      "text/plain": [
       "Index(['id', 'name', 'created', 'last_modified', 'client_nickname',\n",
       "       'client_phonenumber', 'client_line_account', 'client_facebook_account',\n",
       "       'client_viber_account', 'client_share_info_consent',\n",
       "       'issara_supply_chain', 'non_supply_chain', 'description',\n",
       "       'debt_bondage', 'debt_bondage_detail', 'vot_needs', 'referral_notes',\n",
       "       'next_steps', 'work_place_details', 'dead_line_date', 'final_remarks',\n",
       "       'client_contract_type_id', 'client_document_type_id',\n",
       "       'client_ethnicity_id', 'client_gender_id', 'client_nationality_id',\n",
       "       'client_status_id', 'client_type_id', 'destination_recruiter_id',\n",
       "       'issara_staff_id', 'next_steps_issara_staff_id', 'rating_dest_employer',\n",
       "       'rating_dest_recruiter', 'rating_source_broker',\n",
       "       'rating_source_recruiter', 'referral_action_id', 'source_recruiter_id',\n",
       "       'source_upstream_broker', 'supplier_id', 'work_place_id',\n",
       "       'client_time_at_job', 'country_id', 'district_id', 'province_id',\n",
       "       'client_crossing_country_id', 'client_crossing_district_id',\n",
       "       'client_crossing_province_id', 'client_origin_country_id',\n",
       "       'client_origin_district_id', 'client_origin_province_id',\n",
       "       'issue_category_id', 'issue_description', 'case_category_id',\n",
       "       'debt_bondage_broker', 'debt_bondage_detail_broker',\n",
       "       'issue_getting_better', 'issue_getting_better_description',\n",
       "       'issue_workers_affected', 'issue_workers_affected_description',\n",
       "       'case_status_id', 'issue_legacy_level', 'case_id', 'kpi_id'],\n",
       "      dtype='object')"
      ]
     },
     "execution_count": 14,
     "metadata": {},
     "output_type": "execute_result"
    }
   ],
   "source": [
    "cases.columns"
   ]
  },
  {
   "cell_type": "code",
   "execution_count": 18,
   "metadata": {},
   "outputs": [
    {
     "data": {
      "image/png": "[encoded data removed]",
      "text/plain": [
       "<Figure size 1728x1152 with 1 Axes>"
      ]
     },
     "metadata": {
      "needs_background": "light"
     },
     "output_type": "display_data"
    }
   ],
   "source": [
    "# import seaborn as sns\n",
    "# from datetime import datetime as dt\n",
    "\n",
    "# def date_to_year_week(d):\n",
    "#     year_week = dt.strptime(d, '%Y-%m-%d').strftime('%Y-%W')\n",
    "#     yr, wk = year_week.split('-')\n",
    "#     return '%s-%02d' % (yr, (int(wk)+1))\n",
    "\n",
    "# cases_lean['year_week'] = cases_lean['created'].apply(date_to_year_week)\n",
    "\n",
    "a4_dims = (24, 16)\n",
    "fig, ax = plt.subplots(figsize=a4_dims)\n",
    "histp = sns.histplot(cases_lean.year_week)\n",
    "for item in histp.get_xticklabels():\n",
    "    item.set_rotation(45)\n",
    "plt.show()"
   ]
  },
  {
   "cell_type": "code",
   "execution_count": 21,
   "metadata": {},
   "outputs": [
    {
     "data": {
      "text/plain": [
       "['2018-36',\n",
       " '2018-36',\n",
       " '2018-36',\n",
       " '2018-36',\n",
       " '2018-36',\n",
       " '2018-36',\n",
       " '2018-36',\n",
       " '2018-36',\n",
       " '2018-37',\n",
       " '2018-37',\n",
       " '2018-37',\n",
       " '2018-37',\n",
       " '2018-37',\n",
       " '2018-37',\n",
       " '2018-37',\n",
       " '2018-37',\n",
       " '2018-37',\n",
       " '2018-37',\n",
       " '2018-37',\n",
       " '2018-37',\n",
       " '2018-37',\n",
       " '2018-37',\n",
       " '2018-37',\n",
       " '2018-37',\n",
       " '2018-37',\n",
       " '2018-37',\n",
       " '2018-37',\n",
       " '2018-37',\n",
       " '2018-37',\n",
       " '2018-38',\n",
       " '2018-38',\n",
       " '2018-38',\n",
       " '2018-38',\n",
       " '2018-38',\n",
       " '2018-38',\n",
       " '2018-38',\n",
       " '2018-38',\n",
       " '2018-38',\n",
       " '2018-39',\n",
       " '2018-39',\n",
       " '2018-39',\n",
       " '2018-39',\n",
       " '2018-39',\n",
       " '2018-39',\n",
       " '2018-39',\n",
       " '2018-39',\n",
       " '2018-40',\n",
       " '2018-40',\n",
       " '2018-40',\n",
       " '2018-40']"
      ]
     },
     "execution_count": 21,
     "metadata": {},
     "output_type": "execute_result"
    }
   ],
   "source": [
    "sorted(cases_lean.year_week)[:50]"
   ]
  },
  {
   "cell_type": "code",
   "execution_count": 25,
   "metadata": {},
   "outputs": [
    {
     "data": {
      "text/plain": [
       "year_week\n",
       "2018-36     8\n",
       "2018-37    21\n",
       "2018-38     9\n",
       "2018-39     8\n",
       "2018-40     4\n",
       "2018-41     8\n",
       "2018-42     5\n",
       "2018-43     5\n",
       "2018-45    50\n",
       "2018-46    53\n",
       "2018-47    38\n",
       "2018-48    41\n",
       "2018-49    67\n",
       "2018-50    37\n",
       "2018-51    19\n",
       "2018-52    29\n",
       "2019-01    29\n",
       "2019-02    45\n",
       "2019-03    66\n",
       "2019-04    52\n",
       "Name: created, dtype: int64"
      ]
     },
     "execution_count": 25,
     "metadata": {},
     "output_type": "execute_result"
    }
   ],
   "source": [
    "cases_lean.groupby('year_week').count()['created'][:20]"
   ]
  },
  {
   "cell_type": "markdown",
   "metadata": {},
   "source": [
    "# classification description"
   ]
  },
  {
   "cell_type": "code",
   "execution_count": 7,
   "metadata": {},
   "outputs": [
    {
     "data": {
      "text/plain": [
       "Index(['created', 'client_ethnicity_id', 'client_gender_id',\n",
       "       'client_nationality_id', 'client_status_id', 'country_id',\n",
       "       'district_id', 'province_id', 'client_origin_country_id',\n",
       "       'client_origin_province_id', 'supplier_id', 'kpi_id', 'id',\n",
       "       'Boyu - abuse including RA', 'abuse'],\n",
       "      dtype='object')"
      ]
     },
     "execution_count": 7,
     "metadata": {},
     "output_type": "execute_result"
    }
   ],
   "source": [
    "cases1.columns"
   ]
  },
  {
   "cell_type": "code",
   "execution_count": 8,
   "metadata": {},
   "outputs": [
    {
     "data": {
      "text/plain": [
       "Index(['id', 'name', 'created', 'last_modified', 'client_nickname',\n",
       "       'client_phonenumber', 'client_line_account', 'client_facebook_account',\n",
       "       'client_viber_account', 'client_share_info_consent',\n",
       "       'issara_supply_chain', 'non_supply_chain', 'description',\n",
       "       'debt_bondage', 'debt_bondage_detail', 'vot_needs', 'referral_notes',\n",
       "       'next_steps', 'work_place_details', 'dead_line_date', 'final_remarks',\n",
       "       'client_contract_type_id', 'client_document_type_id',\n",
       "       'client_ethnicity_id', 'client_gender_id', 'client_nationality_id',\n",
       "       'client_status_id', 'client_type_id', 'destination_recruiter_id',\n",
       "       'issara_staff_id', 'next_steps_issara_staff_id', 'rating_dest_employer',\n",
       "       'rating_dest_recruiter', 'rating_source_broker',\n",
       "       'rating_source_recruiter', 'referral_action_id', 'source_recruiter_id',\n",
       "       'source_upstream_broker', 'supplier_id', 'work_place_id',\n",
       "       'client_time_at_job', 'country_id', 'district_id', 'province_id',\n",
       "       'client_crossing_country_id', 'client_crossing_district_id',\n",
       "       'client_crossing_province_id', 'client_origin_country_id',\n",
       "       'client_origin_district_id', 'client_origin_province_id',\n",
       "       'issue_category_id', 'issue_description', 'case_category_id',\n",
       "       'debt_bondage_broker', 'debt_bondage_detail_broker',\n",
       "       'issue_getting_better', 'issue_getting_better_description',\n",
       "       'issue_workers_affected', 'issue_workers_affected_description',\n",
       "       'case_status_id', 'issue_legacy_level', 'case_id', 'kpi_id'],\n",
       "      dtype='object')"
      ]
     },
     "execution_count": 8,
     "metadata": {},
     "output_type": "execute_result"
    }
   ],
   "source": [
    "cases.columns"
   ]
  },
  {
   "cell_type": "code",
   "execution_count": 11,
   "metadata": {},
   "outputs": [
    {
     "data": {
      "text/plain": [
       "(8629, 13492)"
      ]
     },
     "execution_count": 11,
     "metadata": {},
     "output_type": "execute_result"
    }
   ],
   "source": [
    "sum(pd.isnull(cases.kpi_id)), cases.shape[0]"
   ]
  },
  {
   "cell_type": "code",
   "execution_count": 12,
   "metadata": {},
   "outputs": [
    {
     "data": {
      "text/plain": [
       "False    7091\n",
       "True     3376\n",
       "Name: abuse, dtype: int64"
      ]
     },
     "execution_count": 12,
     "metadata": {},
     "output_type": "execute_result"
    }
   ],
   "source": [
    "cases1.abuse.value_counts()"
   ]
  },
  {
   "cell_type": "code",
   "execution_count": 13,
   "metadata": {},
   "outputs": [
    {
     "data": {
      "text/plain": [
       "1.0    3376\n",
       "0.0     797\n",
       "Name: Boyu - abuse including RA, dtype: int64"
      ]
     },
     "execution_count": 13,
     "metadata": {},
     "output_type": "execute_result"
    }
   ],
   "source": [
    "cases1['Boyu - abuse including RA'].value_counts()"
   ]
  },
  {
   "cell_type": "code",
   "execution_count": 14,
   "metadata": {},
   "outputs": [
    {
     "data": {
      "text/plain": [
       "6294"
      ]
     },
     "execution_count": 14,
     "metadata": {},
     "output_type": "execute_result"
    }
   ],
   "source": [
    "7091-797"
   ]
  },
  {
   "cell_type": "code",
   "execution_count": 16,
   "metadata": {},
   "outputs": [
    {
     "data": {
      "text/html": [
       "<div>\n",
       "<style scoped>\n",
       "    .dataframe tbody tr th:only-of-type {\n",
       "        vertical-align: middle;\n",
       "    }\n",
       "\n",
       "    .dataframe tbody tr th {\n",
       "        vertical-align: top;\n",
       "    }\n",
       "\n",
       "    .dataframe thead th {\n",
       "        text-align: right;\n",
       "    }\n",
       "</style>\n",
       "<table border=\"1\" class=\"dataframe\">\n",
       "  <thead>\n",
       "    <tr style=\"text-align: right;\">\n",
       "      <th></th>\n",
       "      <th>description</th>\n",
       "      <th>referral_notes</th>\n",
       "      <th>final_remarks</th>\n",
       "      <th>issue_description</th>\n",
       "    </tr>\n",
       "  </thead>\n",
       "  <tbody>\n",
       "    <tr>\n",
       "      <th>0</th>\n",
       "      <td>NaN</td>\n",
       "      <td>NaN</td>\n",
       "      <td>NaN</td>\n",
       "      <td>To update discussing his issues or query with ...</td>\n",
       "    </tr>\n",
       "    <tr>\n",
       "      <th>3</th>\n",
       "      <td>NaN</td>\n",
       "      <td>NaN</td>\n",
       "      <td>NaN</td>\n",
       "      <td>The client introduce himself and his migration...</td>\n",
       "    </tr>\n",
       "    <tr>\n",
       "      <th>4</th>\n",
       "      <td>NaN</td>\n",
       "      <td>NaN</td>\n",
       "      <td>NaN</td>\n",
       "      <td>The client call to inform that his Work-Permit...</td>\n",
       "    </tr>\n",
       "    <tr>\n",
       "      <th>6</th>\n",
       "      <td>NaN</td>\n",
       "      <td>NaN</td>\n",
       "      <td>NaN</td>\n",
       "      <td>The worker asked cancellation letter issue for...</td>\n",
       "    </tr>\n",
       "    <tr>\n",
       "      <th>7</th>\n",
       "      <td>NaN</td>\n",
       "      <td>NaN</td>\n",
       "      <td>NaN</td>\n",
       "      <td>Construction worker ask about MOU work permit ...</td>\n",
       "    </tr>\n",
       "    <tr>\n",
       "      <th>...</th>\n",
       "      <td>...</td>\n",
       "      <td>...</td>\n",
       "      <td>...</td>\n",
       "      <td>...</td>\n",
       "    </tr>\n",
       "    <tr>\n",
       "      <th>13483</th>\n",
       "      <td>NaN</td>\n",
       "      <td>NaN</td>\n",
       "      <td>NaN</td>\n",
       "      <td>I did not have any cash to spend for my daily ...</td>\n",
       "    </tr>\n",
       "    <tr>\n",
       "      <th>13484</th>\n",
       "      <td>NaN</td>\n",
       "      <td>NaN</td>\n",
       "      <td>NaN</td>\n",
       "      <td>A worker from TUM ask the way to extend expire...</td>\n",
       "    </tr>\n",
       "    <tr>\n",
       "      <th>13485</th>\n",
       "      <td>NaN</td>\n",
       "      <td>NaN</td>\n",
       "      <td>NaN</td>\n",
       "      <td>This call is to the advocate of MOEAF discussi...</td>\n",
       "    </tr>\n",
       "    <tr>\n",
       "      <th>13486</th>\n",
       "      <td>NaN</td>\n",
       "      <td>NaN</td>\n",
       "      <td>NaN</td>\n",
       "      <td>I am very happy to receive this financial assi...</td>\n",
       "    </tr>\n",
       "    <tr>\n",
       "      <th>13487</th>\n",
       "      <td>NaN</td>\n",
       "      <td>NaN</td>\n",
       "      <td>NaN</td>\n",
       "      <td>Issara follow up called to UCT client who was ...</td>\n",
       "    </tr>\n",
       "  </tbody>\n",
       "</table>\n",
       "<p>8629 rows × 4 columns</p>\n",
       "</div>"
      ],
      "text/plain": [
       "       description  referral_notes  final_remarks  \\\n",
       "0              NaN             NaN            NaN   \n",
       "3              NaN             NaN            NaN   \n",
       "4              NaN             NaN            NaN   \n",
       "6              NaN             NaN            NaN   \n",
       "7              NaN             NaN            NaN   \n",
       "...            ...             ...            ...   \n",
       "13483          NaN             NaN            NaN   \n",
       "13484          NaN             NaN            NaN   \n",
       "13485          NaN             NaN            NaN   \n",
       "13486          NaN             NaN            NaN   \n",
       "13487          NaN             NaN            NaN   \n",
       "\n",
       "                                       issue_description  \n",
       "0      To update discussing his issues or query with ...  \n",
       "3      The client introduce himself and his migration...  \n",
       "4      The client call to inform that his Work-Permit...  \n",
       "6      The worker asked cancellation letter issue for...  \n",
       "7      Construction worker ask about MOU work permit ...  \n",
       "...                                                  ...  \n",
       "13483  I did not have any cash to spend for my daily ...  \n",
       "13484  A worker from TUM ask the way to extend expire...  \n",
       "13485  This call is to the advocate of MOEAF discussi...  \n",
       "13486  I am very happy to receive this financial assi...  \n",
       "13487  Issara follow up called to UCT client who was ...  \n",
       "\n",
       "[8629 rows x 4 columns]"
      ]
     },
     "execution_count": 16,
     "metadata": {},
     "output_type": "execute_result"
    }
   ],
   "source": [
    "cases.loc[pd.isnull(cases.kpi_id), ['description','referral_notes', 'final_remarks','issue_description']]"
   ]
  },
  {
   "cell_type": "code",
   "execution_count": 22,
   "metadata": {},
   "outputs": [
    {
     "name": "stdout",
     "output_type": "stream",
     "text": [
      "Caller would like to know if the border is closing or not in 1st May and the government plan for migrant returning\n",
      "===\n",
      "Call to  SCC informant asking  potential issues with abusive line supervisor. The informant said she heard of this but not sure who is the victim and which line is she from. But she try to get contact with client \n",
      "===\n",
      "asking about passport process, safe migration, worker rights, Issara Intro, GD and including COVID 19\n",
      "===\n",
      "Client informed back she is OK now about passport processes for working with Aung San Moe RA\n",
      "===\n",
      "Client is a CI worker and his employer give him a sack without any fault 5 days after he register his work permit under his current employer who gave him a sack. So he would like to know  that how many times employees can change employer within a month for CI workers.Issara told him there is no specific rules for this and as long as you get cancellation  letter with proper remark to change job. And you  have right to get compensation for dismissal without notice. So if your employer do all the things properly you can go to DOE and complain .  \n",
      "===\n",
      "The employer does not provide a job for the MOU worker 3 months already and the RA also does not help. O&E suggest the worker contact MOEAF office to help and MOEAF contact number has provided to the worker. \n",
      "===\n",
      "The client reported that he has no job so that want to return home. He also learns about Issara services. He added that the process of filling the form to return home which was provided by LA is very complicated. he said that he has been wanting to return home since months ago. he sadi that he do not know the LA is .\n",
      "===\n",
      "Client is an SC ambassadors from SMSK and this call is to monitor ambassador related work and to invite SMSK ambassador gathering. Client said he did outreach in 2018. He often share about Issara and FB like giving in his factory and community. \n",
      "===\n",
      "Caller would like to know if the SSF expired or not after stop contributing for three months \n",
      "===\n",
      "Ko Tin Win from Indonesia called Issara to consult about if Issara can help him return the country. He has a family in Indonesia, he lives with his Indonesian wife and two children. He doesn' have a job right now and thinking about to return the country. He will think about it and call back. \n",
      "He knew U Moris a few years ago. \n",
      "===\n",
      "Issara Ambassador called to have social chat about his community .\n",
      "===\n",
      "Client inquire about job opportunities for Thailand, they are couple and they have experienced working at Thailand, they worked at Unicord with TTS agencies and they want to go back again now and they have to renew their passport and they will contact us after they get new passport \n",
      "===\n",
      "Caller would like to know type of cancellation letter\n"
     ]
    }
   ],
   "source": [
    "print('\\n===\\n'.join(cases.loc[pd.isnull(cases.kpi_id), 'issue_description'].sample(13, random_state=0)))"
   ]
  },
  {
   "cell_type": "code",
   "execution_count": 25,
   "metadata": {},
   "outputs": [
    {
     "name": "stdout",
     "output_type": "stream",
     "text": [
      "Call to the client who has sent the inquiry through golden dreams application for his document extension and learned that he is a CI holder which will expired in 2020 March. He wanted to know about the fees and the process for the extension. He was provided the required information. \n",
      "\n",
      "The workers asked how to register to return home-country. \n",
      "As he is from Samut Sakhon, he was informed that he can register his name at the CI center.\n",
      "\n",
      "Asking border gate info regarding AAC post. Issara said border gate info will be confirmed by Embassy or LA after 15 of May\n",
      "\n",
      "The worker cannot apply new passport yet because he doesn’t have much amount of money.\n",
      "\n",
      "According to the female staff who makes 90-days report, he needs to go to Ranong and stay one night there because he needs to across the border and apply passport in Kawthaung, Myanmar. \n",
      "\n",
      "He might compensate about 150 000 Kyats for the damage of passport to immigration in Myanmar side. \n",
      "The factory would arrange the broker for the process and he has to pay over 500 Baht for broker fees. \n",
      "\n",
      "The staff will accompany him to immigration for other necessary process. Therefore, he feels inconvenient for these amount of costs. He would be happy if the factory can share the cost. \n",
      "\n",
      "O&E staff receives informed consent to share his ID number and building number to the office to be discussed his case.\n",
      "One thing he worried is his security. He does want the factory staff and Aung Soe Moe, the translator to misunderstand on him because of contacting Issara. He doesn’t want to be targeted by factory because he is under the probation. \n",
      "\n",
      "\n",
      "Client call to update his progress as suggested by Issara. \n",
      "Update is client call MOEAF and informed that they will report this issue and try to solve the issue. \n",
      "\n",
      "test call\n",
      "\n",
      "The client update that she will be going back to Myanmar for a few months to let O&E know. \n",
      "\n",
      "The worker asked the  information related to cancellation letter and changing employer as CI worker. \n",
      "He also asked the information related to work in Japan. \n",
      "\n",
      "The client called to learn the process of filling a form which was provided by the Myanmar LA  for those who are wanting to return home during COVID-19.\n",
      "\n",
      "The worker asked whether he needs to report re-entry at the border if he wants to go back Myanmar. He would not come back again because he decides to find a new job in Malaysia. \n",
      "\n",
      "\n",
      "The client misunderstand Issara service and ask to find a job for him . \n",
      "\n",
      "Issara explained nature of our service and refer golden for some helpful info. \n",
      "\n",
      "Info query\n",
      "\n",
      "Client ask that if it is OK going back Myanmar without work permit? Issara replied that it is depend on the police check point although worpermit is not a travelling document. \n"
     ]
    }
   ],
   "source": [
    "\n",
    "print('\\n\\n'.join(cases.loc[pd.isnull(cases.kpi_id), 'issue_description'].sample(13)))"
   ]
  },
  {
   "cell_type": "code",
   "execution_count": null,
   "metadata": {},
   "outputs": [],
   "source": []
  }
 ],
 "metadata": {
  "kernelspec": {
   "display_name": "Python 3",
   "language": "python",
   "name": "python3"
  },
  "language_info": {
   "codemirror_mode": {
    "name": "ipython",
    "version": 3
   },
   "file_extension": ".py",
   "mimetype": "text/x-python",
   "name": "python",
   "nbconvert_exporter": "python",
   "pygments_lexer": "ipython3",
   "version": "3.7.7"
  }
 },
 "nbformat": 4,
 "nbformat_minor": 2
}
