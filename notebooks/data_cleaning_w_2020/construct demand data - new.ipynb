{
 "cells": [
  {
   "cell_type": "markdown",
   "metadata": {},
   "source": [
    "<h1>Consolidated Cleaning steps</h1>"
   ]
  },
  {
   "cell_type": "code",
   "execution_count": 1,
   "metadata": {},
   "outputs": [
    {
     "name": "stdout",
     "output_type": "stream",
     "text": [
      "(3093, 22)\n",
      "(5529, 10)\n",
      "(6739, 13)\n",
      "(991, 12)\n"
     ]
    }
   ],
   "source": [
    "import os\n",
    "import re\n",
    "\n",
    "import pandas as pd\n",
    "\n",
    "from datetime import datetime as dt\n",
    "\n",
    "import matplotlib.pyplot as plt\n",
    "%matplotlib inline\n",
    "\n",
    "\n",
    "data_dir = '/Users/boyuliu/pyprojects/Joann/Joann-Thailand-Project/notebooks/datasets/new_dataset/'\n",
    "# cases_kpis = data_dir + 'cases_kpis.csv'\n",
    "demand2017 = data_dir + 'demand_data.csv'\n",
    "demand2018 = '/Users/boyuliu/Dropbox (MIT)/Boyu-Joann/Data/Demand_data/clean/2018 Thai demand approved list.csv'\n",
    "demand2019 = '/Users/boyuliu/Dropbox (MIT)/Boyu-Joann/Data/Demand_data/clean/2019 Thai Demand Approved List.csv'\n",
    "demand2020 = data_dir + '2020_demand_data.csv'\n",
    "\n",
    "data2017 = pd.read_csv(demand2017)\n",
    "print(data2017.shape)\n",
    "data2018 = pd.read_csv(demand2018)\n",
    "print(data2018.shape)\n",
    "data2019 = pd.read_csv(demand2019)\n",
    "print(data2019.shape)\n",
    "data2020 = pd.read_csv(demand2020)\n",
    "print(data2020.shape)"
   ]
  },
  {
   "cell_type": "code",
   "execution_count": 5,
   "metadata": {},
   "outputs": [],
   "source": [
    "data2019.loc[data2019['Week']=='Jan-19','Week']  = '01-2019'\n",
    "data2019.loc[data2019['Week']=='Feb-19','Week']  = '02-2019'\n",
    "data2019.loc[data2019['Week']=='Mar-19','Week']  = '03-2019'\n",
    "data2019.loc[data2019['Week']=='Apr-19','Week']  = '04-2019'\n",
    "data2019.loc[data2019['Week']=='May-19','Week']  = '05-2019'\n",
    "data2019.loc[data2019['Week']=='Jun-19','Week']  = '06-2019'\n",
    "data2019.loc[data2019['Week']=='Jul-19','Week']  = '07-2019'\n",
    "data2019.loc[data2019['Week']=='Aug-19','Week']  = '08-2019'\n",
    "data2019.loc[data2019['Week']=='Sep-19','Week']  = '09-2019'\n",
    "data2019.loc[data2019['Week']=='Oct-19','Week']  = '10-2019'\n",
    "data2019.loc[data2019['Week']=='Nov-19','Week']  = '11-2019'\n",
    "data2019.loc[data2019['Week']=='Dec-19','Week']  = '12-2019'\n",
    "data2017.loc[data2017['industry']=='Natural Resources', 'industry'] = 'Mining'\n",
    "data2017.loc[data2017['industry']=='Recycling', 'industry'] = 'Waste Management and Recycling'\n",
    "data2017.loc[data2017['industry']=='Agriculture and Livestock', 'industry'] = 'Agriculture and Forestry'"
   ]
  },
  {
   "cell_type": "code",
   "execution_count": 6,
   "metadata": {},
   "outputs": [],
   "source": [
    "# parse weeks\n",
    "## file contains data from 2018 but they are legit\n",
    "data2017['week_num'] = data2017['week'].apply(lambda x: int(x.split('-')[0]))\n",
    "data2017['year'] = data2017['week'].apply(lambda x: int(x.split('-')[1]))\n",
    "\n",
    "data2018.loc[data2018['Week']=='31-2019', 'Week'] = '31-2018' # data entry error\n",
    "data2018['week_num'] = data2018['Week'].apply(lambda x: int(x.split('-')[0]))\n",
    "data2018['year'] = data2018['Week'].apply(lambda x: int(x.split('-')[1]))\n",
    "\n",
    "data2019.loc[data2019['Week']=='25-2016', 'Week'] = '25-2019' # data entry error\n",
    "data2019['week_num'] = data2019['Week'].apply(lambda x: int(x.split('-')[0]))\n",
    "data2019['year'] = data2019['Week'].apply(lambda x: int(x.split('-')[1]))\n",
    "\n",
    "data2020['week_num'] = data2020['week'].apply(lambda x: int(x.split('-')[0]))\n",
    "data2020['year'] = data2020['week'].apply(lambda x: int(x.split('-')[1]))\n",
    "\n",
    "# merge datasets\n",
    "# ------------------------------------------------------------------------------------------\n",
    "data2019 = data2019.loc[:, ['Location', 'Total', 'week_num', 'year', 'industry_name', 'Male', 'Female']].\\\n",
    "            rename(columns={'week_num': 'week','Location':'province', 'Total':'total', 'industry_name':'industry',\n",
    "                           'Male':'male', 'Female':'female'})\n",
    "\n",
    "data2018 = data2018.loc[:, ['Location', 'total', 'week_num', 'year', 'industry _name', 'male', 'female']].\\\n",
    "            rename(columns={'week_num': 'week', 'Location':'province', 'industry _name':'industry'})\n",
    "\n",
    "data2017 = data2017.loc[:, ['province','num_total','week_num','year','industry',\n",
    "                            'num_males', 'num_females']].\\\n",
    "            rename(columns={'week_num': 'week', 'num_total':'total', 'num_males':'male',\n",
    "                            'num_females':'female'})\n",
    "\n",
    "data2020 = data2020.loc[:, ['province','demand_approved_total','week_num','year','industry',\n",
    "                            'demand_approved_male', 'demand_approved_female']].\\\n",
    "            rename(columns={'week_num': 'week', 'demand_approved_total':'total', 'demand_approved_male':'male',\n",
    "                            'demand_approved_female':'female'})\n",
    "\n",
    "raw_demand_3yrs = pd.concat([data2017, data2018, data2019, data2020])"
   ]
  },
  {
   "cell_type": "code",
   "execution_count": 16,
   "metadata": {},
   "outputs": [
    {
     "data": {
      "text/html": [
       "<div>\n",
       "<style scoped>\n",
       "    .dataframe tbody tr th:only-of-type {\n",
       "        vertical-align: middle;\n",
       "    }\n",
       "\n",
       "    .dataframe tbody tr th {\n",
       "        vertical-align: top;\n",
       "    }\n",
       "\n",
       "    .dataframe thead th {\n",
       "        text-align: right;\n",
       "    }\n",
       "</style>\n",
       "<table border=\"1\" class=\"dataframe\">\n",
       "  <thead>\n",
       "    <tr style=\"text-align: right;\">\n",
       "      <th></th>\n",
       "      <th>province</th>\n",
       "      <th>total</th>\n",
       "      <th>week</th>\n",
       "      <th>year</th>\n",
       "      <th>industry</th>\n",
       "      <th>male</th>\n",
       "      <th>female</th>\n",
       "    </tr>\n",
       "  </thead>\n",
       "  <tbody>\n",
       "    <tr>\n",
       "      <th>0</th>\n",
       "      <td>Phra Nakhon Si Ayutthaya</td>\n",
       "      <td>50</td>\n",
       "      <td>16</td>\n",
       "      <td>2017</td>\n",
       "      <td>Construction</td>\n",
       "      <td>35</td>\n",
       "      <td>15</td>\n",
       "    </tr>\n",
       "    <tr>\n",
       "      <th>1</th>\n",
       "      <td>Bangkok</td>\n",
       "      <td>15</td>\n",
       "      <td>48</td>\n",
       "      <td>2017</td>\n",
       "      <td>Construction</td>\n",
       "      <td>15</td>\n",
       "      <td>0</td>\n",
       "    </tr>\n",
       "    <tr>\n",
       "      <th>2</th>\n",
       "      <td>Saraburi</td>\n",
       "      <td>20</td>\n",
       "      <td>16</td>\n",
       "      <td>2017</td>\n",
       "      <td>Food and Beverage</td>\n",
       "      <td>12</td>\n",
       "      <td>8</td>\n",
       "    </tr>\n",
       "    <tr>\n",
       "      <th>3</th>\n",
       "      <td>Bangkok</td>\n",
       "      <td>100</td>\n",
       "      <td>5</td>\n",
       "      <td>2017</td>\n",
       "      <td>Construction</td>\n",
       "      <td>60</td>\n",
       "      <td>40</td>\n",
       "    </tr>\n",
       "    <tr>\n",
       "      <th>4</th>\n",
       "      <td>Bangkok</td>\n",
       "      <td>100</td>\n",
       "      <td>5</td>\n",
       "      <td>2017</td>\n",
       "      <td>Construction</td>\n",
       "      <td>60</td>\n",
       "      <td>40</td>\n",
       "    </tr>\n",
       "  </tbody>\n",
       "</table>\n",
       "</div>"
      ],
      "text/plain": [
       "                   province total  week  year           industry male female\n",
       "0  Phra Nakhon Si Ayutthaya    50    16  2017       Construction   35     15\n",
       "1                   Bangkok    15    48  2017       Construction   15      0\n",
       "2                  Saraburi    20    16  2017  Food and Beverage   12      8\n",
       "3                   Bangkok   100     5  2017       Construction   60     40\n",
       "4                   Bangkok   100     5  2017       Construction   60     40"
      ]
     },
     "execution_count": 16,
     "metadata": {},
     "output_type": "execute_result"
    }
   ],
   "source": [
    "raw_demand_3yrs = raw_demand_3yrs.loc[pd.notnull(raw_demand_3yrs['total']), :]\n",
    "raw_demand_3yrs = raw_demand_3yrs.loc[pd.notnull(raw_demand_3yrs['province']), :]\n",
    "raw_demand_3yrs = raw_demand_3yrs.loc[raw_demand_3yrs['industry']!='Not Available', :]\n",
    "\n",
    "raw_demand_3yrs['province'] = raw_demand_3yrs['province'].apply(lambda x: x.replace('  ', ' ').\\\n",
    "                                                                replace('\\n', '').replace('-', ' ').strip())\n",
    "\n",
    "manual_correction = { # comment out means legit different regions\n",
    "    'Amnat Charoen': {'Amnat Charoen','Amnatcharoen'},\n",
    "    'Ang Thong': {'Ang Thong', 'Anthong', 'Angthong'},\n",
    "    'Bangkok':{'Bankok', 'Bangkok'},\n",
    "    'Buri Ram': {'Buri Ram', 'Burirum', 'Bururam', 'Buriram'},\n",
    "    'Chachoengsao': {'Chachoengsao', 'Chachongsao'},\n",
    "    'Chai Nat': {'Chai Nat', 'Chainant', 'Chainat'},\n",
    "    'Chiang Mai': {'Chiang Mai','Chiangmai'},\n",
    "    # {'Chiang Mai', 'Chiang rai'},\n",
    "    'Chiang Rai': {'Chiang rai'},\n",
    "    'Chon Buri': {'Choburi', 'Chon Buri', 'Chonburi'},\n",
    "    'Chumphon': {'Chumphon', 'Chunphon'},\n",
    "    # {'Lampang', 'Lamphun'},\n",
    "    'Loei': {'LOEI', 'Loei'}, # random find\n",
    "    'Lop Buri': {'Loburi', 'Lop Buri', 'Lopburi'},\n",
    "    'Kamphaeng Phet':{'Kamphaeng Phet','Kamphaengphet'},\n",
    "    'Nakhon Ratchasima': {'Nakhonratcha siam', 'Nakhonratchasim', 'Nakhonrat chasima',\\\n",
    "                          'Nakhonsrat chasima', 'Nakhoratcha sima', 'Nakhonratcha sima', 'Nakhonratchasi ma'},\n",
    "    'Nakhon Nayok': {'Nakorn Nayok', 'Nakhon Nayok'},\n",
    "    'Nakhon Sawan': {'Nakhosawan', 'Nakhon Sawan','Nakho Sawan'},\n",
    "    'Nakhon Si Thammarat': {'Nakhonsitham mart', 'Nakhonsitham mrat'},\n",
    "    'Nakkhon Pathom':{'Nakhonpathom', 'Nakkhon Pathom', 'Nakonpathom', 'Nokhonpathom'},\n",
    "    'Nonthaburi': {'Nonthaburi', 'Nonthaiburi', 'Northaburi', 'Nathaburi'},\n",
    "    'Nong Bua Lamphu': {'Nong Bua Lam Phu', 'Nong Bua Lamphu'},\n",
    "    'Nong Khai': {'Nong Khai', 'Nongkhai'},\n",
    "    'Nonthaburi': {'Nonthaburi', 'Nothaburi'},\n",
    "    'Phang-nga': {'Phang  nga', 'Phang Nga', 'Phang nga'},\n",
    "    'Pathum Thani': {'Pathum Thani', 'Patthumthani','Pathumthani', 'pathumthani'},\n",
    "    'Phra Nakhon': {'Pharanakhon', 'Phranakhon'},\n",
    "    'Phra Nakhon Si Ayutthaya': {'Phra Nakhon Si Ayutthaya', 'Phranakhon Si Ayutthay', \\\n",
    "                                 'Phranakhon Sriayutthaya', 'Phanakhon Si Ayutthaya', \\\n",
    "                                'Pranakhon Si Autthaya', 'Phanakhon Si Ayutthaya', \\\n",
    "                                 'Phranakhon Si Ayuttaya', 'Phranakhon Si Ayutthaya', 'Ayutthaya'},\n",
    "    'Phrae':{'Phrae','Phare'},\n",
    "    'Phetchabun': {'Petchabun', 'Phetchabun'},\n",
    "    #{'Phetchabun', 'Phetchaburi'}\n",
    "    'Phatthalung': {'Phattalung', 'Phatthalung', 'Patthalung'},\n",
    "    'Phetchaburi': {'Petchaburi', 'Phetchaburi', 'Phetchburi'},\n",
    "    'Prachinburi':{'Prachinburi','Prachin Buri'},\n",
    "    'Phitsanulok': {'Phitsanlok', 'Phitsanulok'},\n",
    "    'Prachuap Khiri Khan': {'Prachuab Kiri Khan', 'Prachuakirikhan', 'Prachuap Khiri Kham',\\\n",
    "                            'Prachuap Khiri Khan', 'Prachumap Khiri Khan'},\n",
    "    'Phuket':{'phuket','Phuket'},\n",
    "    'Ratchaburi': {'Rachaburi', 'Ratchabrui', 'Ratchaburi'},\n",
    "    'Sa Kaeo': {'Sa Kaeo', 'Sakaew'},\n",
    "    'Samut Prakan': {'Samut Parakan', 'Samut Prakan', 'Samut Prakarn', 'Samutprakhon', 'Samutprakan'},\n",
    "    'Samut Sakhon': {'Samusakhon', 'Samut Sakhon', 'Samut sakhom', 'Samuts Sakhon', 'Samutsakhon'},\n",
    "    'Samut Songkhram': {'Samutsong kham', 'Samutsong khram', 'Samutsongkhra m'},\n",
    "    'Saraburi': {'Suraburi', 'Saraburi'},\n",
    "    'Satun': {'Satun','satun'},\n",
    "    'Sing Buri': {'Sing Buri', 'Singvuri', 'Singburi'},\n",
    "    'Suphan Buri': {'Suphaburi', 'Suphanburi', 'Shphanburi'},\n",
    "    'Surat Thani': {'Surat Thani', 'Surathani', 'Surattani', 'Sulapthani', 'Suratthani'},\n",
    "    'Songkhla': {'Songkhla', 'Shongkhla'}, # random find...\n",
    "    'Trang': {'Tramg', 'Trang'},\n",
    "    # 'Tak', 'Trat'\n",
    "    'Ubon Ratchathani': {'Ubon Ratchathani', 'Ubon Ratchthani'},\n",
    "    'Udon Thani': {'Udon Thani', 'Udothani', 'Udonthani', 'Udonthani'}\n",
    "}\n",
    "\n",
    "correction_lut = {}\n",
    "for k in manual_correction:\n",
    "    for v in manual_correction[k]:\n",
    "        correction_lut[v] = k\n",
    "\n",
    "raw_demand_3yrs['province'] = raw_demand_3yrs['province'].apply(lambda x: correction_lut[x] if x in correction_lut else x)\n",
    "raw_demand_3yrs.head()"
   ]
  },
  {
   "cell_type": "code",
   "execution_count": 17,
   "metadata": {},
   "outputs": [
    {
     "name": "stdout",
     "output_type": "stream",
     "text": [
      "0 entries have empty total requests\n",
      "0 entries have no province\n",
      "2302 entries have no industry\n"
     ]
    },
    {
     "data": {
      "text/plain": [
       "2018    2298\n",
       "2019       4\n",
       "Name: year, dtype: int64"
      ]
     },
     "execution_count": 17,
     "metadata": {},
     "output_type": "execute_result"
    }
   ],
   "source": [
    "print('%s entries have empty total requests' % sum(pd.isnull(raw_demand_3yrs.total)))\n",
    "print('%s entries have no province' % sum(pd.isnull(raw_demand_3yrs.province)))\n",
    "print('%s entries have no industry' % sum(pd.isnull(raw_demand_3yrs.industry)))\n",
    "raw_demand_3yrs.loc[pd.isnull(raw_demand_3yrs.industry), 'year'].value_counts()"
   ]
  },
  {
   "cell_type": "code",
   "execution_count": 18,
   "metadata": {},
   "outputs": [
    {
     "name": "stdout",
     "output_type": "stream",
     "text": [
      "['Amnat Charoen', 'Ang Thong', 'Bangkok', 'Bueng Kan', 'Buri Ram', 'Chachoengsao', 'Chai Nat', 'Chaiyaphum', 'Chanthaburi', 'Chiang Mai', 'Chiang Rai', 'Chon Buri', 'Chumphon', 'Kalasin', 'Kamphaeng Phet', 'Kanchanaburi', 'Khon Kaen', 'Krabi', 'Lampang', 'Lamphun', 'Loei', 'Lop Buri', 'Mukdahan', 'Nakhon Nayok', 'Nakhon Pathom', 'Nakhon Ratchasima', 'Nakhon Sawan', 'Nakhon Si Thammarat', 'Nakkhon Pathom', 'Nan', 'Narathiwat', 'Nong Bua Lamphu', 'Nong Khai', 'Nonthaburi', 'Pathum Thani', 'Phang-nga', 'Phatthalung', 'Phayao', 'Phetchabun', 'Phetchaburi', 'Phichit', 'Phitsanulok', 'Phra Nakhon', 'Phra Nakhon Si Ayutthaya', 'Phrae', 'Phuket', 'Prachinburi', 'Prachuap Khiri Khan', 'Ranong', 'Ratchaburi', 'Rayong', 'Roi Et', 'Sa Kaeo', 'Sakon Nakhon', 'Samut Prakan', 'Samut Sakhon', 'Samut Songkhram', 'Saraburi', 'Satun', 'Si Sa Ket', 'Sing Buri', 'Songkhla', 'Sukhothai', 'Suphan Buri', 'Surat Thani', 'Surin', 'Tak', 'Trang', 'Trat', 'Ubon Ratchathani', 'Udon Thani', 'Uthai Thani', 'Uttaradit', 'Yasothon']\n"
     ]
    }
   ],
   "source": [
    "print(sorted(raw_demand_3yrs.province.unique()))"
   ]
  },
  {
   "cell_type": "code",
   "execution_count": 90,
   "metadata": {
    "scrolled": true
   },
   "outputs": [
    {
     "name": "stdout",
     "output_type": "stream",
     "text": [
      "['Amnat Charoen', 'Ang Thong', 'Ayutthaya', 'Bangkok', 'Bueng Kan', 'Buri Ram', 'Chachoengsao', 'Chai Nat', 'Chaiyaphum', 'Chanthaburi', 'Chiang Mai', 'Chiang Rai', 'Chon Buri', 'Chumphon', 'Kalasin', 'Kamphaeng Phet', 'Kanchanaburi', 'Khon Kaen', 'Krabi', 'Lampang', 'Lamphun', 'Loei', 'Lop Buri', 'Mukdahan', 'Nakho Sawan', 'Nakhon Nayok', 'Nakhon Pathom', 'Nakhon Ratchasima', 'Nakhon Sawan', 'Nakhon Si Thammarat', 'Nakkhon Pathom', 'Nan', 'Narathiwat', 'Nokhonpathom', 'Nong Bua Lam Phu', 'Nong Khai', 'Nonthaburi', 'Pathum Thani', 'Phang Nga', 'Phatthalung', 'Phayao', 'Phetchabun', 'Phetchaburi', 'Phichit', 'Phitsanulok', 'Phra Nakhon', 'Phra Nakhon Si Ayutthaya', 'Phrae', 'Phranakhon Si Ayutthaya', 'Phuket', 'Prachinburi', 'Prachuap Khiri Khan', 'Ranong', 'Ratchaburi', 'Rayong', 'Roi Et', 'Sa Kaeo', 'Sakon Nakhon', 'Samut Prakan', 'Samut Sakhon', 'Samut Songkhram', 'Samutprakan', 'Samutsakhon', 'Saraburi', 'Satun', 'Si Sa Ket', 'Sing Buri', 'Songkhla', 'Sukhothai', 'Suphan Buri', 'Surat Thani', 'Surin', 'Tak', 'Trang', 'Trat', 'Ubon Ratchathani', 'Udon Thani', 'Uthai Thani', 'Uttaradit', 'Yasothon']\n"
     ]
    }
   ],
   "source": [
    "print(sorted(raw_demand_3yrs.province.unique()))"
   ]
  },
  {
   "cell_type": "code",
   "execution_count": 19,
   "metadata": {},
   "outputs": [
    {
     "name": "stdout",
     "output_type": "stream",
     "text": [
      "75 80\n",
      "['Nong Bua Lamphu', 'Phang-nga']\n",
      "['Nakho Sawan', 'Nokhonpathom', 'Nong Bua Lam Phu', 'Phang Nga', 'Phranakhon Si Ayutthaya', 'Samutprakan', 'Samutsakhon']\n"
     ]
    }
   ],
   "source": [
    "l1 = ['Amnat Charoen', 'Ang Thong', 'Ayutthaya', 'Bangkok', 'Bueng Kan', 'Buri Ram', 'Chachoengsao', 'Chai Nat', 'Chaiyaphum', 'Chanthaburi', 'Chiang Mai', 'Chiang Rai', 'Chon Buri', 'Chumphon', 'Kalasin', 'Kamphaeng Phet', 'Kanchanaburi', 'Khon Kaen', 'Krabi', 'Lampang', 'Lamphun', 'Loei', 'Lop Buri', 'Mukdahan', 'Nakhon Nayok', 'Nakhon Pathom', 'Nakhon Ratchasima', 'Nakhon Sawan', 'Nakhon Si Thammarat', 'Nakkhon Pathom', 'Nan', 'Narathiwat', 'Nong Bua Lamphu', 'Nong Khai', 'Nonthaburi', 'Pathum Thani', 'Phang-nga', 'Phatthalung', 'Phayao', 'Phetchabun', 'Phetchaburi', 'Phichit', 'Phitsanulok', 'Phra Nakhon', 'Phra Nakhon Si Ayutthaya', 'Phrae', 'Phuket', 'Prachinburi', 'Prachuap Khiri Khan', 'Ranong', 'Ratchaburi', 'Rayong', 'Roi Et', 'Sa Kaeo', 'Sakon Nakhon', 'Samut Prakan', 'Samut Sakhon', 'Samut Songkhram', 'Saraburi', 'Satun', 'Si Sa Ket', 'Sing Buri', 'Songkhla', 'Sukhothai', 'Suphan Buri', 'Surat Thani', 'Surin', 'Tak', 'Trang', 'Trat', 'Ubon Ratchathani', 'Udon Thani', 'Uthai Thani', 'Uttaradit', 'Yasothon']\n",
    "l2 = ['Amnat Charoen', 'Ang Thong', 'Ayutthaya', 'Bangkok', 'Bueng Kan', 'Buri Ram', 'Chachoengsao', 'Chai Nat', 'Chaiyaphum', 'Chanthaburi', 'Chiang Mai', 'Chiang Rai', 'Chon Buri', 'Chumphon', 'Kalasin', 'Kamphaeng Phet', 'Kanchanaburi', 'Khon Kaen', 'Krabi', 'Lampang', 'Lamphun', 'Loei', 'Lop Buri', 'Mukdahan', 'Nakho Sawan', 'Nakhon Nayok', 'Nakhon Pathom', 'Nakhon Ratchasima', 'Nakhon Sawan', 'Nakhon Si Thammarat', 'Nakkhon Pathom', 'Nan', 'Narathiwat', 'Nokhonpathom', 'Nong Bua Lam Phu', 'Nong Khai', 'Nonthaburi', 'Pathum Thani', 'Phang Nga', 'Phatthalung', 'Phayao', 'Phetchabun', 'Phetchaburi', 'Phichit', 'Phitsanulok', 'Phra Nakhon', 'Phra Nakhon Si Ayutthaya', 'Phrae', 'Phranakhon Si Ayutthaya', 'Phuket', 'Prachinburi', 'Prachuap Khiri Khan', 'Ranong', 'Ratchaburi', 'Rayong', 'Roi Et', 'Sa Kaeo', 'Sakon Nakhon', 'Samut Prakan', 'Samut Sakhon', 'Samut Songkhram', 'Samutprakan', 'Samutsakhon', 'Saraburi', 'Satun', 'Si Sa Ket', 'Sing Buri', 'Songkhla', 'Sukhothai', 'Suphan Buri', 'Surat Thani', 'Surin', 'Tak', 'Trang', 'Trat', 'Ubon Ratchathani', 'Udon Thani', 'Uthai Thani', 'Uttaradit', 'Yasothon']\n",
    "print(len(l1), len(l2))\n",
    "print([i for i in l1 if i not in l2])\n",
    "print([i for i in l2 if i not in l1])"
   ]
  },
  {
   "cell_type": "code",
   "execution_count": 20,
   "metadata": {},
   "outputs": [],
   "source": [
    "raw_demand_3yrs['year_week'] = raw_demand_3yrs.apply(lambda row: '%4d-%02d' % (row['year'], row['week']), axis=1)"
   ]
  },
  {
   "cell_type": "code",
   "execution_count": 22,
   "metadata": {},
   "outputs": [
    {
     "name": "stdout",
     "output_type": "stream",
     "text": [
      "0 entries have no time\n"
     ]
    },
    {
     "data": {
      "text/html": [
       "<div>\n",
       "<style scoped>\n",
       "    .dataframe tbody tr th:only-of-type {\n",
       "        vertical-align: middle;\n",
       "    }\n",
       "\n",
       "    .dataframe tbody tr th {\n",
       "        vertical-align: top;\n",
       "    }\n",
       "\n",
       "    .dataframe thead th {\n",
       "        text-align: right;\n",
       "    }\n",
       "</style>\n",
       "<table border=\"1\" class=\"dataframe\">\n",
       "  <thead>\n",
       "    <tr style=\"text-align: right;\">\n",
       "      <th></th>\n",
       "      <th>province</th>\n",
       "      <th>total</th>\n",
       "      <th>week</th>\n",
       "      <th>year</th>\n",
       "      <th>industry</th>\n",
       "      <th>male</th>\n",
       "      <th>female</th>\n",
       "      <th>year_week</th>\n",
       "    </tr>\n",
       "  </thead>\n",
       "  <tbody>\n",
       "    <tr>\n",
       "      <th>0</th>\n",
       "      <td>Phra Nakhon Si Ayutthaya</td>\n",
       "      <td>50</td>\n",
       "      <td>16</td>\n",
       "      <td>2017</td>\n",
       "      <td>Construction</td>\n",
       "      <td>35</td>\n",
       "      <td>15</td>\n",
       "      <td>2017-16</td>\n",
       "    </tr>\n",
       "    <tr>\n",
       "      <th>1</th>\n",
       "      <td>Bangkok</td>\n",
       "      <td>15</td>\n",
       "      <td>48</td>\n",
       "      <td>2017</td>\n",
       "      <td>Construction</td>\n",
       "      <td>15</td>\n",
       "      <td>0</td>\n",
       "      <td>2017-48</td>\n",
       "    </tr>\n",
       "    <tr>\n",
       "      <th>2</th>\n",
       "      <td>Saraburi</td>\n",
       "      <td>20</td>\n",
       "      <td>16</td>\n",
       "      <td>2017</td>\n",
       "      <td>Food and Beverage</td>\n",
       "      <td>12</td>\n",
       "      <td>8</td>\n",
       "      <td>2017-16</td>\n",
       "    </tr>\n",
       "    <tr>\n",
       "      <th>3</th>\n",
       "      <td>Bangkok</td>\n",
       "      <td>100</td>\n",
       "      <td>5</td>\n",
       "      <td>2017</td>\n",
       "      <td>Construction</td>\n",
       "      <td>60</td>\n",
       "      <td>40</td>\n",
       "      <td>2017-05</td>\n",
       "    </tr>\n",
       "    <tr>\n",
       "      <th>4</th>\n",
       "      <td>Bangkok</td>\n",
       "      <td>100</td>\n",
       "      <td>5</td>\n",
       "      <td>2017</td>\n",
       "      <td>Construction</td>\n",
       "      <td>60</td>\n",
       "      <td>40</td>\n",
       "      <td>2017-05</td>\n",
       "    </tr>\n",
       "  </tbody>\n",
       "</table>\n",
       "</div>"
      ],
      "text/plain": [
       "                   province total  week  year           industry male female  \\\n",
       "0  Phra Nakhon Si Ayutthaya    50    16  2017       Construction   35     15   \n",
       "1                   Bangkok    15    48  2017       Construction   15      0   \n",
       "2                  Saraburi    20    16  2017  Food and Beverage   12      8   \n",
       "3                   Bangkok   100     5  2017       Construction   60     40   \n",
       "4                   Bangkok   100     5  2017       Construction   60     40   \n",
       "\n",
       "  year_week  \n",
       "0   2017-16  \n",
       "1   2017-48  \n",
       "2   2017-16  \n",
       "3   2017-05  \n",
       "4   2017-05  "
      ]
     },
     "execution_count": 22,
     "metadata": {},
     "output_type": "execute_result"
    }
   ],
   "source": [
    "print('%s entries have no time' % sum(pd.isnull(raw_demand_3yrs['year_week'])))\n",
    "raw_demand_3yrs.head()"
   ]
  },
  {
   "cell_type": "markdown",
   "metadata": {},
   "source": [
    "### Match province names in WV cases to province names in ilm province table"
   ]
  },
  {
   "cell_type": "code",
   "execution_count": 24,
   "metadata": {},
   "outputs": [
    {
     "name": "stdout",
     "output_type": "stream",
     "text": [
      "Suphan Buri\n",
      "Chon Buri\n",
      "Chai Nat\n",
      "Prachinburi\n",
      "Lop Buri\n",
      "Nakkhon Pathom\n",
      "Phang-nga\n",
      "Nong Bua Lamphu\n",
      "Phra Nakhon\n",
      "Si Sa Ket\n",
      "10\n"
     ]
    },
    {
     "data": {
      "text/plain": [
       "{'Suphan Buri': 'Suphanburi',\n",
       " 'Chon Buri': 'Chonburi',\n",
       " 'Chai Nat': 'Chainat',\n",
       " 'Prachinburi': 'Prachin Buri',\n",
       " 'Lop Buri': 'Lopburi',\n",
       " 'Nakkhon Pathom': 'Nakhon Pathom',\n",
       " 'Phang-nga': 'Phang Nga',\n",
       " 'Nong Bua Lamphu': 'Nong Bua Lam Phu',\n",
       " 'Phra Nakhon': 'Sakon Nakhon',\n",
       " 'Si Sa Ket': 'Si Saket'}"
      ]
     },
     "execution_count": 24,
     "metadata": {},
     "output_type": "execute_result"
    }
   ],
   "source": [
    "# print those that don't exactly match and try to resolve automaticallys\n",
    "import numpy as np\n",
    "provinces = pd.read_csv(data_dir + 'provinces.csv')\n",
    "demand_provinces = raw_demand_3yrs.province.unique().tolist()\n",
    "db_provinces = provinces.name.tolist()\n",
    "db_provinces_dict = provinces.set_index('name').to_dict()['id']\n",
    "\n",
    "count = 0\n",
    "not_matched_demand_province = []\n",
    "for prov in demand_provinces:\n",
    "    if prov not in db_provinces_dict:\n",
    "        count += 1 \n",
    "        not_matched_demand_province.append(prov)\n",
    "        print(prov)\n",
    "print(count)\n",
    "\n",
    "def levenshteinDistanceDP(token1, token2):\n",
    "    distances = np.zeros((len(token1) + 1, len(token2) + 1))\n",
    "\n",
    "    for t1 in range(len(token1) + 1):\n",
    "        distances[t1][0] = t1\n",
    "\n",
    "    for t2 in range(len(token2) + 1):\n",
    "        distances[0][t2] = t2\n",
    "        \n",
    "    a = 0\n",
    "    b = 0\n",
    "    c = 0\n",
    "    \n",
    "    for t1 in range(1, len(token1) + 1):\n",
    "        for t2 in range(1, len(token2) + 1):\n",
    "            if (token1[t1-1] == token2[t2-1]):\n",
    "                distances[t1][t2] = distances[t1 - 1][t2 - 1]\n",
    "            else:\n",
    "                a = distances[t1][t2 - 1]\n",
    "                b = distances[t1 - 1][t2]\n",
    "                c = distances[t1 - 1][t2 - 1]\n",
    "                \n",
    "                if (a <= b and a <= c):\n",
    "                    distances[t1][t2] = a + 1\n",
    "                elif (b <= a and b <= c):\n",
    "                    distances[t1][t2] = b + 1\n",
    "                else:\n",
    "                    distances[t1][t2] = c + 1\n",
    "\n",
    "#     printDistances(distances, len(token1), len(token2))\n",
    "    return distances[len(token1)][len(token2)]\n",
    "\n",
    "fuzzy_match_dict = {}\n",
    "for demand_prov in not_matched_demand_province:\n",
    "    distances = np.array(list(map(lambda x: levenshteinDistanceDP(x, demand_prov), db_provinces)))\n",
    "    fuzzy_match_dict[demand_prov] = db_provinces[np.argmin((distances))]\n",
    "\n",
    "fuzzy_match_dict"
   ]
  },
  {
   "cell_type": "code",
   "execution_count": 28,
   "metadata": {},
   "outputs": [
    {
     "data": {
      "text/plain": [
       "'Amnat Charoen, Ang Thong, Bangkok, Bueng Kan, Buri Ram, Chachoengsao, Chai Nat, Chaiyaphum, Chanthaburi, Chiang Mai, Chiang Rai, Chon Buri, Chumphon, Kalasin, Kamphaeng Phet, Kanchanaburi, Khon Kaen, Krabi, Lampang, Lamphun, Loei, Lop Buri, Mukdahan, Nakhon Nayok, Nakhon Pathom, Nakhon Ratchasima, Nakhon Sawan, Nakhon Si Thammarat, Nakkhon Pathom, Nan, Narathiwat, Nong Bua Lamphu, Nong Khai, Nonthaburi, Pathum Thani, Phang-nga, Phatthalung, Phayao, Phetchabun, Phetchaburi, Phichit, Phitsanulok, Phra Nakhon, Phra Nakhon Si Ayutthaya, Phrae, Phuket, Prachinburi, Prachuap Khiri Khan, Ranong, Ratchaburi, Rayong, Roi Et, Sa Kaeo, Sakon Nakhon, Samut Prakan, Samut Sakhon, Samut Songkhram, Saraburi, Satun, Si Sa Ket, Sing Buri, Songkhla, Sukhothai, Suphan Buri, Surat Thani, Surin, Tak, Trang, Trat, Ubon Ratchathani, Udon Thani, Uthai Thani, Uttaradit, Yasothon'"
      ]
     },
     "execution_count": 28,
     "metadata": {},
     "output_type": "execute_result"
    }
   ],
   "source": [
    "', '.join(sorted(demand_provinces))"
   ]
  },
  {
   "cell_type": "code",
   "execution_count": 26,
   "metadata": {},
   "outputs": [
    {
     "data": {
      "text/plain": [
       "dict_keys(['Chiang Mai', 'Chiang Rai', 'Phetchaburi', 'Phetchabun', 'Loei', 'Phrae', 'Mae Hong Son', 'Krabi', 'Bangkok', 'Kanchanaburi', 'Kalasin', 'Kamphaeng Phet', 'Khon Kaen', 'Chanthaburi', 'Chachoengsao', 'Chonburi', 'Chainat', 'Chaiyaphum', 'Chumphon', 'Trang', 'Trat', 'Tak', 'Nakhon Nayok', 'Nakhon Pathom', 'Nakhon Phanom', 'Nakhon Ratchasima', 'Nakhon Si Thammarat', 'Nakhon Sawan', 'Nonthaburi', 'Narathiwat', 'Nan', 'Bueng Kan', 'Buri Ram', 'Pathum Thani', 'Prachuap Khiri Khan', 'Prachin Buri', 'Pattani', 'Phra Nakhon Si Ayutthaya', 'Phayao', 'Phang Nga', 'Phatthalung', 'Phichit', 'Phitsanulok', 'Phuket', 'Maha Sarakham', 'Mukdahan', 'Yasothon', 'Yala', 'Roi Et', 'Ranong', 'Rayong', 'Ratchaburi', 'Lopburi', 'Lampang', 'Lamphun', 'Si Saket', 'Sakon Nakhon', 'Songkhla', 'Satun', 'Samut Prakan', 'Samut Songkhram', 'Samut Sakhon', 'Sa Kaeo', 'Saraburi', 'Sing Buri', 'Sukhothai', 'Suphanburi', 'Surat Thani', 'Surin', 'Nong Khai', 'Nong Bua Lam Phu', 'Ang Thong', 'Amnat Charoen', 'Udon Thani', 'Uttaradit', 'Uthai Thani', 'Ubon Ratchathani'])"
      ]
     },
     "execution_count": 26,
     "metadata": {},
     "output_type": "execute_result"
    }
   ],
   "source": [
    "db_provinces_dict.keys()"
   ]
  },
  {
   "cell_type": "markdown",
   "metadata": {},
   "source": [
    "### manually correct "
   ]
  },
  {
   "cell_type": "code",
   "execution_count": 29,
   "metadata": {},
   "outputs": [
    {
     "name": "stdout",
     "output_type": "stream",
     "text": [
      "0\n"
     ]
    }
   ],
   "source": [
    "fuzzy_match_dict['Phra Nakhon'] = 'Phra Nakhon Si Ayutthaya'\n",
    "raw_demand_3yrs['province'] = raw_demand_3yrs['province'].apply(\n",
    "        lambda x: fuzzy_match_dict[x] if x in fuzzy_match_dict else x)\n",
    "\n",
    "# see if there are provinces in raw_demand_3yrs not in db province\n",
    "demand_provinces = raw_demand_3yrs.province.unique().tolist()\n",
    "count = 0\n",
    "for prov in demand_provinces:\n",
    "    if prov not in db_provinces_dict:\n",
    "        count += 1 \n",
    "        print(prov)\n",
    "print(count)"
   ]
  },
  {
   "cell_type": "code",
   "execution_count": 38,
   "metadata": {},
   "outputs": [],
   "source": [
    "def fix_total(total):\n",
    "    if type(total) is int:\n",
    "        return total\n",
    "    else:\n",
    "        try:\n",
    "            return int(eval(total))\n",
    "        except Exception as e:\n",
    "            if total == '၂၃':\n",
    "                return 23\n",
    "            else:\n",
    "                print(total, e)\n",
    "                raise e\n",
    "raw_demand_3yrs['total'] = raw_demand_3yrs['total'].apply(fix_total)"
   ]
  },
  {
   "cell_type": "code",
   "execution_count": 37,
   "metadata": {},
   "outputs": [],
   "source": [
    "raw_demand_3yrs.to_csv(data_dir+'raw_demand_3yrs.csv', index=False)"
   ]
  },
  {
   "cell_type": "code",
   "execution_count": 31,
   "metadata": {},
   "outputs": [
    {
     "data": {
      "text/plain": [
       "(16328, 8)"
      ]
     },
     "execution_count": 31,
     "metadata": {},
     "output_type": "execute_result"
    }
   ],
   "source": [
    "raw_demand_3yrs.shape"
   ]
  },
  {
   "cell_type": "code",
   "execution_count": null,
   "metadata": {},
   "outputs": [],
   "source": []
  },
  {
   "cell_type": "code",
   "execution_count": 36,
   "metadata": {},
   "outputs": [],
   "source": []
  },
  {
   "cell_type": "markdown",
   "metadata": {},
   "source": [
    "<h1>Details</h1>"
   ]
  },
  {
   "cell_type": "code",
   "execution_count": 46,
   "metadata": {},
   "outputs": [
    {
     "name": "stdout",
     "output_type": "stream",
     "text": [
      "(3093, 22)\n",
      "(5529, 10)\n",
      "(6739, 13)\n"
     ]
    }
   ],
   "source": [
    "import os\n",
    "import re\n",
    "\n",
    "import pandas as pd\n",
    "\n",
    "from datetime import datetime as dt\n",
    "\n",
    "import matplotlib.pyplot as plt\n",
    "%matplotlib inline\n",
    "\n",
    "\n",
    "data_dir = '/Users/boyuliu/pyprojects/Joann/Joann-Thailand-Project/notebooks/datasets/new_dataset/'\n",
    "# cases_kpis = data_dir + 'cases_kpis.csv'\n",
    "demand2017 = data_dir + 'demand_data.csv'\n",
    "demand2018 = '/Users/boyuliu/Dropbox (MIT)/Boyu-Joann/Data/Demand_data/clean/2018 Thai demand approved list.csv'\n",
    "demand2019 = '/Users/boyuliu/Dropbox (MIT)/Boyu-Joann/Data/Demand_data/clean/2019 Thai Demand Approved List.csv'\n",
    "\n",
    "data2017 = pd.read_csv(demand2017)\n",
    "print(data2017.shape)\n",
    "data2018 = pd.read_csv(demand2018)\n",
    "print(data2018.shape)\n",
    "data2019 = pd.read_csv(demand2019)\n",
    "print(data2019.shape)"
   ]
  },
  {
   "cell_type": "code",
   "execution_count": 2,
   "metadata": {},
   "outputs": [
    {
     "data": {
      "text/plain": [
       "(3095, 12)"
      ]
     },
     "execution_count": 2,
     "metadata": {},
     "output_type": "execute_result"
    }
   ],
   "source": [
    "old_demand2017 = '/Users/boyuliu/Dropbox (MIT)/Boyu-Joann/Data/Demand_data/clean/2017_demand_approved_aggregate.csv'\n",
    "old_demand2017 = pd.read_csv(old_demand2017)\n",
    "old_demand2017.shape"
   ]
  },
  {
   "cell_type": "code",
   "execution_count": 3,
   "metadata": {},
   "outputs": [
    {
     "data": {
      "text/html": [
       "<div>\n",
       "<style scoped>\n",
       "    .dataframe tbody tr th:only-of-type {\n",
       "        vertical-align: middle;\n",
       "    }\n",
       "\n",
       "    .dataframe tbody tr th {\n",
       "        vertical-align: top;\n",
       "    }\n",
       "\n",
       "    .dataframe thead th {\n",
       "        text-align: right;\n",
       "    }\n",
       "</style>\n",
       "<table border=\"1\" class=\"dataframe\">\n",
       "  <thead>\n",
       "    <tr style=\"text-align: right;\">\n",
       "      <th></th>\n",
       "      <th>Unnamed: 0</th>\n",
       "      <th>id</th>\n",
       "      <th>created</th>\n",
       "      <th>week</th>\n",
       "      <th>year</th>\n",
       "      <th>month</th>\n",
       "      <th>year_month</th>\n",
       "      <th>recruiter_name</th>\n",
       "      <th>supplier_name</th>\n",
       "      <th>province</th>\n",
       "      <th>...</th>\n",
       "      <th>subindustry</th>\n",
       "      <th>factorytype_id</th>\n",
       "      <th>ilm_industry_id</th>\n",
       "      <th>ilm_subindustry_id</th>\n",
       "      <th>num_total</th>\n",
       "      <th>num_females</th>\n",
       "      <th>num_males</th>\n",
       "      <th>recruiter_id</th>\n",
       "      <th>supplier_id</th>\n",
       "      <th>record_date</th>\n",
       "    </tr>\n",
       "  </thead>\n",
       "  <tbody>\n",
       "    <tr>\n",
       "      <th>0</th>\n",
       "      <td>0</td>\n",
       "      <td>1</td>\n",
       "      <td>2020-06-24</td>\n",
       "      <td>16-2017</td>\n",
       "      <td>2017</td>\n",
       "      <td>April</td>\n",
       "      <td>2017-04</td>\n",
       "      <td>Labour Asia Services Co., Ltd</td>\n",
       "      <td>145 Sriayutthaya Concrete Co., Ltd</td>\n",
       "      <td>Phra Nakhon Si Ayutthaya</td>\n",
       "      <td>...</td>\n",
       "      <td>Construction materials</td>\n",
       "      <td>1</td>\n",
       "      <td>3</td>\n",
       "      <td>21</td>\n",
       "      <td>50</td>\n",
       "      <td>15</td>\n",
       "      <td>35</td>\n",
       "      <td>418.0</td>\n",
       "      <td>1178</td>\n",
       "      <td>2017-04-16</td>\n",
       "    </tr>\n",
       "    <tr>\n",
       "      <th>1</th>\n",
       "      <td>1</td>\n",
       "      <td>2</td>\n",
       "      <td>2020-06-24</td>\n",
       "      <td>48-2017</td>\n",
       "      <td>2017</td>\n",
       "      <td>November</td>\n",
       "      <td>2017-11</td>\n",
       "      <td>Good Job Co., Ltd</td>\n",
       "      <td>225 Construction and Service Co., Ltd</td>\n",
       "      <td>Bangkok</td>\n",
       "      <td>...</td>\n",
       "      <td>Construction</td>\n",
       "      <td>2</td>\n",
       "      <td>3</td>\n",
       "      <td>20</td>\n",
       "      <td>15</td>\n",
       "      <td>0</td>\n",
       "      <td>15</td>\n",
       "      <td>419.0</td>\n",
       "      <td>1179</td>\n",
       "      <td>2017-11-26</td>\n",
       "    </tr>\n",
       "    <tr>\n",
       "      <th>2</th>\n",
       "      <td>2</td>\n",
       "      <td>3</td>\n",
       "      <td>2020-06-24</td>\n",
       "      <td>16-2017</td>\n",
       "      <td>2017</td>\n",
       "      <td>April</td>\n",
       "      <td>2017-04</td>\n",
       "      <td>Lucky Employment Co., Ltd</td>\n",
       "      <td>2K Interfood Co., Ltd</td>\n",
       "      <td>Saraburi</td>\n",
       "      <td>...</td>\n",
       "      <td>Other</td>\n",
       "      <td>3</td>\n",
       "      <td>21</td>\n",
       "      <td>19</td>\n",
       "      <td>20</td>\n",
       "      <td>8</td>\n",
       "      <td>12</td>\n",
       "      <td>246.0</td>\n",
       "      <td>1180</td>\n",
       "      <td>2017-04-16</td>\n",
       "    </tr>\n",
       "    <tr>\n",
       "      <th>3</th>\n",
       "      <td>3</td>\n",
       "      <td>4</td>\n",
       "      <td>2020-06-24</td>\n",
       "      <td>5-2017</td>\n",
       "      <td>2017</td>\n",
       "      <td>January</td>\n",
       "      <td>2017-01</td>\n",
       "      <td>Lovely World Services Co., Ltd</td>\n",
       "      <td>3 Porn Co., Ltd</td>\n",
       "      <td>Bangkok</td>\n",
       "      <td>...</td>\n",
       "      <td>Construction</td>\n",
       "      <td>2</td>\n",
       "      <td>3</td>\n",
       "      <td>20</td>\n",
       "      <td>100</td>\n",
       "      <td>40</td>\n",
       "      <td>60</td>\n",
       "      <td>34.0</td>\n",
       "      <td>1181</td>\n",
       "      <td>2017-01-29</td>\n",
       "    </tr>\n",
       "    <tr>\n",
       "      <th>4</th>\n",
       "      <td>4</td>\n",
       "      <td>5</td>\n",
       "      <td>2020-06-24</td>\n",
       "      <td>5-2017</td>\n",
       "      <td>2017</td>\n",
       "      <td>January</td>\n",
       "      <td>2017-01</td>\n",
       "      <td>Lovely World Services Co., Ltd</td>\n",
       "      <td>3 Porn Co., Ltd</td>\n",
       "      <td>Bangkok</td>\n",
       "      <td>...</td>\n",
       "      <td>Construction</td>\n",
       "      <td>2</td>\n",
       "      <td>3</td>\n",
       "      <td>20</td>\n",
       "      <td>100</td>\n",
       "      <td>40</td>\n",
       "      <td>60</td>\n",
       "      <td>34.0</td>\n",
       "      <td>1181</td>\n",
       "      <td>2017-01-29</td>\n",
       "    </tr>\n",
       "  </tbody>\n",
       "</table>\n",
       "<p>5 rows × 22 columns</p>\n",
       "</div>"
      ],
      "text/plain": [
       "   Unnamed: 0  id     created     week  year     month year_month  \\\n",
       "0           0   1  2020-06-24  16-2017  2017     April    2017-04   \n",
       "1           1   2  2020-06-24  48-2017  2017  November    2017-11   \n",
       "2           2   3  2020-06-24  16-2017  2017     April    2017-04   \n",
       "3           3   4  2020-06-24   5-2017  2017   January    2017-01   \n",
       "4           4   5  2020-06-24   5-2017  2017   January    2017-01   \n",
       "\n",
       "                   recruiter_name                          supplier_name  \\\n",
       "0   Labour Asia Services Co., Ltd     145 Sriayutthaya Concrete Co., Ltd   \n",
       "1               Good Job Co., Ltd  225 Construction and Service Co., Ltd   \n",
       "2       Lucky Employment Co., Ltd                  2K Interfood Co., Ltd   \n",
       "3  Lovely World Services Co., Ltd                        3 Porn Co., Ltd   \n",
       "4  Lovely World Services Co., Ltd                        3 Porn Co., Ltd   \n",
       "\n",
       "                   province  ...             subindustry factorytype_id  \\\n",
       "0  Phra Nakhon Si Ayutthaya  ...  Construction materials              1   \n",
       "1                   Bangkok  ...            Construction              2   \n",
       "2                  Saraburi  ...                   Other              3   \n",
       "3                   Bangkok  ...            Construction              2   \n",
       "4                   Bangkok  ...            Construction              2   \n",
       "\n",
       "  ilm_industry_id  ilm_subindustry_id  num_total  num_females  num_males  \\\n",
       "0               3                  21         50           15         35   \n",
       "1               3                  20         15            0         15   \n",
       "2              21                  19         20            8         12   \n",
       "3               3                  20        100           40         60   \n",
       "4               3                  20        100           40         60   \n",
       "\n",
       "   recruiter_id  supplier_id  record_date  \n",
       "0         418.0         1178   2017-04-16  \n",
       "1         419.0         1179   2017-11-26  \n",
       "2         246.0         1180   2017-04-16  \n",
       "3          34.0         1181   2017-01-29  \n",
       "4          34.0         1181   2017-01-29  \n",
       "\n",
       "[5 rows x 22 columns]"
      ]
     },
     "execution_count": 3,
     "metadata": {},
     "output_type": "execute_result"
    }
   ],
   "source": [
    "data2017.head()"
   ]
  },
  {
   "cell_type": "code",
   "execution_count": 4,
   "metadata": {},
   "outputs": [
    {
     "data": {
      "text/html": [
       "<div>\n",
       "<style scoped>\n",
       "    .dataframe tbody tr th:only-of-type {\n",
       "        vertical-align: middle;\n",
       "    }\n",
       "\n",
       "    .dataframe tbody tr th {\n",
       "        vertical-align: top;\n",
       "    }\n",
       "\n",
       "    .dataframe thead th {\n",
       "        text-align: right;\n",
       "    }\n",
       "</style>\n",
       "<table border=\"1\" class=\"dataframe\">\n",
       "  <thead>\n",
       "    <tr style=\"text-align: right;\">\n",
       "      <th></th>\n",
       "      <th>Week</th>\n",
       "      <th>Myanmar RA</th>\n",
       "      <th>Thai Company</th>\n",
       "      <th>Location</th>\n",
       "      <th>Type of Factory</th>\n",
       "      <th>industry _name</th>\n",
       "      <th>sub_industry_name</th>\n",
       "      <th>male</th>\n",
       "      <th>female</th>\n",
       "      <th>total</th>\n",
       "    </tr>\n",
       "  </thead>\n",
       "  <tbody>\n",
       "    <tr>\n",
       "      <th>0</th>\n",
       "      <td>1-2018</td>\n",
       "      <td>Toe Tet Chantha Services Co., Ltd</td>\n",
       "      <td>VRP Food and Bakery Co.,Ltd</td>\n",
       "      <td>Kanchanaburi</td>\n",
       "      <td>Cake &amp; Ice Cream</td>\n",
       "      <td>Food and Beverage</td>\n",
       "      <td>Snacks</td>\n",
       "      <td>5</td>\n",
       "      <td>25</td>\n",
       "      <td>30.0</td>\n",
       "    </tr>\n",
       "    <tr>\n",
       "      <th>1</th>\n",
       "      <td>1-2018</td>\n",
       "      <td>Toe Tet Chantha Services Co., Ltd</td>\n",
       "      <td>A one Auto Part Co.,Ltd</td>\n",
       "      <td>Ratchaburi</td>\n",
       "      <td>Spare Parts Production</td>\n",
       "      <td>NaN</td>\n",
       "      <td>NaN</td>\n",
       "      <td>15</td>\n",
       "      <td>0</td>\n",
       "      <td>15.0</td>\n",
       "    </tr>\n",
       "    <tr>\n",
       "      <th>2</th>\n",
       "      <td>1-2018</td>\n",
       "      <td>Toe Tet Chantha Services Co., Ltd</td>\n",
       "      <td>Grand Asis Food Industry Co.,Ltd</td>\n",
       "      <td>Ratchaburi</td>\n",
       "      <td>Vegetables Packaging</td>\n",
       "      <td>NaN</td>\n",
       "      <td>NaN</td>\n",
       "      <td>10</td>\n",
       "      <td>15</td>\n",
       "      <td>25.0</td>\n",
       "    </tr>\n",
       "    <tr>\n",
       "      <th>3</th>\n",
       "      <td>1-2018</td>\n",
       "      <td>Toe Tet Chantha Services Co., Ltd</td>\n",
       "      <td>Ch Chairat Construction</td>\n",
       "      <td>Kanchanaburi</td>\n",
       "      <td>Construction</td>\n",
       "      <td>Construction</td>\n",
       "      <td>Construction</td>\n",
       "      <td>10</td>\n",
       "      <td>0</td>\n",
       "      <td>10.0</td>\n",
       "    </tr>\n",
       "    <tr>\n",
       "      <th>4</th>\n",
       "      <td>1-2018</td>\n",
       "      <td>Shwe Kyi Oo Services Co., Ltd</td>\n",
       "      <td>Duct Asia Engineering Co.,Ltd</td>\n",
       "      <td>Pathum Thani</td>\n",
       "      <td>Installation AirCon</td>\n",
       "      <td>Services</td>\n",
       "      <td>Other</td>\n",
       "      <td>50</td>\n",
       "      <td>0</td>\n",
       "      <td>50.0</td>\n",
       "    </tr>\n",
       "  </tbody>\n",
       "</table>\n",
       "</div>"
      ],
      "text/plain": [
       "     Week                         Myanmar RA  \\\n",
       "0  1-2018  Toe Tet Chantha Services Co., Ltd   \n",
       "1  1-2018  Toe Tet Chantha Services Co., Ltd   \n",
       "2  1-2018  Toe Tet Chantha Services Co., Ltd   \n",
       "3  1-2018  Toe Tet Chantha Services Co., Ltd   \n",
       "4  1-2018      Shwe Kyi Oo Services Co., Ltd   \n",
       "\n",
       "                       Thai Company      Location         Type of Factory  \\\n",
       "0       VRP Food and Bakery Co.,Ltd  Kanchanaburi        Cake & Ice Cream   \n",
       "1           A one Auto Part Co.,Ltd    Ratchaburi  Spare Parts Production   \n",
       "2  Grand Asis Food Industry Co.,Ltd    Ratchaburi    Vegetables Packaging   \n",
       "3           Ch Chairat Construction  Kanchanaburi            Construction   \n",
       "4     Duct Asia Engineering Co.,Ltd  Pathum Thani     Installation AirCon   \n",
       "\n",
       "      industry _name sub_industry_name male female  total  \n",
       "0  Food and Beverage            Snacks    5     25   30.0  \n",
       "1                NaN               NaN   15      0   15.0  \n",
       "2                NaN               NaN   10     15   25.0  \n",
       "3       Construction      Construction   10      0   10.0  \n",
       "4           Services             Other   50      0   50.0  "
      ]
     },
     "execution_count": 4,
     "metadata": {},
     "output_type": "execute_result"
    }
   ],
   "source": [
    "data2018.head()"
   ]
  },
  {
   "cell_type": "code",
   "execution_count": 5,
   "metadata": {},
   "outputs": [
    {
     "data": {
      "text/html": [
       "<div>\n",
       "<style scoped>\n",
       "    .dataframe tbody tr th:only-of-type {\n",
       "        vertical-align: middle;\n",
       "    }\n",
       "\n",
       "    .dataframe tbody tr th {\n",
       "        vertical-align: top;\n",
       "    }\n",
       "\n",
       "    .dataframe thead th {\n",
       "        text-align: right;\n",
       "    }\n",
       "</style>\n",
       "<table border=\"1\" class=\"dataframe\">\n",
       "  <thead>\n",
       "    <tr style=\"text-align: right;\">\n",
       "      <th></th>\n",
       "      <th>Month</th>\n",
       "      <th>Week</th>\n",
       "      <th>Myanmar RA</th>\n",
       "      <th>Thai Company</th>\n",
       "      <th>Location</th>\n",
       "      <th>Type of Factory</th>\n",
       "      <th>industry_name</th>\n",
       "      <th>sub_industry_name</th>\n",
       "      <th>Male</th>\n",
       "      <th>Female</th>\n",
       "      <th>Total</th>\n",
       "      <th>Unnamed: 11</th>\n",
       "      <th>Unnamed: 12</th>\n",
       "    </tr>\n",
       "  </thead>\n",
       "  <tbody>\n",
       "    <tr>\n",
       "      <th>0</th>\n",
       "      <td>January</td>\n",
       "      <td>Jan-19</td>\n",
       "      <td>Myanmar Shwe Yanant Co., Ltd</td>\n",
       "      <td>Sino- Thai Engineering &amp; Construction Public C...</td>\n",
       "      <td>Bangkok</td>\n",
       "      <td>Construction</td>\n",
       "      <td>Construction</td>\n",
       "      <td>Construction</td>\n",
       "      <td>100</td>\n",
       "      <td>0</td>\n",
       "      <td>100</td>\n",
       "      <td>NaN</td>\n",
       "      <td>NaN</td>\n",
       "    </tr>\n",
       "    <tr>\n",
       "      <th>1</th>\n",
       "      <td>January</td>\n",
       "      <td>Jan-19</td>\n",
       "      <td>Myanmar Shwe Yanant Co., Ltd</td>\n",
       "      <td>United Technology Development Co.,Ltd</td>\n",
       "      <td>Samut Prakan</td>\n",
       "      <td>Repair and Production Airconditioning</td>\n",
       "      <td>Services</td>\n",
       "      <td>Other</td>\n",
       "      <td>14</td>\n",
       "      <td>0</td>\n",
       "      <td>14</td>\n",
       "      <td>NaN</td>\n",
       "      <td>NaN</td>\n",
       "    </tr>\n",
       "    <tr>\n",
       "      <th>2</th>\n",
       "      <td>January</td>\n",
       "      <td>Jan-19</td>\n",
       "      <td>Myanmar Shwe Yanant Co., Ltd</td>\n",
       "      <td>E.N C Co.,Ltd</td>\n",
       "      <td>Samut Prakan</td>\n",
       "      <td>Iron Materials Polish</td>\n",
       "      <td>Manufacturing</td>\n",
       "      <td>Iron and Metals</td>\n",
       "      <td>15</td>\n",
       "      <td>0</td>\n",
       "      <td>15</td>\n",
       "      <td>NaN</td>\n",
       "      <td>NaN</td>\n",
       "    </tr>\n",
       "    <tr>\n",
       "      <th>3</th>\n",
       "      <td>January</td>\n",
       "      <td>Jan-19</td>\n",
       "      <td>Myanmar Pleasant Scenery Co., Ltd</td>\n",
       "      <td>Kongmun Karnchang Limited Partnership</td>\n",
       "      <td>Songkhla</td>\n",
       "      <td>Construction</td>\n",
       "      <td>Construction</td>\n",
       "      <td>Construction</td>\n",
       "      <td>100</td>\n",
       "      <td>0</td>\n",
       "      <td>100</td>\n",
       "      <td>NaN</td>\n",
       "      <td>NaN</td>\n",
       "    </tr>\n",
       "    <tr>\n",
       "      <th>4</th>\n",
       "      <td>January</td>\n",
       "      <td>Jan-19</td>\n",
       "      <td>Myanmar Pleasant Scenery Co., Ltd</td>\n",
       "      <td>Westcon Co.,Ltd</td>\n",
       "      <td>Bangkok</td>\n",
       "      <td>Construction</td>\n",
       "      <td>Construction</td>\n",
       "      <td>Construction</td>\n",
       "      <td>100</td>\n",
       "      <td>0</td>\n",
       "      <td>100</td>\n",
       "      <td>NaN</td>\n",
       "      <td>NaN</td>\n",
       "    </tr>\n",
       "  </tbody>\n",
       "</table>\n",
       "</div>"
      ],
      "text/plain": [
       "     Month    Week                         Myanmar RA  \\\n",
       "0  January  Jan-19       Myanmar Shwe Yanant Co., Ltd   \n",
       "1  January  Jan-19       Myanmar Shwe Yanant Co., Ltd   \n",
       "2  January  Jan-19       Myanmar Shwe Yanant Co., Ltd   \n",
       "3  January  Jan-19  Myanmar Pleasant Scenery Co., Ltd   \n",
       "4  January  Jan-19  Myanmar Pleasant Scenery Co., Ltd   \n",
       "\n",
       "                                        Thai Company      Location  \\\n",
       "0  Sino- Thai Engineering & Construction Public C...       Bangkok   \n",
       "1              United Technology Development Co.,Ltd  Samut Prakan   \n",
       "2                                      E.N C Co.,Ltd  Samut Prakan   \n",
       "3              Kongmun Karnchang Limited Partnership      Songkhla   \n",
       "4                                    Westcon Co.,Ltd       Bangkok   \n",
       "\n",
       "                          Type of Factory  industry_name sub_industry_name  \\\n",
       "0                            Construction   Construction      Construction   \n",
       "1  Repair and Production Airconditioning        Services             Other   \n",
       "2                   Iron Materials Polish  Manufacturing   Iron and Metals   \n",
       "3                            Construction   Construction      Construction   \n",
       "4                            Construction   Construction      Construction   \n",
       "\n",
       "  Male Female  Total  Unnamed: 11 Unnamed: 12  \n",
       "0  100      0    100          NaN         NaN  \n",
       "1   14      0     14          NaN         NaN  \n",
       "2   15      0     15          NaN         NaN  \n",
       "3  100      0    100          NaN         NaN  \n",
       "4  100      0    100          NaN         NaN  "
      ]
     },
     "execution_count": 5,
     "metadata": {},
     "output_type": "execute_result"
    }
   ],
   "source": [
    "data2019.head()"
   ]
  },
  {
   "cell_type": "code",
   "execution_count": 6,
   "metadata": {},
   "outputs": [
    {
     "data": {
      "text/plain": [
       "Index(['Unnamed: 0', 'id', 'created', 'week', 'year', 'month', 'year_month',\n",
       "       'recruiter_name', 'supplier_name', 'province', 'type_of_factory',\n",
       "       'industry', 'subindustry', 'factorytype_id', 'ilm_industry_id',\n",
       "       'ilm_subindustry_id', 'num_total', 'num_females', 'num_males',\n",
       "       'recruiter_id', 'supplier_id', 'record_date'],\n",
       "      dtype='object')"
      ]
     },
     "execution_count": 6,
     "metadata": {},
     "output_type": "execute_result"
    }
   ],
   "source": [
    "data2017.columns"
   ]
  },
  {
   "cell_type": "code",
   "execution_count": 7,
   "metadata": {},
   "outputs": [
    {
     "data": {
      "text/plain": [
       "Bangkok           535\n",
       "Samut Sakhon      393\n",
       "Nakhon Pathom     258\n",
       "Samut Prakan      256\n",
       "Pathum Thani      195\n",
       "                 ... \n",
       "\\nBangkok           1\n",
       "Loei                1\n",
       "Nakho Sawan         1\n",
       "Nakkhon Pathom      1\n",
       "Phare               1\n",
       "Name: province, Length: 64, dtype: int64"
      ]
     },
     "execution_count": 7,
     "metadata": {},
     "output_type": "execute_result"
    }
   ],
   "source": [
    "data2017.province.value_counts()"
   ]
  },
  {
   "cell_type": "code",
   "execution_count": 8,
   "metadata": {},
   "outputs": [
    {
     "data": {
      "text/plain": [
       "Manufacturing                     1439\n",
       "Food and Beverage                  596\n",
       "Construction                       569\n",
       "Seafood                            185\n",
       "Services                           161\n",
       "Packaging                           64\n",
       "Waste Management and Recycling      39\n",
       "Agriculture and Forestry            33\n",
       "Mining                               7\n",
       "Name: industry, dtype: int64"
      ]
     },
     "execution_count": 8,
     "metadata": {},
     "output_type": "execute_result"
    }
   ],
   "source": [
    "data2017.industry.value_counts()"
   ]
  },
  {
   "cell_type": "code",
   "execution_count": 10,
   "metadata": {},
   "outputs": [
    {
     "data": {
      "text/plain": [
       "Manufacturing                     2446\n",
       "Construction                      2149\n",
       "Food and Beverage                  923\n",
       "Services                           332\n",
       "Seafood                            301\n",
       "Agriculture and Livestock          196\n",
       "Natural Resources                  159\n",
       "Packaging                          123\n",
       "Waste Management and Recycling      99\n",
       "Recycling                            5\n",
       "Not Available                        2\n",
       "Name: industry_name, dtype: int64"
      ]
     },
     "execution_count": 10,
     "metadata": {},
     "output_type": "execute_result"
    }
   ],
   "source": [
    "data2019.industry_name.value_counts()"
   ]
  },
  {
   "cell_type": "code",
   "execution_count": 47,
   "metadata": {},
   "outputs": [],
   "source": [
    "data2019.loc[data2019['Week']=='Jan-19','Week']  = '01-2019'\n",
    "data2019.loc[data2019['Week']=='Feb-19','Week']  = '02-2019'\n",
    "data2019.loc[data2019['Week']=='Mar-19','Week']  = '03-2019'\n",
    "data2019.loc[data2019['Week']=='Apr-19','Week']  = '04-2019'\n",
    "data2019.loc[data2019['Week']=='May-19','Week']  = '05-2019'\n",
    "data2019.loc[data2019['Week']=='Jun-19','Week']  = '06-2019'\n",
    "data2019.loc[data2019['Week']=='Jul-19','Week']  = '07-2019'\n",
    "data2019.loc[data2019['Week']=='Aug-19','Week']  = '08-2019'\n",
    "data2019.loc[data2019['Week']=='Sep-19','Week']  = '09-2019'\n",
    "data2019.loc[data2019['Week']=='Oct-19','Week']  = '10-2019'\n",
    "data2019.loc[data2019['Week']=='Nov-19','Week']  = '11-2019'\n",
    "data2019.loc[data2019['Week']=='Dec-19','Week']  = '12-2019'\n",
    "data2017.loc[data2017['industry']=='Mining', 'industry'] = 'Natural Resources'\n",
    "data2017.loc[data2017['industry']=='Recycling', 'industry'] = 'Waste Management and Recycling'\n",
    "data2017.loc[data2017['industry']=='Agriculture and Forestry', 'industry'] = 'Agriculture and Livestock'"
   ]
  },
  {
   "cell_type": "code",
   "execution_count": 48,
   "metadata": {},
   "outputs": [],
   "source": [
    "# parse weeks\n",
    "## file contains data from 2018 but they are legit\n",
    "data2017['week_num'] = data2017['week'].apply(lambda x: int(x.split('-')[0]))\n",
    "data2017['year'] = data2017['week'].apply(lambda x: int(x.split('-')[1]))\n",
    "\n",
    "data2018.loc[data2018['Week']=='31-2019', 'Week'] = '31-2018' # data entry error\n",
    "data2018['week_num'] = data2018['Week'].apply(lambda x: int(x.split('-')[0]))\n",
    "data2018['year'] = data2018['Week'].apply(lambda x: int(x.split('-')[1]))\n",
    "\n",
    "data2019.loc[data2019['Week']=='25-2016', 'Week'] = '25-2019' # data entry error\n",
    "data2019['week_num'] = data2019['Week'].apply(lambda x: int(x.split('-')[0]))\n",
    "data2019['year'] = data2019['Week'].apply(lambda x: int(x.split('-')[1]))\n",
    "\n",
    "# merge datasets\n",
    "# ------------------------------------------------------------------------------------------\n",
    "data2019 = data2019.loc[:, ['Location', 'Total', 'week_num', 'year', 'industry_name', 'Male', 'Female']].\\\n",
    "            rename(columns={'week_num': 'week','Location':'province', 'Total':'total', 'industry_name':'industry',\n",
    "                           'Male':'male', 'Female':'female'})\n",
    "\n",
    "data2018 = data2018.loc[:, ['Location', 'total', 'week_num', 'year', 'industry _name', 'male', 'female']].\\\n",
    "            rename(columns={'week_num': 'week', 'Location':'province', 'industry_name':'industry'})\n",
    "\n",
    "data2017 = data2017.loc[:, ['province','num_total','week_num','year','industry',\n",
    "                            'num_males', 'num_females']].\\\n",
    "            rename(columns={'week_num': 'week', 'num_total':'total', 'num_males':'male',\n",
    "                            'num_females':'female'})\n",
    "\n",
    "raw_demand_3yrs = pd.concat([data2017, data2018, data2019])"
   ]
  },
  {
   "cell_type": "code",
   "execution_count": 49,
   "metadata": {},
   "outputs": [
    {
     "data": {
      "text/html": [
       "<div>\n",
       "<style scoped>\n",
       "    .dataframe tbody tr th:only-of-type {\n",
       "        vertical-align: middle;\n",
       "    }\n",
       "\n",
       "    .dataframe tbody tr th {\n",
       "        vertical-align: top;\n",
       "    }\n",
       "\n",
       "    .dataframe thead th {\n",
       "        text-align: right;\n",
       "    }\n",
       "</style>\n",
       "<table border=\"1\" class=\"dataframe\">\n",
       "  <thead>\n",
       "    <tr style=\"text-align: right;\">\n",
       "      <th></th>\n",
       "      <th>province</th>\n",
       "      <th>total</th>\n",
       "      <th>week</th>\n",
       "      <th>year</th>\n",
       "      <th>industry</th>\n",
       "      <th>male</th>\n",
       "      <th>female</th>\n",
       "    </tr>\n",
       "  </thead>\n",
       "  <tbody>\n",
       "    <tr>\n",
       "      <th>0</th>\n",
       "      <td>Phra Nakhon Si Ayutthaya</td>\n",
       "      <td>50.0</td>\n",
       "      <td>16</td>\n",
       "      <td>2017</td>\n",
       "      <td>Construction</td>\n",
       "      <td>35</td>\n",
       "      <td>15</td>\n",
       "    </tr>\n",
       "    <tr>\n",
       "      <th>1</th>\n",
       "      <td>Bangkok</td>\n",
       "      <td>15.0</td>\n",
       "      <td>48</td>\n",
       "      <td>2017</td>\n",
       "      <td>Construction</td>\n",
       "      <td>15</td>\n",
       "      <td>0</td>\n",
       "    </tr>\n",
       "    <tr>\n",
       "      <th>2</th>\n",
       "      <td>Saraburi</td>\n",
       "      <td>20.0</td>\n",
       "      <td>16</td>\n",
       "      <td>2017</td>\n",
       "      <td>Food and Beverage</td>\n",
       "      <td>12</td>\n",
       "      <td>8</td>\n",
       "    </tr>\n",
       "    <tr>\n",
       "      <th>3</th>\n",
       "      <td>Bangkok</td>\n",
       "      <td>100.0</td>\n",
       "      <td>5</td>\n",
       "      <td>2017</td>\n",
       "      <td>Construction</td>\n",
       "      <td>60</td>\n",
       "      <td>40</td>\n",
       "    </tr>\n",
       "    <tr>\n",
       "      <th>4</th>\n",
       "      <td>Bangkok</td>\n",
       "      <td>100.0</td>\n",
       "      <td>5</td>\n",
       "      <td>2017</td>\n",
       "      <td>Construction</td>\n",
       "      <td>60</td>\n",
       "      <td>40</td>\n",
       "    </tr>\n",
       "  </tbody>\n",
       "</table>\n",
       "</div>"
      ],
      "text/plain": [
       "                   province  total  week  year           industry male female\n",
       "0  Phra Nakhon Si Ayutthaya   50.0    16  2017       Construction   35     15\n",
       "1                   Bangkok   15.0    48  2017       Construction   15      0\n",
       "2                  Saraburi   20.0    16  2017  Food and Beverage   12      8\n",
       "3                   Bangkok  100.0     5  2017       Construction   60     40\n",
       "4                   Bangkok  100.0     5  2017       Construction   60     40"
      ]
     },
     "execution_count": 49,
     "metadata": {},
     "output_type": "execute_result"
    }
   ],
   "source": [
    "raw_demand_3yrs.head()"
   ]
  },
  {
   "cell_type": "code",
   "execution_count": 36,
   "metadata": {},
   "outputs": [
    {
     "data": {
      "text/plain": [
       "2019    6739\n",
       "2018    5586\n",
       "2017    3036\n",
       "Name: year, dtype: int64"
      ]
     },
     "execution_count": 36,
     "metadata": {},
     "output_type": "execute_result"
    }
   ],
   "source": [
    "raw_demand_3yrs.year.value_counts()"
   ]
  },
  {
   "cell_type": "code",
   "execution_count": 82,
   "metadata": {},
   "outputs": [
    {
     "data": {
      "text/plain": [
       "Manufacturing                     3884\n",
       "Construction                      2717\n",
       "Food and Beverage                 1517\n",
       "Services                           492\n",
       "Seafood                            485\n",
       "Agriculture and Livestock          194\n",
       "Packaging                          187\n",
       "Natural Resources                  166\n",
       "Waste Management and Recycling     138\n",
       "Agriculture and Forestry            33\n",
       "Recycling                            5\n",
       "Not Available                        2\n",
       "Name: industry, dtype: int64"
      ]
     },
     "execution_count": 82,
     "metadata": {},
     "output_type": "execute_result"
    }
   ],
   "source": [
    "raw_demand_3yrs.industry.value_counts()"
   ]
  },
  {
   "cell_type": "code",
   "execution_count": 52,
   "metadata": {},
   "outputs": [
    {
     "name": "stdout",
     "output_type": "stream",
     "text": [
      "10 entries have empty total requests\n"
     ]
    },
    {
     "data": {
      "text/html": [
       "<div>\n",
       "<style scoped>\n",
       "    .dataframe tbody tr th:only-of-type {\n",
       "        vertical-align: middle;\n",
       "    }\n",
       "\n",
       "    .dataframe tbody tr th {\n",
       "        vertical-align: top;\n",
       "    }\n",
       "\n",
       "    .dataframe thead th {\n",
       "        text-align: right;\n",
       "    }\n",
       "</style>\n",
       "<table border=\"1\" class=\"dataframe\">\n",
       "  <thead>\n",
       "    <tr style=\"text-align: right;\">\n",
       "      <th></th>\n",
       "      <th>province</th>\n",
       "      <th>total</th>\n",
       "      <th>week</th>\n",
       "      <th>year</th>\n",
       "      <th>industry</th>\n",
       "      <th>male</th>\n",
       "      <th>female</th>\n",
       "    </tr>\n",
       "  </thead>\n",
       "  <tbody>\n",
       "    <tr>\n",
       "      <th>2430</th>\n",
       "      <td>Chonburi</td>\n",
       "      <td>NaN</td>\n",
       "      <td>28</td>\n",
       "      <td>2018</td>\n",
       "      <td>NaN</td>\n",
       "      <td>30</td>\n",
       "      <td>NaN</td>\n",
       "    </tr>\n",
       "    <tr>\n",
       "      <th>2507</th>\n",
       "      <td>Songkhla</td>\n",
       "      <td>NaN</td>\n",
       "      <td>28</td>\n",
       "      <td>2018</td>\n",
       "      <td>NaN</td>\n",
       "      <td>15</td>\n",
       "      <td>NaN</td>\n",
       "    </tr>\n",
       "    <tr>\n",
       "      <th>2592</th>\n",
       "      <td>Samut Sakhon</td>\n",
       "      <td>NaN</td>\n",
       "      <td>28</td>\n",
       "      <td>2018</td>\n",
       "      <td>NaN</td>\n",
       "      <td>5</td>\n",
       "      <td>NaN</td>\n",
       "    </tr>\n",
       "    <tr>\n",
       "      <th>2916</th>\n",
       "      <td>Chonburi</td>\n",
       "      <td>NaN</td>\n",
       "      <td>30</td>\n",
       "      <td>2018</td>\n",
       "      <td>NaN</td>\n",
       "      <td>NaN</td>\n",
       "      <td>NaN</td>\n",
       "    </tr>\n",
       "    <tr>\n",
       "      <th>2934</th>\n",
       "      <td>Samut Sakhon</td>\n",
       "      <td>NaN</td>\n",
       "      <td>30</td>\n",
       "      <td>2018</td>\n",
       "      <td>NaN</td>\n",
       "      <td>NaN</td>\n",
       "      <td>NaN</td>\n",
       "    </tr>\n",
       "    <tr>\n",
       "      <th>2966</th>\n",
       "      <td>NaN</td>\n",
       "      <td>NaN</td>\n",
       "      <td>31</td>\n",
       "      <td>2018</td>\n",
       "      <td>NaN</td>\n",
       "      <td>NaN</td>\n",
       "      <td>NaN</td>\n",
       "    </tr>\n",
       "    <tr>\n",
       "      <th>3559</th>\n",
       "      <td>Samut Sakhon</td>\n",
       "      <td>NaN</td>\n",
       "      <td>36</td>\n",
       "      <td>2018</td>\n",
       "      <td>NaN</td>\n",
       "      <td>20</td>\n",
       "      <td>10</td>\n",
       "    </tr>\n",
       "    <tr>\n",
       "      <th>3740</th>\n",
       "      <td>Samut Sakhon</td>\n",
       "      <td>NaN</td>\n",
       "      <td>38</td>\n",
       "      <td>2018</td>\n",
       "      <td>NaN</td>\n",
       "      <td>NaN</td>\n",
       "      <td>NaN</td>\n",
       "    </tr>\n",
       "    <tr>\n",
       "      <th>3840</th>\n",
       "      <td>Phra Nakhon Si Ayutthaya</td>\n",
       "      <td>NaN</td>\n",
       "      <td>38</td>\n",
       "      <td>2018</td>\n",
       "      <td>NaN</td>\n",
       "      <td>NaN</td>\n",
       "      <td>NaN</td>\n",
       "    </tr>\n",
       "    <tr>\n",
       "      <th>4004</th>\n",
       "      <td>Pathum Thani</td>\n",
       "      <td>NaN</td>\n",
       "      <td>39</td>\n",
       "      <td>2018</td>\n",
       "      <td>NaN</td>\n",
       "      <td>NaN</td>\n",
       "      <td>NaN</td>\n",
       "    </tr>\n",
       "  </tbody>\n",
       "</table>\n",
       "</div>"
      ],
      "text/plain": [
       "                      province  total  week  year industry male female\n",
       "2430                  Chonburi    NaN    28  2018      NaN   30    NaN\n",
       "2507                  Songkhla    NaN    28  2018      NaN   15    NaN\n",
       "2592              Samut Sakhon    NaN    28  2018      NaN    5    NaN\n",
       "2916                  Chonburi    NaN    30  2018      NaN  NaN    NaN\n",
       "2934              Samut Sakhon    NaN    30  2018      NaN  NaN    NaN\n",
       "2966                       NaN    NaN    31  2018      NaN  NaN    NaN\n",
       "3559              Samut Sakhon    NaN    36  2018      NaN   20     10\n",
       "3740              Samut Sakhon    NaN    38  2018      NaN  NaN    NaN\n",
       "3840  Phra Nakhon Si Ayutthaya    NaN    38  2018      NaN  NaN    NaN\n",
       "4004              Pathum Thani    NaN    39  2018      NaN  NaN    NaN"
      ]
     },
     "execution_count": 52,
     "metadata": {},
     "output_type": "execute_result"
    }
   ],
   "source": [
    "print('%s entries have empty total requests' % sum(pd.isnull(raw_demand_3yrs.total)))\n",
    "raw_demand_3yrs[pd.isnull(raw_demand_3yrs.total)]\n"
   ]
  },
  {
   "cell_type": "code",
   "execution_count": 53,
   "metadata": {},
   "outputs": [],
   "source": [
    "raw_demand_3yrs = raw_demand_3yrs.loc[pd.notnull(raw_demand_3yrs['total']), :]"
   ]
  },
  {
   "cell_type": "code",
   "execution_count": 55,
   "metadata": {},
   "outputs": [
    {
     "name": "stdout",
     "output_type": "stream",
     "text": [
      "5523 entries have no industry\n"
     ]
    },
    {
     "data": {
      "text/plain": [
       "2018    5519\n",
       "2019       4\n",
       "Name: year, dtype: int64"
      ]
     },
     "execution_count": 55,
     "metadata": {},
     "output_type": "execute_result"
    }
   ],
   "source": [
    "print('%s entries have no industry' % sum(pd.isnull(raw_demand_3yrs.industry)))\n",
    "raw_demand_3yrs.loc[pd.isnull(raw_demand_3yrs.industry), 'year'].value_counts()"
   ]
  },
  {
   "cell_type": "code",
   "execution_count": 62,
   "metadata": {},
   "outputs": [
    {
     "name": "stdout",
     "output_type": "stream",
     "text": [
      "12 entries have no province\n"
     ]
    },
    {
     "data": {
      "text/plain": [
       "\\nBangkok           1\n",
       " Nakhon Pathom      1\n",
       " Nonthaburi         1\n",
       "Amnat  Charoen      1\n",
       "Ang Thong          27\n",
       "                   ..\n",
       "Udothani            2\n",
       "Uthai Thani         5\n",
       "Uttaradit          26\n",
       "Yasothon            2\n",
       "phuket              2\n",
       "Name: province, Length: 105, dtype: int64"
      ]
     },
     "execution_count": 62,
     "metadata": {},
     "output_type": "execute_result"
    }
   ],
   "source": [
    "print('%s entries have no province' % sum(pd.isnull(raw_demand_3yrs.province)))\n",
    "raw_demand_3yrs.province.value_counts().sort_index()"
   ]
  },
  {
   "cell_type": "code",
   "execution_count": 75,
   "metadata": {},
   "outputs": [],
   "source": [
    "raw_demand_3yrs = raw_demand_3yrs.loc[pd.notnull(raw_demand_3yrs['province']), :]\n",
    "raw_demand_3yrs['province'] = raw_demand_3yrs['province'].apply(lambda x: x.replace('  ', ' ').\\\n",
    "                                                                replace('\\n', '').replace('-', ' ').strip())\n"
   ]
  },
  {
   "cell_type": "code",
   "execution_count": 64,
   "metadata": {},
   "outputs": [
    {
     "name": "stdout",
     "output_type": "stream",
     "text": [
      "0 entries have no province\n"
     ]
    },
    {
     "data": {
      "text/plain": [
       "Amnat Charoen       1\n",
       "Ang Thong          27\n",
       "Angthong            6\n",
       "Ayutthaya           6\n",
       "Bangkok          2885\n",
       "                 ... \n",
       "Udothani            2\n",
       "Uthai Thani         5\n",
       "Uttaradit          26\n",
       "Yasothon            2\n",
       "phuket              2\n",
       "Name: province, Length: 100, dtype: int64"
      ]
     },
     "execution_count": 64,
     "metadata": {},
     "output_type": "execute_result"
    }
   ],
   "source": [
    "print('%s entries have no province' % sum(pd.isnull(raw_demand_3yrs.province)))\n",
    "raw_demand_3yrs.province.value_counts().sort_index()"
   ]
  },
  {
   "cell_type": "code",
   "execution_count": 76,
   "metadata": {},
   "outputs": [
    {
     "name": "stdout",
     "output_type": "stream",
     "text": [
      "['Amnat Charoen', 'Ang Thong', 'Angthong', 'Ayutthaya', 'Bangkok', 'Bueng Kan', 'Buri Ram', 'Buriram', 'Chachoengsao', 'Chai Nat', 'Chainat', 'Chaiyaphum', 'Chanthaburi', 'Chiang Mai', 'Chiang Rai', 'Chon Buri', 'Chonburi', 'Chumphon', 'Kalasin', 'Kamphaeng Phet', 'Kanchanaburi', 'Khon Kaen', 'Krabi', 'Lampang', 'Lamphun', 'Loei', 'Lop Buri', 'Lopburi', 'Mukdahan', 'Nakho Sawan', 'Nakhon Nayok', 'Nakhon Pathom', 'Nakhon Ratchasima', 'Nakhon Sawan', 'Nakhon Si Thammarat', 'Nakhonpathom', 'Nakkhon Pathom', 'Nan', 'Narathiwat', 'Nokhonpathom', 'Nong Bua Lam Phu', 'Nong Khai', 'Nonthaburi', 'Pathum Thani', 'Pathumthani', 'Phang Nga', 'Phare', 'Phatthalung', 'Phayao', 'Phetchabun', 'Phetchaburi', 'Phichit', 'Phitsanulok', 'Phra Nakhon', 'Phra Nakhon Si Ayutthaya', 'Phrae', 'Phranakhon Si Ayutthaya', 'Phuket', 'Prachin Buri', 'Prachinburi', 'Prachuap Khiri Khan', 'Ranong', 'Ratchaburi', 'Rayong', 'Roi Et', 'Sa Kaeo', 'Sakon Nakhon', 'Samut Prakan', 'Samut Sakhon', 'Samut Songkhram', 'Samutprakan', 'Samutsakhon', 'Saraburi', 'Satun', 'Si Sa Ket', 'Sing Buri', 'Singburi', 'Songkhla', 'Sukhothai', 'Suphan Buri', 'Surat Thani', 'Suratthani', 'Surin', 'Tak', 'Trang', 'Trat', 'Ubon Ratchathani', 'Udon Thani', 'Uthai Thani', 'Uttaradit', 'Yasothon', 'phuket']\n"
     ]
    }
   ],
   "source": [
    "print(sorted(raw_demand_3yrs.province.unique()))"
   ]
  },
  {
   "cell_type": "code",
   "execution_count": 79,
   "metadata": {
    "collapsed": true
   },
   "outputs": [
    {
     "data": {
      "text/plain": [
       "{'Anthong': 'Ang Thong',\n",
       " 'Angthong': 'Ang Thong',\n",
       " 'Ang Thong': 'Ang Thong',\n",
       " 'Bururam': 'Buri Ram',\n",
       " 'Burirum': 'Buri Ram',\n",
       " 'Buriram': 'Buri Ram',\n",
       " 'Buri Ram': 'Buri Ram',\n",
       " 'Chachongsao': 'Chachoengsao',\n",
       " 'Chachoengsao': 'Chachoengsao',\n",
       " 'Chai Nat': 'Chai Nat',\n",
       " 'Chainat': 'Chai Nat',\n",
       " 'Chainant': 'Chai Nat',\n",
       " 'Chiang rai': 'Chiang Rai',\n",
       " 'Chonburi': 'Chon Buri',\n",
       " 'Chon Buri': 'Chon Buri',\n",
       " 'Choburi': 'Chon Buri',\n",
       " 'Chunphon': 'Chumphon',\n",
       " 'Chumphon': 'Chumphon',\n",
       " 'LOEI': 'Loei',\n",
       " 'Lop Buri': 'Lop Buri',\n",
       " 'Loburi': 'Lop Buri',\n",
       " 'Lopburi': 'Lop Buri',\n",
       " 'Nakhoratcha sima': 'Nakhon Ratchasima',\n",
       " 'Nakhonratchasim': 'Nakhon Ratchasima',\n",
       " 'Nakhonsrat chasima': 'Nakhon Ratchasima',\n",
       " 'Nakhonratcha siam': 'Nakhon Ratchasima',\n",
       " 'Nakhonrat chasima': 'Nakhon Ratchasima',\n",
       " 'Nakorn Nayok': 'Nakhon Nayok',\n",
       " 'Nakhon Nayok': 'Nakhon Nayok',\n",
       " 'Nakhon Sawan': 'Nakhon Sawan',\n",
       " 'Nakhosawan': 'Nakhon Sawan',\n",
       " 'Nakhonsitham mrat': 'Nakhon Si Thammarat',\n",
       " 'Nakhonsitham mart': 'Nakhon Si Thammarat',\n",
       " 'Nakhonpathom': 'Nakkhon Pathom',\n",
       " 'Nakkhon Pathom': 'Nakkhon Pathom',\n",
       " 'Northaburi': 'Nonthaburi',\n",
       " 'Nonthaiburi': 'Nonthaburi',\n",
       " 'Nathaburi': 'Nonthaburi',\n",
       " 'Nonthaburi': 'Nonthaburi',\n",
       " 'Pathumthani': 'Pathum Thani',\n",
       " 'Patthumthani': 'Pathum Thani',\n",
       " 'Pathum Thani': 'Pathum Thani',\n",
       " 'Pharanakhon': 'Phra Nakhon',\n",
       " 'Phranakhon': 'Phra Nakhon',\n",
       " 'Phranakhon Sriayutthaya': 'Phra Nakhon Si Ayutthaya',\n",
       " 'Pranakhon Si Autthaya': 'Phra Nakhon Si Ayutthaya',\n",
       " 'Phra Nakhon Si Ayutthaya': 'Phra Nakhon Si Ayutthaya',\n",
       " 'Phranakhon Si Ayutthay': 'Phra Nakhon Si Ayutthaya',\n",
       " 'Phanakhon Si Ayutthaya': 'Phra Nakhon Si Ayutthaya',\n",
       " 'Phrae': 'Phrae',\n",
       " 'Phare': 'Phrae',\n",
       " 'Phetchabun': 'Phetchabun',\n",
       " 'Petchabun': 'Phetchabun',\n",
       " 'Phatthalung': 'Phatthalung',\n",
       " 'Patthalung': 'Phatthalung',\n",
       " 'Phattalung': 'Phatthalung',\n",
       " 'Petchaburi': 'Phetchaburi',\n",
       " 'Phetchaburi': 'Phetchaburi',\n",
       " 'Prachin Buri': 'Prachinburi',\n",
       " 'Prachinburi': 'Prachinburi',\n",
       " 'Phitsanlok': 'Phitsanulok',\n",
       " 'Phitsanulok': 'Phitsanulok',\n",
       " 'Prachuakirikhan': 'Prachuap Khiri Khan',\n",
       " 'Prachuap Khiri Khan': 'Prachuap Khiri Khan',\n",
       " 'Prachumap Khiri Khan': 'Prachuap Khiri Khan',\n",
       " 'Prachuap Khiri Kham': 'Prachuap Khiri Khan',\n",
       " 'Prachuab Kiri Khan': 'Prachuap Khiri Khan',\n",
       " 'phuket': 'Phuket',\n",
       " 'Phuket': 'Phuket',\n",
       " 'Ratchaburi': 'Ratchaburi',\n",
       " 'Ratchabrui': 'Ratchaburi',\n",
       " 'Rachaburi': 'Ratchaburi',\n",
       " 'Sakaew': 'Sa Kaeo',\n",
       " 'Sa Kaeo': 'Sa Kaeo',\n",
       " 'Samutprakhon': 'Samut Prakan',\n",
       " 'Samut Parakan': 'Samut Prakan',\n",
       " 'Samut Prakan': 'Samut Prakan',\n",
       " 'Samut Prakarn': 'Samut Prakan',\n",
       " 'Samut sakhom': 'Samut Sakhon',\n",
       " 'Samut Sakhon': 'Samut Sakhon',\n",
       " 'Samusakhon': 'Samut Sakhon',\n",
       " 'Samuts Sakhon': 'Samut Sakhon',\n",
       " 'Samutsong khram': 'Samut Songkhram',\n",
       " 'Samutsong kham': 'Samut Songkhram',\n",
       " 'Saraburi': 'Saraburi',\n",
       " 'Suraburi': 'Saraburi',\n",
       " 'Sing Buri': 'Sing Buri',\n",
       " 'Singburi': 'Sing Buri',\n",
       " 'Singvuri': 'Sing Buri',\n",
       " 'Suphaburi': 'Suphan Buri',\n",
       " 'Suphanburi': 'Suphan Buri',\n",
       " 'Shphanburi': 'Suphan Buri',\n",
       " 'Surat Thani': 'Surat Thani',\n",
       " 'Surathani': 'Surat Thani',\n",
       " 'Surattani': 'Surat Thani',\n",
       " 'Sulapthani': 'Surat Thani',\n",
       " 'Suratthani': 'Surat Thani',\n",
       " 'Songkhla': 'Songkhla',\n",
       " 'Shongkhla': 'Songkhla',\n",
       " 'Trang': 'Trang',\n",
       " 'Tramg': 'Trang',\n",
       " 'Ubon Ratchathani': 'Ubon Ratchathani',\n",
       " 'Ubon Ratchthani': 'Ubon Ratchathani',\n",
       " 'Udothani': 'Udon Thani',\n",
       " 'Udon Thani': 'Udon Thani'}"
      ]
     },
     "execution_count": 79,
     "metadata": {},
     "output_type": "execute_result"
    }
   ],
   "source": [
    "manual_correction = { # comment out means legit different regions\n",
    "    'Ang Thong': {'Ang Thong', 'Anthong', 'Angthong'},\n",
    "    'Buri Ram': {'Buri Ram', 'Burirum', 'Bururam', 'Buriram'},\n",
    "    'Chachoengsao': {'Chachoengsao', 'Chachongsao'},\n",
    "    'Chai Nat': {'Chai Nat', 'Chainant', 'Chainat'},\n",
    "    # {'Chiang Mai', 'Chiang rai'},\n",
    "    'Chiang Rai': {'Chiang rai'},\n",
    "    'Chon Buri': {'Choburi', 'Chon Buri', 'Chonburi'},\n",
    "    'Chumphon': {'Chumphon', 'Chunphon'},\n",
    "    # {'Lampang', 'Lamphun'},\n",
    "    'Loei': {'LOEI'}, # random find\n",
    "    'Lop Buri': {'Loburi', 'Lop Buri', 'Lopburi'},\n",
    "    'Nakhon Ratchasima': {'Nakhonratcha siam', 'Nakhonratchasim', 'Nakhonrat chasima',\\\n",
    "                          'Nakhonsrat chasima', 'Nakhoratcha sima'},\n",
    "    'Nakhon Nayok': {'Nakorn Nayok', 'Nakhon Nayok'},\n",
    "    'Nakhon Sawan': {'Nakhosawan', 'Nakhon Sawan'},\n",
    "    'Nakhon Si Thammarat': {'Nakhonsitham mart', 'Nakhonsitham mrat'},\n",
    "    'Nakkhon Pathom':{'Nakhonpathom', 'Nakkhon Pathom'},\n",
    "    'Nonthaburi': {'Nonthaburi', 'Nonthaiburi', 'Northaburi', 'Nathaburi'},\n",
    "    'Pathum Thani': {'Pathum Thani', 'Patthumthani','Pathumthani'},\n",
    "    'Phra Nakhon': {'Pharanakhon', 'Phranakhon'},\n",
    "    'Phra Nakhon Si Ayutthaya': {'Phra Nakhon Si Ayutthaya', 'Phranakhon Si Ayutthay', \\\n",
    "                                 'Phranakhon Sriayutthaya', 'Phanakhon Si Ayutthaya', \\\n",
    "                                'Pranakhon Si Autthaya', 'Phanakhon Si Ayutthaya'},\n",
    "    'Phrae':{'Phrae','Phare'},\n",
    "    'Phetchabun': {'Petchabun', 'Phetchabun'},\n",
    "    'Phatthalung': {'Phattalung', 'Phatthalung', 'Patthalung'},\n",
    "    'Phetchaburi': {'Petchaburi', 'Phetchaburi'},\n",
    "    'Prachinburi':{'Prachinburi','Prachin Buri'},\n",
    "    'Phitsanulok': {'Phitsanlok', 'Phitsanulok'},\n",
    "    'Prachuap Khiri Khan': {'Prachuab Kiri Khan', 'Prachuakirikhan', 'Prachuap Khiri Kham',\\\n",
    "                            'Prachuap Khiri Khan', 'Prachumap Khiri Khan'},\n",
    "    'Phuket':{'phuket','Phuket'},\n",
    "    'Ratchaburi': {'Rachaburi', 'Ratchabrui', 'Ratchaburi'},\n",
    "    'Sa Kaeo': {'Sa Kaeo', 'Sakaew'},\n",
    "    'Samut Prakan': {'Samut Parakan', 'Samut Prakan', 'Samut Prakarn', 'Samutprakhon'},\n",
    "    'Samut Sakhon': {'Samusakhon', 'Samut Sakhon', 'Samut sakhom', 'Samuts Sakhon'},\n",
    "    'Samut Songkhram': {'Samutsong kham', 'Samutsong khram'},\n",
    "    'Saraburi': {'Suraburi', 'Saraburi'},\n",
    "    'Sing Buri': {'Sing Buri', 'Singvuri', 'Singburi'},\n",
    "    'Suphan Buri': {'Suphaburi', 'Suphanburi', 'Shphanburi'},\n",
    "    'Surat Thani': {'Surat Thani', 'Surathani', 'Surattani', 'Sulapthani', 'Suratthani'},\n",
    "    'Songkhla': {'Songkhla', 'Shongkhla'}, # random find...\n",
    "    'Trang': {'Tramg', 'Trang'},\n",
    "    # 'Tak', 'Trat'\n",
    "    'Ubon Ratchathani': {'Ubon Ratchathani', 'Ubon Ratchthani'},\n",
    "    'Udon Thani': {'Udon Thani', 'Udothani'}\n",
    "}\n",
    "\n",
    "correction_lut = {}\n",
    "for k in manual_correction:\n",
    "    for v in manual_correction[k]:\n",
    "        correction_lut[v] = k\n",
    "correction_lut        "
   ]
  },
  {
   "cell_type": "code",
   "execution_count": 80,
   "metadata": {},
   "outputs": [
    {
     "data": {
      "text/plain": [
       "Amnat Charoen          1\n",
       "Ang Thong             33\n",
       "Ayutthaya              6\n",
       "Bangkok             2885\n",
       "Bueng Kan             14\n",
       "                    ... \n",
       "Ubon Ratchathani      17\n",
       "Udon Thani            11\n",
       "Uthai Thani            5\n",
       "Uttaradit             26\n",
       "Yasothon               2\n",
       "Name: province, Length: 80, dtype: int64"
      ]
     },
     "execution_count": 80,
     "metadata": {},
     "output_type": "execute_result"
    }
   ],
   "source": [
    "raw_demand_3yrs['province'] = raw_demand_3yrs['province'].apply(lambda x: correction_lut[x] if x in correction_lut else x)\n",
    "raw_demand_3yrs.province.value_counts().sort_index()"
   ]
  },
  {
   "cell_type": "code",
   "execution_count": 81,
   "metadata": {},
   "outputs": [
    {
     "name": "stdout",
     "output_type": "stream",
     "text": [
      "['Amnat Charoen', 'Ang Thong', 'Ayutthaya', 'Bangkok', 'Bueng Kan', 'Buri Ram', 'Chachoengsao', 'Chai Nat', 'Chaiyaphum', 'Chanthaburi', 'Chiang Mai', 'Chiang Rai', 'Chon Buri', 'Chumphon', 'Kalasin', 'Kamphaeng Phet', 'Kanchanaburi', 'Khon Kaen', 'Krabi', 'Lampang', 'Lamphun', 'Loei', 'Lop Buri', 'Mukdahan', 'Nakho Sawan', 'Nakhon Nayok', 'Nakhon Pathom', 'Nakhon Ratchasima', 'Nakhon Sawan', 'Nakhon Si Thammarat', 'Nakkhon Pathom', 'Nan', 'Narathiwat', 'Nokhonpathom', 'Nong Bua Lam Phu', 'Nong Khai', 'Nonthaburi', 'Pathum Thani', 'Phang Nga', 'Phatthalung', 'Phayao', 'Phetchabun', 'Phetchaburi', 'Phichit', 'Phitsanulok', 'Phra Nakhon', 'Phra Nakhon Si Ayutthaya', 'Phrae', 'Phranakhon Si Ayutthaya', 'Phuket', 'Prachinburi', 'Prachuap Khiri Khan', 'Ranong', 'Ratchaburi', 'Rayong', 'Roi Et', 'Sa Kaeo', 'Sakon Nakhon', 'Samut Prakan', 'Samut Sakhon', 'Samut Songkhram', 'Samutprakan', 'Samutsakhon', 'Saraburi', 'Satun', 'Si Sa Ket', 'Sing Buri', 'Songkhla', 'Sukhothai', 'Suphan Buri', 'Surat Thani', 'Surin', 'Tak', 'Trang', 'Trat', 'Ubon Ratchathani', 'Udon Thani', 'Uthai Thani', 'Uttaradit', 'Yasothon']\n"
     ]
    }
   ],
   "source": [
    "print(sorted(raw_demand_3yrs.province.unique()))"
   ]
  },
  {
   "cell_type": "code",
   "execution_count": 109,
   "metadata": {},
   "outputs": [
    {
     "data": {
      "text/plain": [
       "0           Chiang Mai\n",
       "1           Chiang Rai\n",
       "2          Phetchaburi\n",
       "3           Phetchabun\n",
       "4                 Loei\n",
       "            ...       \n",
       "72       Amnat Charoen\n",
       "73          Udon Thani\n",
       "74           Uttaradit\n",
       "75         Uthai Thani\n",
       "76    Ubon Ratchathani\n",
       "Name: name, Length: 77, dtype: object"
      ]
     },
     "execution_count": 109,
     "metadata": {},
     "output_type": "execute_result"
    }
   ],
   "source": [
    "provinces = pd.read_csv(data_dir + 'provinces.csv')\n",
    "provinces.name"
   ]
  },
  {
   "cell_type": "code",
   "execution_count": 125,
   "metadata": {},
   "outputs": [
    {
     "name": "stdout",
     "output_type": "stream",
     "text": [
      "Suphan Buri\n",
      "Chon Buri\n",
      "Chai Nat\n",
      "Prachinburi\n",
      "Lop Buri\n",
      "Ayutthaya\n",
      "Nakho Sawan\n",
      "Nakkhon Pathom\n",
      "Nokhonpathom\n",
      "Phra Nakhon\n",
      "Si Sa Ket\n",
      "Samutsakhon\n",
      "Samutprakan\n",
      "Phranakhon Si Ayutthaya\n",
      "14\n"
     ]
    }
   ],
   "source": [
    "demand_provinces = raw_demand_3yrs.province.unique().tolist()\n",
    "db_provinces = provinces.name.tolist()\n",
    "db_provinces_dict = provinces.set_index('name').to_dict()['id']\n",
    "\n",
    "count = 0\n",
    "not_matched_demand_province = []\n",
    "for prov in demand_provinces:\n",
    "    if prov not in db_provinces_dict:\n",
    "        count += 1 \n",
    "        not_matched_demand_province.append(prov)\n",
    "        print(prov)\n",
    "print(count)"
   ]
  },
  {
   "cell_type": "code",
   "execution_count": 145,
   "metadata": {},
   "outputs": [],
   "source": [
    "def levenshteinDistanceDP(token1, token2):\n",
    "    distances = np.zeros((len(token1) + 1, len(token2) + 1))\n",
    "\n",
    "    for t1 in range(len(token1) + 1):\n",
    "        distances[t1][0] = t1\n",
    "\n",
    "    for t2 in range(len(token2) + 1):\n",
    "        distances[0][t2] = t2\n",
    "        \n",
    "    a = 0\n",
    "    b = 0\n",
    "    c = 0\n",
    "    \n",
    "    for t1 in range(1, len(token1) + 1):\n",
    "        for t2 in range(1, len(token2) + 1):\n",
    "            if (token1[t1-1] == token2[t2-1]):\n",
    "                distances[t1][t2] = distances[t1 - 1][t2 - 1]\n",
    "            else:\n",
    "                a = distances[t1][t2 - 1]\n",
    "                b = distances[t1 - 1][t2]\n",
    "                c = distances[t1 - 1][t2 - 1]\n",
    "                \n",
    "                if (a <= b and a <= c):\n",
    "                    distances[t1][t2] = a + 1\n",
    "                elif (b <= a and b <= c):\n",
    "                    distances[t1][t2] = b + 1\n",
    "                else:\n",
    "                    distances[t1][t2] = c + 1\n",
    "\n",
    "#     printDistances(distances, len(token1), len(token2))\n",
    "    return distances[len(token1)][len(token2)]\n",
    "\n",
    "fuzzy_match_dict = {}\n",
    "for demand_prov in not_matched_demand_province:\n",
    "    distances = np.array(list(map(lambda x: levenshteinDistanceDP(x, demand_prov), db_provinces)))\n",
    "    fuzzy_match_dict[demand_prov] = db_provinces[np.argmin((distances))]\n",
    "\n"
   ]
  },
  {
   "cell_type": "code",
   "execution_count": 146,
   "metadata": {},
   "outputs": [
    {
     "data": {
      "text/plain": [
       "{'Suphan Buri': 'Suphanburi',\n",
       " 'Chon Buri': 'Chonburi',\n",
       " 'Chai Nat': 'Chainat',\n",
       " 'Prachinburi': 'Prachin Buri',\n",
       " 'Lop Buri': 'Lopburi',\n",
       " 'Ayutthaya': 'Pattani',\n",
       " 'Nakho Sawan': 'Nakhon Sawan',\n",
       " 'Nakkhon Pathom': 'Nakhon Pathom',\n",
       " 'Nokhonpathom': 'Nakhon Pathom',\n",
       " 'Phra Nakhon': 'Sakon Nakhon',\n",
       " 'Si Sa Ket': 'Si Saket',\n",
       " 'Samutsakhon': 'Samut Sakhon',\n",
       " 'Samutprakan': 'Samut Prakan',\n",
       " 'Phranakhon Si Ayutthaya': 'Phra Nakhon Si Ayutthaya'}"
      ]
     },
     "execution_count": 146,
     "metadata": {},
     "output_type": "execute_result"
    }
   ],
   "source": [
    "fuzzy_match_dict"
   ]
  },
  {
   "cell_type": "code",
   "execution_count": 147,
   "metadata": {},
   "outputs": [
    {
     "data": {
      "text/plain": [
       "array([ 9.,  9.,  8.,  7.,  9.,  8., 12.,  8.,  9., 10.,  9., 13.,  8.,\n",
       "        8., 11.,  9.,  8., 10.,  7.,  8.,  8.,  8., 10., 12., 11., 13.,\n",
       "       16., 10.,  8.,  7.,  8.,  8.,  8.,  9., 16., 12.,  6., 15.,  6.,\n",
       "        8.,  7.,  8., 10.,  8., 11.,  7.,  7.,  7.,  9.,  9.,  9.,  8.,\n",
       "        9.,  8.,  8.,  9., 11.,  7.,  8.,  8., 12.,  9.,  8.,  9.,  9.,\n",
       "        7.,  9.,  8.,  8.,  8., 14.,  7.,  9.,  8.,  8.,  9., 12.])"
      ]
     },
     "execution_count": 147,
     "metadata": {},
     "output_type": "execute_result"
    }
   ],
   "source": [
    "distances = np.array(list(map(lambda x: levenshteinDistanceDP(x, 'Ayutthaya'), db_provinces)))\n",
    "distances"
   ]
  },
  {
   "cell_type": "code",
   "execution_count": 151,
   "metadata": {},
   "outputs": [
    {
     "data": {
      "text/plain": [
       "{'Suphan Buri': 'Suphanburi',\n",
       " 'Chon Buri': 'Chonburi',\n",
       " 'Chai Nat': 'Chainat',\n",
       " 'Prachinburi': 'Prachin Buri',\n",
       " 'Lop Buri': 'Lopburi',\n",
       " 'Ayutthaya': 'Phra Nakhon Si Ayutthaya',\n",
       " 'Nakho Sawan': 'Nakhon Sawan',\n",
       " 'Nakkhon Pathom': 'Nakhon Pathom',\n",
       " 'Nokhonpathom': 'Nakhon Pathom',\n",
       " 'Phra Nakhon': 'Sakon Nakhon',\n",
       " 'Si Sa Ket': 'Si Saket',\n",
       " 'Samutsakhon': 'Samut Sakhon',\n",
       " 'Samutprakan': 'Samut Prakan',\n",
       " 'Phranakhon Si Ayutthaya': 'Phra Nakhon Si Ayutthaya'}"
      ]
     },
     "execution_count": 151,
     "metadata": {},
     "output_type": "execute_result"
    }
   ],
   "source": [
    "fuzzy_match_dict['Ayutthaya'] = 'Phra Nakhon Si Ayutthaya'\n",
    "fuzzy_match_dict"
   ]
  },
  {
   "cell_type": "code",
   "execution_count": 153,
   "metadata": {},
   "outputs": [
    {
     "name": "stdout",
     "output_type": "stream",
     "text": [
      "0\n"
     ]
    }
   ],
   "source": [
    "fuzzy_match_dict['Ayutthaya'] = 'Phra Nakhon Si Ayutthaya'\n",
    "raw_demand_3yrs['province'] = raw_demand_3yrs['province'].apply(\n",
    "        lambda x: fuzzy_match_dict[x] if x in fuzzy_match_dict else x)\n",
    "\n",
    "# see if there are provinces in raw_demand_3yrs not in db province\n",
    "demand_provinces = raw_demand_3yrs.province.unique().tolist()\n",
    "count = 0\n",
    "for prov in demand_provinces:\n",
    "    if prov not in db_provinces_dict:\n",
    "        count += 1 \n",
    "        print(prov)\n",
    "print(count)"
   ]
  },
  {
   "cell_type": "code",
   "execution_count": 154,
   "metadata": {},
   "outputs": [],
   "source": [
    "raw_demand_3yrs.to_csv(data_dir + 'raw_demand_3yrs.csv', index=False)"
   ]
  },
  {
   "cell_type": "markdown",
   "metadata": {},
   "source": [
    "<h1>some plots to compared to previous dataset</h1>"
   ]
  },
  {
   "cell_type": "code",
   "execution_count": 105,
   "metadata": {},
   "outputs": [
    {
     "data": {
      "image/png": "[encoded data removed]",
      "text/plain": [
       "<Figure size 2160x1440 with 1 Axes>"
      ]
     },
     "metadata": {
      "needs_background": "light"
     },
     "output_type": "display_data"
    }
   ],
   "source": [
    "import datetime\n",
    "\n",
    "def week_num_to_date(w):\n",
    "    # return date of the first day of week\n",
    "    return datetime.datetime.strptime(w + '-1', \"%Y-%W-%w\")\n",
    "\n",
    "raw_demand_3yrs['fake_date'] = raw_demand_3yrs['year-week'].apply(week_num_to_date)\n",
    "\n",
    "fig_size = plt.rcParams[\"figure.figsize\"]\n",
    "fig_size[0] = 30\n",
    "fig_size[1] = 20\n",
    "plt.rcParams[\"figure.figsize\"] = fig_size\n",
    "\n",
    "plt.hist(raw_demand_3yrs.fake_date, bins=50)\n",
    "plt.title(\"Time Pattern of All Demands\")\n",
    "plt.ylabel(\"Time\")\n",
    "plt.xlabel(\"Number of MOU requests\")\n",
    "plt.show()"
   ]
  },
  {
   "cell_type": "code",
   "execution_count": 107,
   "metadata": {},
   "outputs": [
    {
     "data": {
      "image/png": "[encoded data removed]",
      "text/plain": [
       "<Figure size 2160x1440 with 1 Axes>"
      ]
     },
     "metadata": {
      "needs_background": "light"
     },
     "output_type": "display_data"
    }
   ],
   "source": [
    "plt.hist(raw_demand_3yrs[raw_demand_3yrs.province=='Bangkok'].fake_date, bins=50)\n",
    "plt.title(\"Time Pattern of Demand in Bangkok\")\n",
    "plt.ylabel(\"Time\")\n",
    "plt.xlabel(\"Number of MOU requests\")\n",
    "plt.show()"
   ]
  },
  {
   "cell_type": "code",
   "execution_count": null,
   "metadata": {},
   "outputs": [],
   "source": []
  }
 ],
 "metadata": {
  "kernelspec": {
   "display_name": "Python 3",
   "language": "python",
   "name": "python3"
  },
  "language_info": {
   "codemirror_mode": {
    "name": "ipython",
    "version": 3
   },
   "file_extension": ".py",
   "mimetype": "text/x-python",
   "name": "python",
   "nbconvert_exporter": "python",
   "pygments_lexer": "ipython3",
   "version": "3.7.7"
  }
 },
 "nbformat": 4,
 "nbformat_minor": 2
}
