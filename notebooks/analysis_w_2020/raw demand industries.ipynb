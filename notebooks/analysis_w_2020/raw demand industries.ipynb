{
 "cells": [
  {
   "cell_type": "code",
   "execution_count": 1,
   "metadata": {},
   "outputs": [
    {
     "data": {
      "text/html": [
       "<div>\n",
       "<style scoped>\n",
       "    .dataframe tbody tr th:only-of-type {\n",
       "        vertical-align: middle;\n",
       "    }\n",
       "\n",
       "    .dataframe tbody tr th {\n",
       "        vertical-align: top;\n",
       "    }\n",
       "\n",
       "    .dataframe thead th {\n",
       "        text-align: right;\n",
       "    }\n",
       "</style>\n",
       "<table border=\"1\" class=\"dataframe\">\n",
       "  <thead>\n",
       "    <tr style=\"text-align: right;\">\n",
       "      <th></th>\n",
       "      <th>province</th>\n",
       "      <th>total</th>\n",
       "      <th>week</th>\n",
       "      <th>year</th>\n",
       "      <th>industry</th>\n",
       "      <th>male</th>\n",
       "      <th>female</th>\n",
       "      <th>year_week</th>\n",
       "    </tr>\n",
       "  </thead>\n",
       "  <tbody>\n",
       "    <tr>\n",
       "      <th>0</th>\n",
       "      <td>Phra Nakhon Si Ayutthaya</td>\n",
       "      <td>50</td>\n",
       "      <td>16</td>\n",
       "      <td>2017</td>\n",
       "      <td>Construction</td>\n",
       "      <td>35</td>\n",
       "      <td>15</td>\n",
       "      <td>2017-16</td>\n",
       "    </tr>\n",
       "    <tr>\n",
       "      <th>1</th>\n",
       "      <td>Bangkok</td>\n",
       "      <td>15</td>\n",
       "      <td>48</td>\n",
       "      <td>2017</td>\n",
       "      <td>Construction</td>\n",
       "      <td>15</td>\n",
       "      <td>0</td>\n",
       "      <td>2017-48</td>\n",
       "    </tr>\n",
       "    <tr>\n",
       "      <th>2</th>\n",
       "      <td>Saraburi</td>\n",
       "      <td>20</td>\n",
       "      <td>16</td>\n",
       "      <td>2017</td>\n",
       "      <td>Food and Beverage</td>\n",
       "      <td>12</td>\n",
       "      <td>8</td>\n",
       "      <td>2017-16</td>\n",
       "    </tr>\n",
       "    <tr>\n",
       "      <th>3</th>\n",
       "      <td>Bangkok</td>\n",
       "      <td>100</td>\n",
       "      <td>5</td>\n",
       "      <td>2017</td>\n",
       "      <td>Construction</td>\n",
       "      <td>60</td>\n",
       "      <td>40</td>\n",
       "      <td>2017-05</td>\n",
       "    </tr>\n",
       "    <tr>\n",
       "      <th>4</th>\n",
       "      <td>Bangkok</td>\n",
       "      <td>100</td>\n",
       "      <td>5</td>\n",
       "      <td>2017</td>\n",
       "      <td>Construction</td>\n",
       "      <td>60</td>\n",
       "      <td>40</td>\n",
       "      <td>2017-05</td>\n",
       "    </tr>\n",
       "  </tbody>\n",
       "</table>\n",
       "</div>"
      ],
      "text/plain": [
       "                   province  total  week  year           industry  male  \\\n",
       "0  Phra Nakhon Si Ayutthaya     50    16  2017       Construction    35   \n",
       "1                   Bangkok     15    48  2017       Construction    15   \n",
       "2                  Saraburi     20    16  2017  Food and Beverage    12   \n",
       "3                   Bangkok    100     5  2017       Construction    60   \n",
       "4                   Bangkok    100     5  2017       Construction    60   \n",
       "\n",
       "   female year_week  \n",
       "0      15   2017-16  \n",
       "1       0   2017-48  \n",
       "2       8   2017-16  \n",
       "3      40   2017-05  \n",
       "4      40   2017-05  "
      ]
     },
     "execution_count": 1,
     "metadata": {},
     "output_type": "execute_result"
    }
   ],
   "source": [
    "import os\n",
    "import re\n",
    "\n",
    "import pandas as pd\n",
    "import numpy as np\n",
    "\n",
    "from datetime import datetime as dt\n",
    "\n",
    "import matplotlib.pyplot as plt\n",
    "import seaborn as sns\n",
    "%matplotlib inline\n",
    "\n",
    "data_dir = '/Users/boyuliu/pyprojects/Joann/Joann-Thailand-Project/notebooks/datasets/new_dataset/'\n",
    "raw_demand_3yrs = pd.read_csv(data_dir + 'raw_demand_3yrs.csv')\n",
    "raw_demand_3yrs.head()"
   ]
  },
  {
   "cell_type": "code",
   "execution_count": 2,
   "metadata": {},
   "outputs": [
    {
     "data": {
      "text/plain": [
       "'Agriculture and Forestry, Construction, Food and Beverage, Manufacturing, Mining, Packaging, Seafood, Services, Waste Management and Recycling'"
      ]
     },
     "execution_count": 2,
     "metadata": {},
     "output_type": "execute_result"
    }
   ],
   "source": [
    "', '.join(sorted(raw_demand_3yrs.industry.unique()))"
   ]
  },
  {
   "cell_type": "code",
   "execution_count": 3,
   "metadata": {},
   "outputs": [
    {
     "data": {
      "text/plain": [
       "('2017-01', '2020-09')"
      ]
     },
     "execution_count": 3,
     "metadata": {},
     "output_type": "execute_result"
    }
   ],
   "source": [
    "raw_demand_3yrs.year_week.min(), raw_demand_3yrs.year_week.max()"
   ]
  },
  {
   "cell_type": "code",
   "execution_count": 10,
   "metadata": {},
   "outputs": [],
   "source": [
    "overall_ind = raw_demand_3yrs.groupby('industry').sum()['total'].reset_index()\n",
    "overall_ind = overall_ind.sort_values('total', ascending=False)"
   ]
  },
  {
   "cell_type": "code",
   "execution_count": 53,
   "metadata": {},
   "outputs": [
    {
     "data": {
      "image/png": "[encoded data removed]",
      "text/plain": [
       "<Figure size 432x288 with 1 Axes>"
      ]
     },
     "metadata": {
      "needs_background": "light"
     },
     "output_type": "display_data"
    }
   ],
   "source": [
    "sns.barplot(x='industry', y='total', data=overall_ind)\n",
    "plt.xticks(rotation='45')\n",
    "plt.title('industry composition for demand')\n",
    "plt.show()"
   ]
  },
  {
   "cell_type": "code",
   "execution_count": 22,
   "metadata": {},
   "outputs": [
    {
     "data": {
      "text/plain": [
       "'2017-04'"
      ]
     },
     "execution_count": 22,
     "metadata": {},
     "output_type": "execute_result"
    }
   ],
   "source": [
    "dt.strptime('2017-16-1', '%Y-%W-%w').isoformat()[:7]"
   ]
  },
  {
   "cell_type": "code",
   "execution_count": 24,
   "metadata": {},
   "outputs": [
    {
     "data": {
      "text/html": [
       "<div>\n",
       "<style scoped>\n",
       "    .dataframe tbody tr th:only-of-type {\n",
       "        vertical-align: middle;\n",
       "    }\n",
       "\n",
       "    .dataframe tbody tr th {\n",
       "        vertical-align: top;\n",
       "    }\n",
       "\n",
       "    .dataframe thead th {\n",
       "        text-align: right;\n",
       "    }\n",
       "</style>\n",
       "<table border=\"1\" class=\"dataframe\">\n",
       "  <thead>\n",
       "    <tr style=\"text-align: right;\">\n",
       "      <th></th>\n",
       "      <th>year_month</th>\n",
       "      <th>industry</th>\n",
       "      <th>total</th>\n",
       "    </tr>\n",
       "  </thead>\n",
       "  <tbody>\n",
       "    <tr>\n",
       "      <th>0</th>\n",
       "      <td>2017-01</td>\n",
       "      <td>Agriculture and Forestry</td>\n",
       "      <td>35</td>\n",
       "    </tr>\n",
       "    <tr>\n",
       "      <th>1</th>\n",
       "      <td>2017-01</td>\n",
       "      <td>Construction</td>\n",
       "      <td>1666</td>\n",
       "    </tr>\n",
       "    <tr>\n",
       "      <th>2</th>\n",
       "      <td>2017-01</td>\n",
       "      <td>Food and Beverage</td>\n",
       "      <td>1119</td>\n",
       "    </tr>\n",
       "    <tr>\n",
       "      <th>3</th>\n",
       "      <td>2017-01</td>\n",
       "      <td>Manufacturing</td>\n",
       "      <td>2657</td>\n",
       "    </tr>\n",
       "    <tr>\n",
       "      <th>4</th>\n",
       "      <td>2017-01</td>\n",
       "      <td>Seafood</td>\n",
       "      <td>2794</td>\n",
       "    </tr>\n",
       "    <tr>\n",
       "      <th>...</th>\n",
       "      <td>...</td>\n",
       "      <td>...</td>\n",
       "      <td>...</td>\n",
       "    </tr>\n",
       "    <tr>\n",
       "      <th>326</th>\n",
       "      <td>2020-03</td>\n",
       "      <td>Manufacturing</td>\n",
       "      <td>2187</td>\n",
       "    </tr>\n",
       "    <tr>\n",
       "      <th>327</th>\n",
       "      <td>2020-03</td>\n",
       "      <td>Packaging</td>\n",
       "      <td>127</td>\n",
       "    </tr>\n",
       "    <tr>\n",
       "      <th>328</th>\n",
       "      <td>2020-03</td>\n",
       "      <td>Seafood</td>\n",
       "      <td>20</td>\n",
       "    </tr>\n",
       "    <tr>\n",
       "      <th>329</th>\n",
       "      <td>2020-03</td>\n",
       "      <td>Services</td>\n",
       "      <td>466</td>\n",
       "    </tr>\n",
       "    <tr>\n",
       "      <th>330</th>\n",
       "      <td>2020-03</td>\n",
       "      <td>Waste Management and Recycling</td>\n",
       "      <td>165</td>\n",
       "    </tr>\n",
       "  </tbody>\n",
       "</table>\n",
       "<p>331 rows × 3 columns</p>\n",
       "</div>"
      ],
      "text/plain": [
       "    year_month                        industry  total\n",
       "0      2017-01        Agriculture and Forestry     35\n",
       "1      2017-01                    Construction   1666\n",
       "2      2017-01               Food and Beverage   1119\n",
       "3      2017-01                   Manufacturing   2657\n",
       "4      2017-01                         Seafood   2794\n",
       "..         ...                             ...    ...\n",
       "326    2020-03                   Manufacturing   2187\n",
       "327    2020-03                       Packaging    127\n",
       "328    2020-03                         Seafood     20\n",
       "329    2020-03                        Services    466\n",
       "330    2020-03  Waste Management and Recycling    165\n",
       "\n",
       "[331 rows x 3 columns]"
      ]
     },
     "execution_count": 24,
     "metadata": {},
     "output_type": "execute_result"
    }
   ],
   "source": [
    "raw_demand_3yrs['year_month'] = raw_demand_3yrs.year_week.apply(\n",
    "                lambda x: dt.strptime(x+'-1', '%Y-%W-%w').isoformat()[:7])\n",
    "by_month_ind = raw_demand_3yrs.groupby(['year_month','industry']).sum()['total'].reset_index()\n",
    "# by_month_ind = by_month_ind.sort_values('total', ascending=False)\n",
    "by_month_ind"
   ]
  },
  {
   "cell_type": "code",
   "execution_count": 30,
   "metadata": {},
   "outputs": [
    {
     "data": {
      "image/png": "[encoded data removed]",
      "text/plain": [
       "<Figure size 1728x576 with 1 Axes>"
      ]
     },
     "metadata": {
      "needs_background": "light"
     },
     "output_type": "display_data"
    }
   ],
   "source": [
    "fig, ax = plt.subplots(1,1, figsize=(24, 8))\n",
    "sns.barplot(x='year_month', y='total', hue='industry', data=by_month_ind[by_month_ind['year_month']>'2018'])\n",
    "plt.xticks(rotation='45')\n",
    "plt.show()"
   ]
  },
  {
   "cell_type": "code",
   "execution_count": 7,
   "metadata": {},
   "outputs": [
    {
     "name": "stdout",
     "output_type": "stream",
     "text": [
      "72\n"
     ]
    },
    {
     "data": {
      "text/plain": [
       "'Amnat Charoen, Ang Thong, Bangkok, Bueng Kan, Buri Ram, Chachoengsao, Chainat, Chaiyaphum, Chanthaburi, Chiang Mai, Chiang Rai, Chonburi, Chumphon, Kalasin, Kamphaeng Phet, Kanchanaburi, Khon Kaen, Krabi, Lampang, Lamphun, Loei, Lopburi, Mukdahan, Nakhon Nayok, Nakhon Pathom, Nakhon Ratchasima, Nakhon Sawan, Nakhon Si Thammarat, Nan, Narathiwat, Nong Bua Lam Phu, Nong Khai, Nonthaburi, Pathum Thani, Phang Nga, Phatthalung, Phayao, Phetchabun, Phetchaburi, Phichit, Phitsanulok, Phra Nakhon Si Ayutthaya, Phrae, Phuket, Prachin Buri, Prachuap Khiri Khan, Ranong, Ratchaburi, Rayong, Roi Et, Sa Kaeo, Sakon Nakhon, Samut Prakan, Samut Sakhon, Samut Songkhram, Saraburi, Satun, Si Saket, Sing Buri, Songkhla, Sukhothai, Suphanburi, Surat Thani, Surin, Tak, Trang, Trat, Ubon Ratchathani, Udon Thani, Uthai Thani, Uttaradit, Yasothon'"
      ]
     },
     "execution_count": 7,
     "metadata": {},
     "output_type": "execute_result"
    }
   ],
   "source": [
    "print(raw_demand_3yrs.province.nunique())\n",
    "', '.join(sorted(raw_demand_3yrs.province.unique()))"
   ]
  },
  {
   "cell_type": "code",
   "execution_count": null,
   "metadata": {},
   "outputs": [],
   "source": [
    "wv_data_file = data_dir + 'regression_data_wv_cases1_causal_ma_detrend_20210301.csv'\n",
    "df = pd.read_csv(wv_data_file)\n",
    "print(df.province.unique)\n",
    "df.head()"
   ]
  },
  {
   "cell_type": "code",
   "execution_count": 31,
   "metadata": {},
   "outputs": [
    {
     "data": {
      "text/plain": [
       "['demand_data_back.csv',\n",
       " 'regression_data_wv_cases1_causal_detrend_reverse_20210210.csv',\n",
       " 'regression_data_wv_cases2_20210120.csv',\n",
       " 'regression_data_wv_cases1_causal_ma_detrend_20210211.csv',\n",
       " 'regression_data_wv_cases1_causal_ma_detrend_Samut Sakhon_20210301.csv',\n",
       " 'regression_data_wv_cases1_causal_ma_detrend_Chachoengsao_20210301.csv',\n",
       " 'regression_data_wv_cases1_detrend_20210204.csv',\n",
       " 'regression_data_wv_cases1_causal_ma_detrend_Kanchanaburi_20210301.csv',\n",
       " 'categories.csv',\n",
       " 'regression_data_wv_cases1_causal_ma_detrend_Ranong_20210301.csv',\n",
       " 'sending_data.csv',\n",
       " '2019_demand_data.csv',\n",
       " 'regression_data_wv_cases1_20210301.csv',\n",
       " 'regression_data_wv_cases1_causal_ma_detrend_USD_20210311.csv',\n",
       " 'new_cases.csv',\n",
       " 'regression_data_wv_cases1_causal_ma_detrend_Chonburi_20210301.csv',\n",
       " 'regression_data_wv_cases1_USD_20210311.csv',\n",
       " 'regression_data_wv_cases4_20210131.csv',\n",
       " 'regression_data_wv_cases3_20210131.csv',\n",
       " 'to_compare.csv',\n",
       " 'regression_data_wv_cases1_causal_ma_detrend_Phuket_20210301.csv',\n",
       " 'cases_joann_incl.csv',\n",
       " 'regression_data_large_p_wv_cases4.csv',\n",
       " 'regression_data_wv_cases1_causal_ma_detrend_Pathum Thani_20210301.csv',\n",
       " 'regression_data_wv_cases4_20210120.csv',\n",
       " 'new_cases_kpis.csv',\n",
       " 'regression_data_wv_cases3_20210120.csv',\n",
       " 'regression_data_wv_cases2_20210131.csv',\n",
       " 'cases.csv',\n",
       " 'regression_data_wv_cases1_causal_ma_detrend_Bangkok_20210301.csv',\n",
       " 'regression_data_wv_cases1_causal_ma_detrend_8w_std_20210217.csv',\n",
       " 'regression_data_wv_cases1_causal_ma_detrend_Chiang Mai_20210301.csv',\n",
       " 'regression_data_wv_cases3.csv',\n",
       " 'regression_data_wv_cases2.csv',\n",
       " 'regression_data_wv_cases1_causal_ma_detrend__province_40_20210301.csv',\n",
       " 'regression_data_ilm1_causal_detrend_20210204.csv',\n",
       " 'regression_data_wv_cases1_extra_iv_20210318.csv',\n",
       " 'regression_data_wv_cases1_causal_detrend_province_20_20210209.csv',\n",
       " 'regression_data_wv_cases1_causal_ma_detrend_Nakhon Si Thammarat_20210301.csv',\n",
       " 'regression_data_wv_cases1_causal_ma_detrend_Samut Prakan_20210301.csv',\n",
       " 'regression_data_wv_cases1.csv',\n",
       " 'double_cases_joann_incl.csv',\n",
       " 'regression_data_wv_cases1_causal_ma_detrend_Nakhon Pathom_20210301.csv',\n",
       " 'regression_data_wv_cases1_causal_ma_detrend_20210301.csv',\n",
       " 'cases_boyu_excl.csv',\n",
       " 'regression_data_demand_shifted_wv_cases1.csv',\n",
       " 'regression_data_wv_cases4.csv',\n",
       " 'regression_data_wv_cases4_USD_20210311.csv',\n",
       " 'double_cases_boyu_excl.csv',\n",
       " 'regression_data_wv_cases1_extra_iv_prov_40_20210318.csv',\n",
       " '2018_demand_data.csv',\n",
       " 'suppliers.csv',\n",
       " '2020_demand_data.csv',\n",
       " 'regression_data_wv_cases1_causal_detrend_province_40_20210209.csv',\n",
       " 'regression_data_wv_cases3_USD_20210311.csv',\n",
       " 'cases_joann_excl.csv',\n",
       " 'regression_data_wv_cases1_causal_detrend_20210204.csv',\n",
       " 'prev_wv_data.csv',\n",
       " 'regression_data_wv_cases1_causal_ma_detrend_Nakhon Sawan_20210301.csv',\n",
       " 'regression_data_wv_cases1_causal_ma_detrend_8w_20210217.csv',\n",
       " 'regression_data_wv_cases1_causal_ma_detrend_Nonthaburi_20210301.csv',\n",
       " 'industries.csv',\n",
       " 'demand_data.csv',\n",
       " 'regression_data_wv_cases1_causal_ma_detrend_12w_20210301.csv',\n",
       " 'regression_data_wv_cases1_causal_extra_iv_8w_20210318.csv',\n",
       " 'regression_data_wv_cases1_causal_ma_detrend__province_20_20210301.csv',\n",
       " 'regression_data_wv_cases1_extra_iv_prov_20_20210318.csv',\n",
       " 'regression_data_wv_cases1_causal_ma_detrend_Lopburi_20210301.csv',\n",
       " 'regression_data_wv_cases1_causal_ma_detrend_Tak_20210301.csv',\n",
       " 'provinces.csv',\n",
       " 'regression_data_wv_cases1_causal_ma_detrend_Chumphon_20210301.csv',\n",
       " 'regression_data_wv_cases1_causal_ma_detrend_Songkhla_20210301.csv',\n",
       " 'regression_data_large_p_wv_cases1_20210301.csv',\n",
       " 'wv_cases3.csv',\n",
       " 'cases_kpis.csv',\n",
       " 'raw_demand_3yrs.csv',\n",
       " 'new_wv_cases2.csv',\n",
       " 'regression_data_wv_cases2_USD_20210311.csv',\n",
       " 'regression_data_wv_cases1_20210120.csv',\n",
       " 'cases_boyu_incl.csv',\n",
       " 'new_wv_cases3.csv',\n",
       " 'wv_cases2.csv',\n",
       " 'new_wv_cases1.csv',\n",
       " 'regression_data_wv_cases1_causal_ma_detrend_Surat Thani_20210301.csv',\n",
       " 'regression_data_wv_cases1_causal_ma_detrend_Rayong_20210301.csv',\n",
       " 'grid_search_result.csv',\n",
       " 'regression_data_wv_cases2_20210301.csv',\n",
       " 'regression_data_wv_cases1_causal_ma_detrend_8w_20210301.csv',\n",
       " 'double_cases_boyu_incl.csv',\n",
       " 'regression_data_wv_cases1_causal_ma_detrend_12w_20210217.csv',\n",
       " 'wv_cases1.csv',\n",
       " 'regression_data_wv_cases1_causal_ma_detrend_Phra Nakhon Si Ayutthaya_20210301.csv',\n",
       " 'new_wv_cases4.csv',\n",
       " 'wv_cases4.csv',\n",
       " 'regression_data_wv_cases1_causal_ma_detrend_USD_20210322',\n",
       " 'regression_data_wv_cases4_20210301.csv',\n",
       " 'regression_data_wv_cases1_causal_extra_iv_12w_20210318.csv',\n",
       " 'regression_data_wv_cases3_20210301.csv',\n",
       " 'regression_data_wv_cases1_causal_ma_detrend_Phetchaburi_20210301.csv',\n",
       " 'double_cases_joann_excl.csv',\n",
       " 'regression_data_wv_cases1_causal_ma_detrend_Prachuap Khiri Khan_20210301.csv',\n",
       " 'regression_data_wv_cases1_causal_ma_detrend_USD_20210322.csv',\n",
       " 'regression_data_wv_cases1_20210131.csv',\n",
       " 'regression_data_wv_cases1_causal_ma_detrend_Saraburi_20210301.csv']"
      ]
     },
     "execution_count": 31,
     "metadata": {},
     "output_type": "execute_result"
    }
   ],
   "source": [
    "os.listdir(data_dir)"
   ]
  },
  {
   "cell_type": "code",
   "execution_count": 32,
   "metadata": {},
   "outputs": [
    {
     "data": {
      "text/html": [
       "<div>\n",
       "<style scoped>\n",
       "    .dataframe tbody tr th:only-of-type {\n",
       "        vertical-align: middle;\n",
       "    }\n",
       "\n",
       "    .dataframe tbody tr th {\n",
       "        vertical-align: top;\n",
       "    }\n",
       "\n",
       "    .dataframe thead th {\n",
       "        text-align: right;\n",
       "    }\n",
       "</style>\n",
       "<table border=\"1\" class=\"dataframe\">\n",
       "  <thead>\n",
       "    <tr style=\"text-align: right;\">\n",
       "      <th></th>\n",
       "      <th>year_week</th>\n",
       "      <th>perc_abuse</th>\n",
       "      <th>wv_count</th>\n",
       "      <th>province</th>\n",
       "    </tr>\n",
       "  </thead>\n",
       "  <tbody>\n",
       "    <tr>\n",
       "      <th>0</th>\n",
       "      <td>2018-45</td>\n",
       "      <td>0.0</td>\n",
       "      <td>1</td>\n",
       "      <td>Chiang Mai</td>\n",
       "    </tr>\n",
       "    <tr>\n",
       "      <th>1</th>\n",
       "      <td>2018-49</td>\n",
       "      <td>1.0</td>\n",
       "      <td>7</td>\n",
       "      <td>Chiang Mai</td>\n",
       "    </tr>\n",
       "    <tr>\n",
       "      <th>2</th>\n",
       "      <td>2019-05</td>\n",
       "      <td>0.0</td>\n",
       "      <td>1</td>\n",
       "      <td>Chiang Mai</td>\n",
       "    </tr>\n",
       "    <tr>\n",
       "      <th>3</th>\n",
       "      <td>2019-30</td>\n",
       "      <td>0.0</td>\n",
       "      <td>2</td>\n",
       "      <td>Chiang Mai</td>\n",
       "    </tr>\n",
       "    <tr>\n",
       "      <th>4</th>\n",
       "      <td>2019-31</td>\n",
       "      <td>0.0</td>\n",
       "      <td>2</td>\n",
       "      <td>Chiang Mai</td>\n",
       "    </tr>\n",
       "  </tbody>\n",
       "</table>\n",
       "</div>"
      ],
      "text/plain": [
       "  year_week  perc_abuse  wv_count    province\n",
       "0   2018-45         0.0         1  Chiang Mai\n",
       "1   2018-49         1.0         7  Chiang Mai\n",
       "2   2019-05         0.0         1  Chiang Mai\n",
       "3   2019-30         0.0         2  Chiang Mai\n",
       "4   2019-31         0.0         2  Chiang Mai"
      ]
     },
     "execution_count": 32,
     "metadata": {},
     "output_type": "execute_result"
    }
   ],
   "source": [
    "wv1 = pd.read_csv(data_dir+'wv_cases1.csv')\n",
    "wv1.head()"
   ]
  },
  {
   "cell_type": "code",
   "execution_count": 41,
   "metadata": {},
   "outputs": [
    {
     "data": {
      "text/plain": [
       "Index(['id', 'name', 'created', 'last_modified', 'client_nickname',\n",
       "       'client_phonenumber', 'client_line_account', 'client_facebook_account',\n",
       "       'client_viber_account', 'client_share_info_consent',\n",
       "       'issara_supply_chain', 'non_supply_chain', 'description',\n",
       "       'debt_bondage', 'debt_bondage_detail', 'vot_needs', 'referral_notes',\n",
       "       'next_steps', 'work_place_details', 'dead_line_date', 'final_remarks',\n",
       "       'client_contract_type_id', 'client_document_type_id',\n",
       "       'client_ethnicity_id', 'client_gender_id', 'client_nationality_id',\n",
       "       'client_status_id', 'client_type_id', 'destination_recruiter_id',\n",
       "       'issara_staff_id', 'next_steps_issara_staff_id', 'rating_dest_employer',\n",
       "       'rating_dest_recruiter', 'rating_source_broker',\n",
       "       'rating_source_recruiter', 'referral_action_id', 'source_recruiter_id',\n",
       "       'source_upstream_broker', 'supplier_id', 'work_place_id',\n",
       "       'client_time_at_job', 'country_id', 'district_id', 'province_id',\n",
       "       'client_crossing_country_id', 'client_crossing_district_id',\n",
       "       'client_crossing_province_id', 'client_origin_country_id',\n",
       "       'client_origin_district_id', 'client_origin_province_id',\n",
       "       'issue_category_id', 'issue_description', 'case_category_id',\n",
       "       'debt_bondage_broker', 'debt_bondage_detail_broker',\n",
       "       'issue_getting_better', 'issue_getting_better_description',\n",
       "       'issue_workers_affected', 'issue_workers_affected_description',\n",
       "       'case_status_id', 'issue_legacy_level', 'case_id', 'kpi_id'],\n",
       "      dtype='object')"
      ]
     },
     "execution_count": 41,
     "metadata": {},
     "output_type": "execute_result"
    }
   ],
   "source": [
    "suppliers = pd.read_csv(data_dir+'suppliers.csv')\n",
    "wv = pd.read_csv(data_dir+'cases.csv')\n",
    "wv.columns"
   ]
  },
  {
   "cell_type": "code",
   "execution_count": 37,
   "metadata": {},
   "outputs": [
    {
     "data": {
      "text/plain": [
       "Index(['Unnamed: 0', 'id', 'name', 'created', 'tier_id', 'address', 'zipcode',\n",
       "       'gps', 'vessel_number', 'fishing_gear_liscense_number', 'contact_name',\n",
       "       'contact_phone', 'contact_email', 'name_harvesting_business',\n",
       "       'num_vessels_sourced_from', 'total_num_workers',\n",
       "       'total_num_thai_workers', 'total_num_cambodian_workers',\n",
       "       'total_num_myanmar_workers', 'total_num_lao_workers',\n",
       "       'total_num_vietnamese_workers', 'hiring_practice', 'other',\n",
       "       'country_id', 'district_id', 'industry_id', 'province_id',\n",
       "       'vessel_type_id', 'total_num_men_workers', 'total_num_women_workers',\n",
       "       'subindustry_id', 'golden_dreams_employer_id', 'description', 'website',\n",
       "       'lat', 'lng'],\n",
       "      dtype='object')"
      ]
     },
     "execution_count": 37,
     "metadata": {},
     "output_type": "execute_result"
    }
   ],
   "source": [
    "suppliers.columns"
   ]
  },
  {
   "cell_type": "code",
   "execution_count": 42,
   "metadata": {},
   "outputs": [
    {
     "data": {
      "text/html": [
       "<div>\n",
       "<style scoped>\n",
       "    .dataframe tbody tr th:only-of-type {\n",
       "        vertical-align: middle;\n",
       "    }\n",
       "\n",
       "    .dataframe tbody tr th {\n",
       "        vertical-align: top;\n",
       "    }\n",
       "\n",
       "    .dataframe thead th {\n",
       "        text-align: right;\n",
       "    }\n",
       "</style>\n",
       "<table border=\"1\" class=\"dataframe\">\n",
       "  <thead>\n",
       "    <tr style=\"text-align: right;\">\n",
       "      <th></th>\n",
       "      <th>id</th>\n",
       "      <th>name</th>\n",
       "      <th>created</th>\n",
       "      <th>last_modified</th>\n",
       "      <th>client_nickname</th>\n",
       "      <th>client_phonenumber</th>\n",
       "      <th>client_line_account</th>\n",
       "      <th>client_facebook_account</th>\n",
       "      <th>client_viber_account</th>\n",
       "      <th>client_share_info_consent</th>\n",
       "      <th>...</th>\n",
       "      <th>debt_bondage_detail_broker</th>\n",
       "      <th>issue_getting_better</th>\n",
       "      <th>issue_getting_better_description</th>\n",
       "      <th>issue_workers_affected</th>\n",
       "      <th>issue_workers_affected_description</th>\n",
       "      <th>case_status_id</th>\n",
       "      <th>issue_legacy_level</th>\n",
       "      <th>case_id</th>\n",
       "      <th>kpi_id</th>\n",
       "      <th>industry_id</th>\n",
       "    </tr>\n",
       "  </thead>\n",
       "  <tbody>\n",
       "    <tr>\n",
       "      <th>0</th>\n",
       "      <td>41</td>\n",
       "      <td>NaN</td>\n",
       "      <td>2018-11-17</td>\n",
       "      <td>2019-03-01</td>\n",
       "      <td>NaN</td>\n",
       "      <td>NaN</td>\n",
       "      <td>NaN</td>\n",
       "      <td>NaN</td>\n",
       "      <td>NaN</td>\n",
       "      <td>Not sure; forgot to ask and need to check back...</td>\n",
       "      <td>...</td>\n",
       "      <td>NaN</td>\n",
       "      <td>NaN</td>\n",
       "      <td>NaN</td>\n",
       "      <td>NaN</td>\n",
       "      <td>NaN</td>\n",
       "      <td>1.0</td>\n",
       "      <td>1.0</td>\n",
       "      <td>NaN</td>\n",
       "      <td>NaN</td>\n",
       "      <td>11.0</td>\n",
       "    </tr>\n",
       "    <tr>\n",
       "      <th>1</th>\n",
       "      <td>93</td>\n",
       "      <td>NaN</td>\n",
       "      <td>2018-11-19</td>\n",
       "      <td>2019-09-08</td>\n",
       "      <td>NaN</td>\n",
       "      <td>NaN</td>\n",
       "      <td>NaN</td>\n",
       "      <td>NaN</td>\n",
       "      <td>NaN</td>\n",
       "      <td>Not sure; forgot to ask and need to check back...</td>\n",
       "      <td>...</td>\n",
       "      <td>NaN</td>\n",
       "      <td>NaN</td>\n",
       "      <td>NaN</td>\n",
       "      <td>NaN</td>\n",
       "      <td>NaN</td>\n",
       "      <td>1.0</td>\n",
       "      <td>2.0</td>\n",
       "      <td>NaN</td>\n",
       "      <td>NaN</td>\n",
       "      <td>11.0</td>\n",
       "    </tr>\n",
       "    <tr>\n",
       "      <th>2</th>\n",
       "      <td>147</td>\n",
       "      <td>NaN</td>\n",
       "      <td>2018-11-21</td>\n",
       "      <td>2019-09-08</td>\n",
       "      <td>NaN</td>\n",
       "      <td>NaN</td>\n",
       "      <td>NaN</td>\n",
       "      <td>NaN</td>\n",
       "      <td>NaN</td>\n",
       "      <td>NaN</td>\n",
       "      <td>...</td>\n",
       "      <td>NaN</td>\n",
       "      <td>NaN</td>\n",
       "      <td>NaN</td>\n",
       "      <td>NaN</td>\n",
       "      <td>NaN</td>\n",
       "      <td>1.0</td>\n",
       "      <td>2.0</td>\n",
       "      <td>NaN</td>\n",
       "      <td>NaN</td>\n",
       "      <td>11.0</td>\n",
       "    </tr>\n",
       "    <tr>\n",
       "      <th>3</th>\n",
       "      <td>653</td>\n",
       "      <td>NaN</td>\n",
       "      <td>2018-12-18</td>\n",
       "      <td>2019-03-01</td>\n",
       "      <td>NaN</td>\n",
       "      <td>NaN</td>\n",
       "      <td>NaN</td>\n",
       "      <td>NaN</td>\n",
       "      <td>NaN</td>\n",
       "      <td>NaN</td>\n",
       "      <td>...</td>\n",
       "      <td>NaN</td>\n",
       "      <td>NaN</td>\n",
       "      <td>NaN</td>\n",
       "      <td>NaN</td>\n",
       "      <td>NaN</td>\n",
       "      <td>1.0</td>\n",
       "      <td>1.0</td>\n",
       "      <td>NaN</td>\n",
       "      <td>NaN</td>\n",
       "      <td>11.0</td>\n",
       "    </tr>\n",
       "    <tr>\n",
       "      <th>4</th>\n",
       "      <td>693</td>\n",
       "      <td>NaN</td>\n",
       "      <td>2018-12-20</td>\n",
       "      <td>2019-03-01</td>\n",
       "      <td>NaN</td>\n",
       "      <td>NaN</td>\n",
       "      <td>NaN</td>\n",
       "      <td>NaN</td>\n",
       "      <td>NaN</td>\n",
       "      <td>No</td>\n",
       "      <td>...</td>\n",
       "      <td>NaN</td>\n",
       "      <td>NaN</td>\n",
       "      <td>NaN</td>\n",
       "      <td>NaN</td>\n",
       "      <td>NaN</td>\n",
       "      <td>1.0</td>\n",
       "      <td>2.0</td>\n",
       "      <td>NaN</td>\n",
       "      <td>NaN</td>\n",
       "      <td>11.0</td>\n",
       "    </tr>\n",
       "  </tbody>\n",
       "</table>\n",
       "<p>5 rows × 64 columns</p>\n",
       "</div>"
      ],
      "text/plain": [
       "    id  name     created last_modified  client_nickname  client_phonenumber  \\\n",
       "0   41   NaN  2018-11-17    2019-03-01              NaN                 NaN   \n",
       "1   93   NaN  2018-11-19    2019-09-08              NaN                 NaN   \n",
       "2  147   NaN  2018-11-21    2019-09-08              NaN                 NaN   \n",
       "3  653   NaN  2018-12-18    2019-03-01              NaN                 NaN   \n",
       "4  693   NaN  2018-12-20    2019-03-01              NaN                 NaN   \n",
       "\n",
       "   client_line_account  client_facebook_account  client_viber_account  \\\n",
       "0                  NaN                      NaN                   NaN   \n",
       "1                  NaN                      NaN                   NaN   \n",
       "2                  NaN                      NaN                   NaN   \n",
       "3                  NaN                      NaN                   NaN   \n",
       "4                  NaN                      NaN                   NaN   \n",
       "\n",
       "                           client_share_info_consent  ...  \\\n",
       "0  Not sure; forgot to ask and need to check back...  ...   \n",
       "1  Not sure; forgot to ask and need to check back...  ...   \n",
       "2                                                NaN  ...   \n",
       "3                                                NaN  ...   \n",
       "4                                                 No  ...   \n",
       "\n",
       "  debt_bondage_detail_broker issue_getting_better  \\\n",
       "0                        NaN                  NaN   \n",
       "1                        NaN                  NaN   \n",
       "2                        NaN                  NaN   \n",
       "3                        NaN                  NaN   \n",
       "4                        NaN                  NaN   \n",
       "\n",
       "   issue_getting_better_description issue_workers_affected  \\\n",
       "0                               NaN                    NaN   \n",
       "1                               NaN                    NaN   \n",
       "2                               NaN                    NaN   \n",
       "3                               NaN                    NaN   \n",
       "4                               NaN                    NaN   \n",
       "\n",
       "   issue_workers_affected_description case_status_id  issue_legacy_level  \\\n",
       "0                                 NaN            1.0                 1.0   \n",
       "1                                 NaN            1.0                 2.0   \n",
       "2                                 NaN            1.0                 2.0   \n",
       "3                                 NaN            1.0                 1.0   \n",
       "4                                 NaN            1.0                 2.0   \n",
       "\n",
       "   case_id  kpi_id industry_id  \n",
       "0      NaN     NaN        11.0  \n",
       "1      NaN     NaN        11.0  \n",
       "2      NaN     NaN        11.0  \n",
       "3      NaN     NaN        11.0  \n",
       "4      NaN     NaN        11.0  \n",
       "\n",
       "[5 rows x 64 columns]"
      ]
     },
     "execution_count": 42,
     "metadata": {},
     "output_type": "execute_result"
    }
   ],
   "source": [
    "wv = wv.merge(suppliers[['id','industry_id']].rename(columns={'id':'supplier_id'}), on='supplier_id')\n",
    "wv.head()"
   ]
  },
  {
   "cell_type": "code",
   "execution_count": 55,
   "metadata": {},
   "outputs": [
    {
     "data": {
      "text/plain": [
       "(4536, 13197)"
      ]
     },
     "execution_count": 55,
     "metadata": {},
     "output_type": "execute_result"
    }
   ],
   "source": [
    "sum(pd.notnull(wv.industry_id)), wv.shape[0]"
   ]
  },
  {
   "cell_type": "code",
   "execution_count": 50,
   "metadata": {},
   "outputs": [
    {
     "data": {
      "text/html": [
       "<div>\n",
       "<style scoped>\n",
       "    .dataframe tbody tr th:only-of-type {\n",
       "        vertical-align: middle;\n",
       "    }\n",
       "\n",
       "    .dataframe tbody tr th {\n",
       "        vertical-align: top;\n",
       "    }\n",
       "\n",
       "    .dataframe thead th {\n",
       "        text-align: right;\n",
       "    }\n",
       "</style>\n",
       "<table border=\"1\" class=\"dataframe\">\n",
       "  <thead>\n",
       "    <tr style=\"text-align: right;\">\n",
       "      <th></th>\n",
       "      <th>index</th>\n",
       "      <th>count</th>\n",
       "      <th>id</th>\n",
       "      <th>name</th>\n",
       "    </tr>\n",
       "  </thead>\n",
       "  <tbody>\n",
       "    <tr>\n",
       "      <th>0</th>\n",
       "      <td>16.0</td>\n",
       "      <td>2029</td>\n",
       "      <td>16</td>\n",
       "      <td>Seafood</td>\n",
       "    </tr>\n",
       "    <tr>\n",
       "      <th>1</th>\n",
       "      <td>11.0</td>\n",
       "      <td>1788</td>\n",
       "      <td>11</td>\n",
       "      <td>Manufacturing</td>\n",
       "    </tr>\n",
       "    <tr>\n",
       "      <th>2</th>\n",
       "      <td>21.0</td>\n",
       "      <td>559</td>\n",
       "      <td>21</td>\n",
       "      <td>Food and Beverage</td>\n",
       "    </tr>\n",
       "    <tr>\n",
       "      <th>3</th>\n",
       "      <td>17.0</td>\n",
       "      <td>68</td>\n",
       "      <td>17</td>\n",
       "      <td>Services</td>\n",
       "    </tr>\n",
       "    <tr>\n",
       "      <th>4</th>\n",
       "      <td>3.0</td>\n",
       "      <td>49</td>\n",
       "      <td>3</td>\n",
       "      <td>Construction</td>\n",
       "    </tr>\n",
       "    <tr>\n",
       "      <th>5</th>\n",
       "      <td>1.0</td>\n",
       "      <td>43</td>\n",
       "      <td>1</td>\n",
       "      <td>Agriculture and Forestry</td>\n",
       "    </tr>\n",
       "  </tbody>\n",
       "</table>\n",
       "</div>"
      ],
      "text/plain": [
       "   index  count  id                      name\n",
       "0   16.0   2029  16                   Seafood\n",
       "1   11.0   1788  11             Manufacturing\n",
       "2   21.0    559  21         Food and Beverage\n",
       "3   17.0     68  17                  Services\n",
       "4    3.0     49   3              Construction\n",
       "5    1.0     43   1  Agriculture and Forestry"
      ]
     },
     "execution_count": 50,
     "metadata": {},
     "output_type": "execute_result"
    }
   ],
   "source": [
    "wv_ind_count = wv.industry_id.value_counts().reset_index().rename(columns={'industry_id':'count'})\n",
    "wv_ind_count = pd.merge(wv_ind_count, industries, left_on='index', right_on='id', how='left')\n",
    "wv_ind_count"
   ]
  },
  {
   "cell_type": "code",
   "execution_count": 46,
   "metadata": {},
   "outputs": [
    {
     "data": {
      "text/html": [
       "<div>\n",
       "<style scoped>\n",
       "    .dataframe tbody tr th:only-of-type {\n",
       "        vertical-align: middle;\n",
       "    }\n",
       "\n",
       "    .dataframe tbody tr th {\n",
       "        vertical-align: top;\n",
       "    }\n",
       "\n",
       "    .dataframe thead th {\n",
       "        text-align: right;\n",
       "    }\n",
       "</style>\n",
       "<table border=\"1\" class=\"dataframe\">\n",
       "  <thead>\n",
       "    <tr style=\"text-align: right;\">\n",
       "      <th></th>\n",
       "      <th>id</th>\n",
       "      <th>name</th>\n",
       "    </tr>\n",
       "  </thead>\n",
       "  <tbody>\n",
       "    <tr>\n",
       "      <th>0</th>\n",
       "      <td>1</td>\n",
       "      <td>Agriculture and Forestry</td>\n",
       "    </tr>\n",
       "    <tr>\n",
       "      <th>1</th>\n",
       "      <td>3</td>\n",
       "      <td>Construction</td>\n",
       "    </tr>\n",
       "    <tr>\n",
       "      <th>2</th>\n",
       "      <td>11</td>\n",
       "      <td>Manufacturing</td>\n",
       "    </tr>\n",
       "    <tr>\n",
       "      <th>3</th>\n",
       "      <td>12</td>\n",
       "      <td>Mining</td>\n",
       "    </tr>\n",
       "    <tr>\n",
       "      <th>4</th>\n",
       "      <td>13</td>\n",
       "      <td>Packaging</td>\n",
       "    </tr>\n",
       "    <tr>\n",
       "      <th>5</th>\n",
       "      <td>16</td>\n",
       "      <td>Seafood</td>\n",
       "    </tr>\n",
       "    <tr>\n",
       "      <th>6</th>\n",
       "      <td>17</td>\n",
       "      <td>Services</td>\n",
       "    </tr>\n",
       "    <tr>\n",
       "      <th>7</th>\n",
       "      <td>19</td>\n",
       "      <td>Waste Management and Recycling</td>\n",
       "    </tr>\n",
       "    <tr>\n",
       "      <th>8</th>\n",
       "      <td>21</td>\n",
       "      <td>Food and Beverage</td>\n",
       "    </tr>\n",
       "  </tbody>\n",
       "</table>\n",
       "</div>"
      ],
      "text/plain": [
       "   id                            name\n",
       "0   1        Agriculture and Forestry\n",
       "1   3                    Construction\n",
       "2  11                   Manufacturing\n",
       "3  12                          Mining\n",
       "4  13                       Packaging\n",
       "5  16                         Seafood\n",
       "6  17                        Services\n",
       "7  19  Waste Management and Recycling\n",
       "8  21               Food and Beverage"
      ]
     },
     "execution_count": 46,
     "metadata": {},
     "output_type": "execute_result"
    }
   ],
   "source": [
    "industries = pd.read_csv(data_dir+'industries.csv')\n",
    "industries"
   ]
  },
  {
   "cell_type": "code",
   "execution_count": 52,
   "metadata": {},
   "outputs": [
    {
     "data": {
      "image/png": "[encoded data removed]",
      "text/plain": [
       "<Figure size 432x288 with 1 Axes>"
      ]
     },
     "metadata": {
      "needs_background": "light"
     },
     "output_type": "display_data"
    }
   ],
   "source": [
    "sns.barplot(x='name', y='count', data=wv_ind_count)\n",
    "plt.xticks(rotation='45')\n",
    "plt.title('industry composition for wv call')\n",
    "plt.show()"
   ]
  },
  {
   "cell_type": "code",
   "execution_count": null,
   "metadata": {},
   "outputs": [],
   "source": []
  }
 ],
 "metadata": {
  "kernelspec": {
   "display_name": "Python 3",
   "language": "python",
   "name": "python3"
  },
  "language_info": {
   "codemirror_mode": {
    "name": "ipython",
    "version": 3
   },
   "file_extension": ".py",
   "mimetype": "text/x-python",
   "name": "python",
   "nbconvert_exporter": "python",
   "pygments_lexer": "ipython3",
   "version": "3.7.7"
  }
 },
 "nbformat": 4,
 "nbformat_minor": 2
}
